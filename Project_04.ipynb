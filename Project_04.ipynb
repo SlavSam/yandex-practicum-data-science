{
 "cells": [
  {
   "cell_type": "markdown",
   "id": "d63af75f",
   "metadata": {},
   "source": [
    "# Статистический анализ данных сервиса аренды самокатов\n",
    "\n",
    "**Цель проекта:** на основе переданных данных о некоторых пользователях из нескольких городов, а также об их поездках, необходимо сделать анализ сервиса аренды самокатов и проверить некоторые гипотезы."
   ]
  },
  {
   "cell_type": "markdown",
   "id": "c42cbe00",
   "metadata": {},
   "source": [
    "#### Шаг 1. Загрузка данных"
   ]
  },
  {
   "cell_type": "code",
   "execution_count": 1,
   "id": "eff9f206",
   "metadata": {
    "scrolled": true
   },
   "outputs": [
    {
     "data": {
      "text/html": [
       "<div>\n",
       "<style scoped>\n",
       "    .dataframe tbody tr th:only-of-type {\n",
       "        vertical-align: middle;\n",
       "    }\n",
       "\n",
       "    .dataframe tbody tr th {\n",
       "        vertical-align: top;\n",
       "    }\n",
       "\n",
       "    .dataframe thead th {\n",
       "        text-align: right;\n",
       "    }\n",
       "</style>\n",
       "<table border=\"1\" class=\"dataframe\">\n",
       "  <thead>\n",
       "    <tr style=\"text-align: right;\">\n",
       "      <th></th>\n",
       "      <th>user_id</th>\n",
       "      <th>name</th>\n",
       "      <th>age</th>\n",
       "      <th>city</th>\n",
       "      <th>subscription_type</th>\n",
       "    </tr>\n",
       "  </thead>\n",
       "  <tbody>\n",
       "    <tr>\n",
       "      <th>0</th>\n",
       "      <td>1</td>\n",
       "      <td>Кира</td>\n",
       "      <td>22</td>\n",
       "      <td>Тюмень</td>\n",
       "      <td>ultra</td>\n",
       "    </tr>\n",
       "    <tr>\n",
       "      <th>1</th>\n",
       "      <td>2</td>\n",
       "      <td>Станислав</td>\n",
       "      <td>31</td>\n",
       "      <td>Омск</td>\n",
       "      <td>ultra</td>\n",
       "    </tr>\n",
       "    <tr>\n",
       "      <th>2</th>\n",
       "      <td>3</td>\n",
       "      <td>Алексей</td>\n",
       "      <td>20</td>\n",
       "      <td>Москва</td>\n",
       "      <td>ultra</td>\n",
       "    </tr>\n",
       "    <tr>\n",
       "      <th>3</th>\n",
       "      <td>4</td>\n",
       "      <td>Константин</td>\n",
       "      <td>26</td>\n",
       "      <td>Ростов-на-Дону</td>\n",
       "      <td>ultra</td>\n",
       "    </tr>\n",
       "    <tr>\n",
       "      <th>4</th>\n",
       "      <td>5</td>\n",
       "      <td>Адель</td>\n",
       "      <td>28</td>\n",
       "      <td>Омск</td>\n",
       "      <td>ultra</td>\n",
       "    </tr>\n",
       "    <tr>\n",
       "      <th>...</th>\n",
       "      <td>...</td>\n",
       "      <td>...</td>\n",
       "      <td>...</td>\n",
       "      <td>...</td>\n",
       "      <td>...</td>\n",
       "    </tr>\n",
       "    <tr>\n",
       "      <th>1560</th>\n",
       "      <td>829</td>\n",
       "      <td>Федор</td>\n",
       "      <td>29</td>\n",
       "      <td>Пятигорск</td>\n",
       "      <td>free</td>\n",
       "    </tr>\n",
       "    <tr>\n",
       "      <th>1561</th>\n",
       "      <td>809</td>\n",
       "      <td>Юрий</td>\n",
       "      <td>26</td>\n",
       "      <td>Сочи</td>\n",
       "      <td>free</td>\n",
       "    </tr>\n",
       "    <tr>\n",
       "      <th>1562</th>\n",
       "      <td>307</td>\n",
       "      <td>Ясмина</td>\n",
       "      <td>19</td>\n",
       "      <td>Краснодар</td>\n",
       "      <td>ultra</td>\n",
       "    </tr>\n",
       "    <tr>\n",
       "      <th>1563</th>\n",
       "      <td>47</td>\n",
       "      <td>Юрий</td>\n",
       "      <td>28</td>\n",
       "      <td>Тюмень</td>\n",
       "      <td>ultra</td>\n",
       "    </tr>\n",
       "    <tr>\n",
       "      <th>1564</th>\n",
       "      <td>1045</td>\n",
       "      <td>Артемий</td>\n",
       "      <td>28</td>\n",
       "      <td>Ростов-на-Дону</td>\n",
       "      <td>free</td>\n",
       "    </tr>\n",
       "  </tbody>\n",
       "</table>\n",
       "<p>1565 rows × 5 columns</p>\n",
       "</div>"
      ],
      "text/plain": [
       "      user_id        name  age            city subscription_type\n",
       "0           1        Кира   22          Тюмень             ultra\n",
       "1           2   Станислав   31            Омск             ultra\n",
       "2           3     Алексей   20          Москва             ultra\n",
       "3           4  Константин   26  Ростов-на-Дону             ultra\n",
       "4           5       Адель   28            Омск             ultra\n",
       "...       ...         ...  ...             ...               ...\n",
       "1560      829       Федор   29       Пятигорск              free\n",
       "1561      809        Юрий   26            Сочи              free\n",
       "1562      307      Ясмина   19       Краснодар             ultra\n",
       "1563       47        Юрий   28          Тюмень             ultra\n",
       "1564     1045     Артемий   28  Ростов-на-Дону              free\n",
       "\n",
       "[1565 rows x 5 columns]"
      ]
     },
     "metadata": {},
     "output_type": "display_data"
    },
    {
     "name": "stdout",
     "output_type": "stream",
     "text": [
      "<class 'pandas.core.frame.DataFrame'>\n",
      "RangeIndex: 1565 entries, 0 to 1564\n",
      "Data columns (total 5 columns):\n",
      " #   Column             Non-Null Count  Dtype \n",
      "---  ------             --------------  ----- \n",
      " 0   user_id            1565 non-null   int64 \n",
      " 1   name               1565 non-null   object\n",
      " 2   age                1565 non-null   int64 \n",
      " 3   city               1565 non-null   object\n",
      " 4   subscription_type  1565 non-null   object\n",
      "dtypes: int64(2), object(3)\n",
      "memory usage: 61.3+ KB\n",
      "None\n"
     ]
    },
    {
     "data": {
      "text/html": [
       "<div>\n",
       "<style scoped>\n",
       "    .dataframe tbody tr th:only-of-type {\n",
       "        vertical-align: middle;\n",
       "    }\n",
       "\n",
       "    .dataframe tbody tr th {\n",
       "        vertical-align: top;\n",
       "    }\n",
       "\n",
       "    .dataframe thead th {\n",
       "        text-align: right;\n",
       "    }\n",
       "</style>\n",
       "<table border=\"1\" class=\"dataframe\">\n",
       "  <thead>\n",
       "    <tr style=\"text-align: right;\">\n",
       "      <th></th>\n",
       "      <th>user_id</th>\n",
       "      <th>distance</th>\n",
       "      <th>duration</th>\n",
       "      <th>date</th>\n",
       "    </tr>\n",
       "  </thead>\n",
       "  <tbody>\n",
       "    <tr>\n",
       "      <th>0</th>\n",
       "      <td>1</td>\n",
       "      <td>4409.919140</td>\n",
       "      <td>25.599769</td>\n",
       "      <td>2021-01-01</td>\n",
       "    </tr>\n",
       "    <tr>\n",
       "      <th>1</th>\n",
       "      <td>1</td>\n",
       "      <td>2617.592153</td>\n",
       "      <td>15.816871</td>\n",
       "      <td>2021-01-18</td>\n",
       "    </tr>\n",
       "    <tr>\n",
       "      <th>2</th>\n",
       "      <td>1</td>\n",
       "      <td>754.159807</td>\n",
       "      <td>6.232113</td>\n",
       "      <td>2021-04-20</td>\n",
       "    </tr>\n",
       "    <tr>\n",
       "      <th>3</th>\n",
       "      <td>1</td>\n",
       "      <td>2694.783254</td>\n",
       "      <td>18.511000</td>\n",
       "      <td>2021-08-11</td>\n",
       "    </tr>\n",
       "    <tr>\n",
       "      <th>4</th>\n",
       "      <td>1</td>\n",
       "      <td>4028.687306</td>\n",
       "      <td>26.265803</td>\n",
       "      <td>2021-08-28</td>\n",
       "    </tr>\n",
       "    <tr>\n",
       "      <th>...</th>\n",
       "      <td>...</td>\n",
       "      <td>...</td>\n",
       "      <td>...</td>\n",
       "      <td>...</td>\n",
       "    </tr>\n",
       "    <tr>\n",
       "      <th>18063</th>\n",
       "      <td>1534</td>\n",
       "      <td>3781.098080</td>\n",
       "      <td>19.822962</td>\n",
       "      <td>2021-11-04</td>\n",
       "    </tr>\n",
       "    <tr>\n",
       "      <th>18064</th>\n",
       "      <td>1534</td>\n",
       "      <td>2840.423057</td>\n",
       "      <td>21.409799</td>\n",
       "      <td>2021-11-16</td>\n",
       "    </tr>\n",
       "    <tr>\n",
       "      <th>18065</th>\n",
       "      <td>1534</td>\n",
       "      <td>3826.185507</td>\n",
       "      <td>18.435051</td>\n",
       "      <td>2021-11-18</td>\n",
       "    </tr>\n",
       "    <tr>\n",
       "      <th>18066</th>\n",
       "      <td>1534</td>\n",
       "      <td>2902.308661</td>\n",
       "      <td>16.674362</td>\n",
       "      <td>2021-11-27</td>\n",
       "    </tr>\n",
       "    <tr>\n",
       "      <th>18067</th>\n",
       "      <td>1534</td>\n",
       "      <td>2371.711192</td>\n",
       "      <td>15.893917</td>\n",
       "      <td>2021-12-29</td>\n",
       "    </tr>\n",
       "  </tbody>\n",
       "</table>\n",
       "<p>18068 rows × 4 columns</p>\n",
       "</div>"
      ],
      "text/plain": [
       "       user_id     distance   duration        date\n",
       "0            1  4409.919140  25.599769  2021-01-01\n",
       "1            1  2617.592153  15.816871  2021-01-18\n",
       "2            1   754.159807   6.232113  2021-04-20\n",
       "3            1  2694.783254  18.511000  2021-08-11\n",
       "4            1  4028.687306  26.265803  2021-08-28\n",
       "...        ...          ...        ...         ...\n",
       "18063     1534  3781.098080  19.822962  2021-11-04\n",
       "18064     1534  2840.423057  21.409799  2021-11-16\n",
       "18065     1534  3826.185507  18.435051  2021-11-18\n",
       "18066     1534  2902.308661  16.674362  2021-11-27\n",
       "18067     1534  2371.711192  15.893917  2021-12-29\n",
       "\n",
       "[18068 rows x 4 columns]"
      ]
     },
     "metadata": {},
     "output_type": "display_data"
    },
    {
     "name": "stdout",
     "output_type": "stream",
     "text": [
      "<class 'pandas.core.frame.DataFrame'>\n",
      "RangeIndex: 18068 entries, 0 to 18067\n",
      "Data columns (total 4 columns):\n",
      " #   Column    Non-Null Count  Dtype  \n",
      "---  ------    --------------  -----  \n",
      " 0   user_id   18068 non-null  int64  \n",
      " 1   distance  18068 non-null  float64\n",
      " 2   duration  18068 non-null  float64\n",
      " 3   date      18068 non-null  object \n",
      "dtypes: float64(2), int64(1), object(1)\n",
      "memory usage: 564.8+ KB\n",
      "None\n"
     ]
    },
    {
     "data": {
      "text/html": [
       "<div>\n",
       "<style scoped>\n",
       "    .dataframe tbody tr th:only-of-type {\n",
       "        vertical-align: middle;\n",
       "    }\n",
       "\n",
       "    .dataframe tbody tr th {\n",
       "        vertical-align: top;\n",
       "    }\n",
       "\n",
       "    .dataframe thead th {\n",
       "        text-align: right;\n",
       "    }\n",
       "</style>\n",
       "<table border=\"1\" class=\"dataframe\">\n",
       "  <thead>\n",
       "    <tr style=\"text-align: right;\">\n",
       "      <th></th>\n",
       "      <th>subscription_type</th>\n",
       "      <th>minute_price</th>\n",
       "      <th>start_ride_price</th>\n",
       "      <th>subscription_fee</th>\n",
       "    </tr>\n",
       "  </thead>\n",
       "  <tbody>\n",
       "    <tr>\n",
       "      <th>0</th>\n",
       "      <td>free</td>\n",
       "      <td>8</td>\n",
       "      <td>50</td>\n",
       "      <td>0</td>\n",
       "    </tr>\n",
       "    <tr>\n",
       "      <th>1</th>\n",
       "      <td>ultra</td>\n",
       "      <td>6</td>\n",
       "      <td>0</td>\n",
       "      <td>199</td>\n",
       "    </tr>\n",
       "  </tbody>\n",
       "</table>\n",
       "</div>"
      ],
      "text/plain": [
       "  subscription_type  minute_price  start_ride_price  subscription_fee\n",
       "0              free             8                50                 0\n",
       "1             ultra             6                 0               199"
      ]
     },
     "metadata": {},
     "output_type": "display_data"
    },
    {
     "name": "stdout",
     "output_type": "stream",
     "text": [
      "<class 'pandas.core.frame.DataFrame'>\n",
      "RangeIndex: 2 entries, 0 to 1\n",
      "Data columns (total 4 columns):\n",
      " #   Column             Non-Null Count  Dtype \n",
      "---  ------             --------------  ----- \n",
      " 0   subscription_type  2 non-null      object\n",
      " 1   minute_price       2 non-null      int64 \n",
      " 2   start_ride_price   2 non-null      int64 \n",
      " 3   subscription_fee   2 non-null      int64 \n",
      "dtypes: int64(3), object(1)\n",
      "memory usage: 192.0+ bytes\n",
      "None\n"
     ]
    }
   ],
   "source": [
    "import pandas as pd\n",
    "import matplotlib.pyplot as plt\n",
    "import numpy as np\n",
    "from scipy import stats as st\n",
    "from scipy.stats import binom\n",
    "\n",
    "df1 = pd.read_csv('/datasets/users_go.csv')\n",
    "df2 = pd.read_csv('/datasets/rides_go.csv')\n",
    "df3 = pd.read_csv('/datasets/subscriptions_go.csv')\n",
    "\n",
    "display(df1)\n",
    "print(df1.info())\n",
    "display(df2)\n",
    "print(df2.info())\n",
    "display(df3)\n",
    "print(df3.info())"
   ]
  },
  {
   "cell_type": "markdown",
   "id": "e95ebca7",
   "metadata": {},
   "source": [
    "#### Шаг 2. Предобработка данных\n",
    "\n",
    "Необходимо привести столбец `date` к типу даты pandas, создать новый столбец с номером месяца на основе столбца `date`.\n",
    "Также нужно проверить наличие пропущенных значений и дубликатов в датафреймах и обработать их, если такие значения присутствуют.\n",
    "\n",
    "Дополнительно переведём значения столбца `distance` в километры, а также округлим значения столбцов `distance` и `round` до двух знаков после запятой."
   ]
  },
  {
   "cell_type": "code",
   "execution_count": 2,
   "id": "af6d202c",
   "metadata": {
    "scrolled": true
   },
   "outputs": [
    {
     "data": {
      "text/html": [
       "<div>\n",
       "<style scoped>\n",
       "    .dataframe tbody tr th:only-of-type {\n",
       "        vertical-align: middle;\n",
       "    }\n",
       "\n",
       "    .dataframe tbody tr th {\n",
       "        vertical-align: top;\n",
       "    }\n",
       "\n",
       "    .dataframe thead th {\n",
       "        text-align: right;\n",
       "    }\n",
       "</style>\n",
       "<table border=\"1\" class=\"dataframe\">\n",
       "  <thead>\n",
       "    <tr style=\"text-align: right;\">\n",
       "      <th></th>\n",
       "      <th>user_id</th>\n",
       "      <th>distance</th>\n",
       "      <th>duration</th>\n",
       "      <th>date</th>\n",
       "      <th>month</th>\n",
       "    </tr>\n",
       "  </thead>\n",
       "  <tbody>\n",
       "    <tr>\n",
       "      <th>0</th>\n",
       "      <td>1</td>\n",
       "      <td>4.41</td>\n",
       "      <td>25.60</td>\n",
       "      <td>2021-01-01</td>\n",
       "      <td>2021-01-01</td>\n",
       "    </tr>\n",
       "    <tr>\n",
       "      <th>1</th>\n",
       "      <td>1</td>\n",
       "      <td>2.62</td>\n",
       "      <td>15.82</td>\n",
       "      <td>2021-01-18</td>\n",
       "      <td>2021-01-01</td>\n",
       "    </tr>\n",
       "    <tr>\n",
       "      <th>2</th>\n",
       "      <td>1</td>\n",
       "      <td>0.75</td>\n",
       "      <td>6.23</td>\n",
       "      <td>2021-04-20</td>\n",
       "      <td>2021-04-01</td>\n",
       "    </tr>\n",
       "    <tr>\n",
       "      <th>3</th>\n",
       "      <td>1</td>\n",
       "      <td>2.69</td>\n",
       "      <td>18.51</td>\n",
       "      <td>2021-08-11</td>\n",
       "      <td>2021-08-01</td>\n",
       "    </tr>\n",
       "    <tr>\n",
       "      <th>4</th>\n",
       "      <td>1</td>\n",
       "      <td>4.03</td>\n",
       "      <td>26.27</td>\n",
       "      <td>2021-08-28</td>\n",
       "      <td>2021-08-01</td>\n",
       "    </tr>\n",
       "    <tr>\n",
       "      <th>...</th>\n",
       "      <td>...</td>\n",
       "      <td>...</td>\n",
       "      <td>...</td>\n",
       "      <td>...</td>\n",
       "      <td>...</td>\n",
       "    </tr>\n",
       "    <tr>\n",
       "      <th>18063</th>\n",
       "      <td>1534</td>\n",
       "      <td>3.78</td>\n",
       "      <td>19.82</td>\n",
       "      <td>2021-11-04</td>\n",
       "      <td>2021-11-01</td>\n",
       "    </tr>\n",
       "    <tr>\n",
       "      <th>18064</th>\n",
       "      <td>1534</td>\n",
       "      <td>2.84</td>\n",
       "      <td>21.41</td>\n",
       "      <td>2021-11-16</td>\n",
       "      <td>2021-11-01</td>\n",
       "    </tr>\n",
       "    <tr>\n",
       "      <th>18065</th>\n",
       "      <td>1534</td>\n",
       "      <td>3.83</td>\n",
       "      <td>18.44</td>\n",
       "      <td>2021-11-18</td>\n",
       "      <td>2021-11-01</td>\n",
       "    </tr>\n",
       "    <tr>\n",
       "      <th>18066</th>\n",
       "      <td>1534</td>\n",
       "      <td>2.90</td>\n",
       "      <td>16.67</td>\n",
       "      <td>2021-11-27</td>\n",
       "      <td>2021-11-01</td>\n",
       "    </tr>\n",
       "    <tr>\n",
       "      <th>18067</th>\n",
       "      <td>1534</td>\n",
       "      <td>2.37</td>\n",
       "      <td>15.89</td>\n",
       "      <td>2021-12-29</td>\n",
       "      <td>2021-12-01</td>\n",
       "    </tr>\n",
       "  </tbody>\n",
       "</table>\n",
       "<p>18068 rows × 5 columns</p>\n",
       "</div>"
      ],
      "text/plain": [
       "       user_id  distance  duration       date      month\n",
       "0            1      4.41     25.60 2021-01-01 2021-01-01\n",
       "1            1      2.62     15.82 2021-01-18 2021-01-01\n",
       "2            1      0.75      6.23 2021-04-20 2021-04-01\n",
       "3            1      2.69     18.51 2021-08-11 2021-08-01\n",
       "4            1      4.03     26.27 2021-08-28 2021-08-01\n",
       "...        ...       ...       ...        ...        ...\n",
       "18063     1534      3.78     19.82 2021-11-04 2021-11-01\n",
       "18064     1534      2.84     21.41 2021-11-16 2021-11-01\n",
       "18065     1534      3.83     18.44 2021-11-18 2021-11-01\n",
       "18066     1534      2.90     16.67 2021-11-27 2021-11-01\n",
       "18067     1534      2.37     15.89 2021-12-29 2021-12-01\n",
       "\n",
       "[18068 rows x 5 columns]"
      ]
     },
     "metadata": {},
     "output_type": "display_data"
    },
    {
     "name": "stdout",
     "output_type": "stream",
     "text": [
      "<class 'pandas.core.frame.DataFrame'>\n",
      "RangeIndex: 18068 entries, 0 to 18067\n",
      "Data columns (total 5 columns):\n",
      " #   Column    Non-Null Count  Dtype         \n",
      "---  ------    --------------  -----         \n",
      " 0   user_id   18068 non-null  int64         \n",
      " 1   distance  18068 non-null  float64       \n",
      " 2   duration  18068 non-null  float64       \n",
      " 3   date      18068 non-null  datetime64[ns]\n",
      " 4   month     18068 non-null  datetime64[ns]\n",
      "dtypes: datetime64[ns](2), float64(2), int64(1)\n",
      "memory usage: 705.9 KB\n",
      "None\n"
     ]
    }
   ],
   "source": [
    "df2['date'] = pd.to_datetime(df2['date'], yearfirst=True)\n",
    "df2['distance'] = round(df2['distance'] / 1000, 2)\n",
    "df2['duration'] = round(df2['duration'], 2)\n",
    "df2['month'] = df2['date'].astype('datetime64[M]')\n",
    "display(df2)\n",
    "print(df2.info())"
   ]
  },
  {
   "cell_type": "code",
   "execution_count": 3,
   "id": "d9d1ee5e",
   "metadata": {
    "scrolled": true
   },
   "outputs": [
    {
     "data": {
      "text/html": [
       "<div>\n",
       "<style scoped>\n",
       "    .dataframe tbody tr th:only-of-type {\n",
       "        vertical-align: middle;\n",
       "    }\n",
       "\n",
       "    .dataframe tbody tr th {\n",
       "        vertical-align: top;\n",
       "    }\n",
       "\n",
       "    .dataframe thead th {\n",
       "        text-align: right;\n",
       "    }\n",
       "</style>\n",
       "<table border=\"1\" class=\"dataframe\">\n",
       "  <thead>\n",
       "    <tr style=\"text-align: right;\">\n",
       "      <th></th>\n",
       "      <th>user_id</th>\n",
       "      <th>name</th>\n",
       "      <th>age</th>\n",
       "      <th>city</th>\n",
       "      <th>subscription_type</th>\n",
       "    </tr>\n",
       "  </thead>\n",
       "  <tbody>\n",
       "    <tr>\n",
       "      <th>0</th>\n",
       "      <td>1</td>\n",
       "      <td>Кира</td>\n",
       "      <td>22</td>\n",
       "      <td>Тюмень</td>\n",
       "      <td>ultra</td>\n",
       "    </tr>\n",
       "    <tr>\n",
       "      <th>1</th>\n",
       "      <td>2</td>\n",
       "      <td>Станислав</td>\n",
       "      <td>31</td>\n",
       "      <td>Омск</td>\n",
       "      <td>ultra</td>\n",
       "    </tr>\n",
       "    <tr>\n",
       "      <th>2</th>\n",
       "      <td>3</td>\n",
       "      <td>Алексей</td>\n",
       "      <td>20</td>\n",
       "      <td>Москва</td>\n",
       "      <td>ultra</td>\n",
       "    </tr>\n",
       "    <tr>\n",
       "      <th>3</th>\n",
       "      <td>4</td>\n",
       "      <td>Константин</td>\n",
       "      <td>26</td>\n",
       "      <td>Ростов-на-Дону</td>\n",
       "      <td>ultra</td>\n",
       "    </tr>\n",
       "    <tr>\n",
       "      <th>4</th>\n",
       "      <td>5</td>\n",
       "      <td>Адель</td>\n",
       "      <td>28</td>\n",
       "      <td>Омск</td>\n",
       "      <td>ultra</td>\n",
       "    </tr>\n",
       "    <tr>\n",
       "      <th>...</th>\n",
       "      <td>...</td>\n",
       "      <td>...</td>\n",
       "      <td>...</td>\n",
       "      <td>...</td>\n",
       "      <td>...</td>\n",
       "    </tr>\n",
       "    <tr>\n",
       "      <th>1529</th>\n",
       "      <td>1530</td>\n",
       "      <td>Ростислав</td>\n",
       "      <td>29</td>\n",
       "      <td>Сочи</td>\n",
       "      <td>free</td>\n",
       "    </tr>\n",
       "    <tr>\n",
       "      <th>1530</th>\n",
       "      <td>1531</td>\n",
       "      <td>Никита</td>\n",
       "      <td>25</td>\n",
       "      <td>Пятигорск</td>\n",
       "      <td>free</td>\n",
       "    </tr>\n",
       "    <tr>\n",
       "      <th>1531</th>\n",
       "      <td>1532</td>\n",
       "      <td>Алексей</td>\n",
       "      <td>26</td>\n",
       "      <td>Тюмень</td>\n",
       "      <td>free</td>\n",
       "    </tr>\n",
       "    <tr>\n",
       "      <th>1532</th>\n",
       "      <td>1533</td>\n",
       "      <td>Степан</td>\n",
       "      <td>22</td>\n",
       "      <td>Краснодар</td>\n",
       "      <td>free</td>\n",
       "    </tr>\n",
       "    <tr>\n",
       "      <th>1533</th>\n",
       "      <td>1534</td>\n",
       "      <td>Альберт</td>\n",
       "      <td>25</td>\n",
       "      <td>Краснодар</td>\n",
       "      <td>free</td>\n",
       "    </tr>\n",
       "  </tbody>\n",
       "</table>\n",
       "<p>1534 rows × 5 columns</p>\n",
       "</div>"
      ],
      "text/plain": [
       "      user_id        name  age            city subscription_type\n",
       "0           1        Кира   22          Тюмень             ultra\n",
       "1           2   Станислав   31            Омск             ultra\n",
       "2           3     Алексей   20          Москва             ultra\n",
       "3           4  Константин   26  Ростов-на-Дону             ultra\n",
       "4           5       Адель   28            Омск             ultra\n",
       "...       ...         ...  ...             ...               ...\n",
       "1529     1530   Ростислав   29            Сочи              free\n",
       "1530     1531      Никита   25       Пятигорск              free\n",
       "1531     1532     Алексей   26          Тюмень              free\n",
       "1532     1533      Степан   22       Краснодар              free\n",
       "1533     1534     Альберт   25       Краснодар              free\n",
       "\n",
       "[1534 rows x 5 columns]"
      ]
     },
     "metadata": {},
     "output_type": "display_data"
    },
    {
     "name": "stdout",
     "output_type": "stream",
     "text": [
      "<class 'pandas.core.frame.DataFrame'>\n",
      "Int64Index: 1534 entries, 0 to 1533\n",
      "Data columns (total 5 columns):\n",
      " #   Column             Non-Null Count  Dtype \n",
      "---  ------             --------------  ----- \n",
      " 0   user_id            1534 non-null   int64 \n",
      " 1   name               1534 non-null   object\n",
      " 2   age                1534 non-null   int64 \n",
      " 3   city               1534 non-null   object\n",
      " 4   subscription_type  1534 non-null   object\n",
      "dtypes: int64(2), object(3)\n",
      "memory usage: 71.9+ KB\n",
      "None\n"
     ]
    }
   ],
   "source": [
    "df1.drop_duplicates(inplace=True)\n",
    "display(df1)\n",
    "print(df1.info())"
   ]
  },
  {
   "cell_type": "markdown",
   "id": "212593c7",
   "metadata": {},
   "source": [
    "Предобработка данных выполнена: дубликаты в первом датафрейме удалены, необходимые манипуляции со столбцами выполнены. Пропуски во всех датафреймах отсутствуют.\n",
    "\n",
    "---\n",
    "\n",
    "#### Шаг 3. Исследовательский анализ данных\n",
    "\n",
    "Опишем и визуализируем общую информацию о пользователях и поездках."
   ]
  },
  {
   "cell_type": "code",
   "execution_count": 4,
   "id": "1da4fefe",
   "metadata": {},
   "outputs": [
    {
     "data": {
      "text/html": [
       "<div>\n",
       "<style scoped>\n",
       "    .dataframe tbody tr th:only-of-type {\n",
       "        vertical-align: middle;\n",
       "    }\n",
       "\n",
       "    .dataframe tbody tr th {\n",
       "        vertical-align: top;\n",
       "    }\n",
       "\n",
       "    .dataframe thead th {\n",
       "        text-align: right;\n",
       "    }\n",
       "</style>\n",
       "<table border=\"1\" class=\"dataframe\">\n",
       "  <thead>\n",
       "    <tr style=\"text-align: right;\">\n",
       "      <th></th>\n",
       "      <th>city</th>\n",
       "    </tr>\n",
       "  </thead>\n",
       "  <tbody>\n",
       "    <tr>\n",
       "      <th>Пятигорск</th>\n",
       "      <td>219</td>\n",
       "    </tr>\n",
       "    <tr>\n",
       "      <th>Екатеринбург</th>\n",
       "      <td>204</td>\n",
       "    </tr>\n",
       "    <tr>\n",
       "      <th>Ростов-на-Дону</th>\n",
       "      <td>198</td>\n",
       "    </tr>\n",
       "    <tr>\n",
       "      <th>Краснодар</th>\n",
       "      <td>193</td>\n",
       "    </tr>\n",
       "    <tr>\n",
       "      <th>Сочи</th>\n",
       "      <td>189</td>\n",
       "    </tr>\n",
       "    <tr>\n",
       "      <th>Омск</th>\n",
       "      <td>183</td>\n",
       "    </tr>\n",
       "    <tr>\n",
       "      <th>Тюмень</th>\n",
       "      <td>180</td>\n",
       "    </tr>\n",
       "    <tr>\n",
       "      <th>Москва</th>\n",
       "      <td>168</td>\n",
       "    </tr>\n",
       "  </tbody>\n",
       "</table>\n",
       "</div>"
      ],
      "text/plain": [
       "                city\n",
       "Пятигорск        219\n",
       "Екатеринбург     204\n",
       "Ростов-на-Дону   198\n",
       "Краснодар        193\n",
       "Сочи             189\n",
       "Омск             183\n",
       "Тюмень           180\n",
       "Москва           168"
      ]
     },
     "metadata": {},
     "output_type": "display_data"
    },
    {
     "data": {
      "image/png": "[encoded data removed]",
      "text/plain": [
       "<Figure size 432x288 with 1 Axes>"
      ]
     },
     "metadata": {
      "needs_background": "light"
     },
     "output_type": "display_data"
    },
    {
     "data": {
      "text/html": [
       "<div>\n",
       "<style scoped>\n",
       "    .dataframe tbody tr th:only-of-type {\n",
       "        vertical-align: middle;\n",
       "    }\n",
       "\n",
       "    .dataframe tbody tr th {\n",
       "        vertical-align: top;\n",
       "    }\n",
       "\n",
       "    .dataframe thead th {\n",
       "        text-align: right;\n",
       "    }\n",
       "</style>\n",
       "<table border=\"1\" class=\"dataframe\">\n",
       "  <thead>\n",
       "    <tr style=\"text-align: right;\">\n",
       "      <th></th>\n",
       "      <th>subscription_type</th>\n",
       "      <th>percent</th>\n",
       "    </tr>\n",
       "  </thead>\n",
       "  <tbody>\n",
       "    <tr>\n",
       "      <th>free</th>\n",
       "      <td>835</td>\n",
       "      <td>0.54</td>\n",
       "    </tr>\n",
       "    <tr>\n",
       "      <th>ultra</th>\n",
       "      <td>699</td>\n",
       "      <td>0.46</td>\n",
       "    </tr>\n",
       "  </tbody>\n",
       "</table>\n",
       "</div>"
      ],
      "text/plain": [
       "       subscription_type  percent\n",
       "free                 835     0.54\n",
       "ultra                699     0.46"
      ]
     },
     "metadata": {},
     "output_type": "display_data"
    },
    {
     "data": {
      "image/png": "[encoded data removed]",
      "text/plain": [
       "<Figure size 432x288 with 1 Axes>"
      ]
     },
     "metadata": {
      "needs_background": "light"
     },
     "output_type": "display_data"
    },
    {
     "data": {
      "text/html": [
       "<div>\n",
       "<style scoped>\n",
       "    .dataframe tbody tr th:only-of-type {\n",
       "        vertical-align: middle;\n",
       "    }\n",
       "\n",
       "    .dataframe tbody tr th {\n",
       "        vertical-align: top;\n",
       "    }\n",
       "\n",
       "    .dataframe thead th {\n",
       "        text-align: right;\n",
       "    }\n",
       "</style>\n",
       "<table border=\"1\" class=\"dataframe\">\n",
       "  <thead>\n",
       "    <tr style=\"text-align: right;\">\n",
       "      <th></th>\n",
       "      <th>age</th>\n",
       "    </tr>\n",
       "  </thead>\n",
       "  <tbody>\n",
       "    <tr>\n",
       "      <th>count</th>\n",
       "      <td>1534.0</td>\n",
       "    </tr>\n",
       "    <tr>\n",
       "      <th>mean</th>\n",
       "      <td>24.9</td>\n",
       "    </tr>\n",
       "    <tr>\n",
       "      <th>median</th>\n",
       "      <td>25.0</td>\n",
       "    </tr>\n",
       "    <tr>\n",
       "      <th>max</th>\n",
       "      <td>43.0</td>\n",
       "    </tr>\n",
       "    <tr>\n",
       "      <th>min</th>\n",
       "      <td>12.0</td>\n",
       "    </tr>\n",
       "  </tbody>\n",
       "</table>\n",
       "</div>"
      ],
      "text/plain": [
       "           age\n",
       "count   1534.0\n",
       "mean      24.9\n",
       "median    25.0\n",
       "max       43.0\n",
       "min       12.0"
      ]
     },
     "metadata": {},
     "output_type": "display_data"
    },
    {
     "data": {
      "image/png": "[encoded data removed]",
      "text/plain": [
       "<Figure size 432x288 with 1 Axes>"
      ]
     },
     "metadata": {
      "needs_background": "light"
     },
     "output_type": "display_data"
    }
   ],
   "source": [
    "display(df1['city'].value_counts().to_frame())\n",
    "(df1['city']\n",
    "     .value_counts()\n",
    "     .plot(kind='bar', title='Распределение количества клиентов по городам')\n",
    ")\n",
    "plt.xticks(rotation=45)\n",
    "plt.ylabel('Количество клиентов')\n",
    "plt.xlabel('Город')\n",
    "plt.show()\n",
    "\n",
    "sub = df1['subscription_type'].value_counts().to_frame()\n",
    "sub['percent'] = round(sub['subscription_type'] / len(df1), 2)\n",
    "display(sub)\n",
    "\n",
    "(df1['subscription_type']\n",
    "     .value_counts()\n",
    "     .plot(kind='bar', title='Распределение количества клиентов по типу подписки')\n",
    ")\n",
    "plt.xticks(rotation=0)\n",
    "plt.ylabel('Количество клиентов')\n",
    "plt.xlabel('Тип подписки')\n",
    "plt.show()\n",
    "\n",
    "display(round(df1['age'].agg(['count', 'mean', 'median', 'max', 'min']), 2).to_frame())\n",
    "df1['age'].plot(kind='hist', bins = 30, title='Возраст клиентов')\n",
    "plt.ylabel('Количество клиентов')\n",
    "plt.xlabel('Возраст')\n",
    "plt.show()"
   ]
  },
  {
   "cell_type": "code",
   "execution_count": 5,
   "id": "e3a4274c",
   "metadata": {},
   "outputs": [
    {
     "data": {
      "text/html": [
       "<div>\n",
       "<style scoped>\n",
       "    .dataframe tbody tr th:only-of-type {\n",
       "        vertical-align: middle;\n",
       "    }\n",
       "\n",
       "    .dataframe tbody tr th {\n",
       "        vertical-align: top;\n",
       "    }\n",
       "\n",
       "    .dataframe thead th {\n",
       "        text-align: right;\n",
       "    }\n",
       "</style>\n",
       "<table border=\"1\" class=\"dataframe\">\n",
       "  <thead>\n",
       "    <tr style=\"text-align: right;\">\n",
       "      <th></th>\n",
       "      <th>distance</th>\n",
       "      <th>duration</th>\n",
       "    </tr>\n",
       "  </thead>\n",
       "  <tbody>\n",
       "    <tr>\n",
       "      <th>count</th>\n",
       "      <td>18068.00</td>\n",
       "      <td>18068.00</td>\n",
       "    </tr>\n",
       "    <tr>\n",
       "      <th>mean</th>\n",
       "      <td>3.07</td>\n",
       "      <td>17.81</td>\n",
       "    </tr>\n",
       "    <tr>\n",
       "      <th>median</th>\n",
       "      <td>3.13</td>\n",
       "      <td>17.68</td>\n",
       "    </tr>\n",
       "    <tr>\n",
       "      <th>max</th>\n",
       "      <td>7.21</td>\n",
       "      <td>40.82</td>\n",
       "    </tr>\n",
       "    <tr>\n",
       "      <th>min</th>\n",
       "      <td>0.00</td>\n",
       "      <td>0.50</td>\n",
       "    </tr>\n",
       "  </tbody>\n",
       "</table>\n",
       "</div>"
      ],
      "text/plain": [
       "        distance  duration\n",
       "count   18068.00  18068.00\n",
       "mean        3.07     17.81\n",
       "median      3.13     17.68\n",
       "max         7.21     40.82\n",
       "min         0.00      0.50"
      ]
     },
     "metadata": {},
     "output_type": "display_data"
    },
    {
     "data": {
      "image/png": "[encoded data removed]",
      "text/plain": [
       "<Figure size 432x288 with 1 Axes>"
      ]
     },
     "metadata": {
      "needs_background": "light"
     },
     "output_type": "display_data"
    },
    {
     "data": {
      "image/png": "[encoded data removed]",
      "text/plain": [
       "<Figure size 432x288 with 1 Axes>"
      ]
     },
     "metadata": {
      "needs_background": "light"
     },
     "output_type": "display_data"
    }
   ],
   "source": [
    "display(round(df2[['distance', 'duration']].agg(['count', 'mean', 'median', 'max', 'min']), 2))\n",
    "df2['distance'].plot(kind='hist', bins = 20, title='Распределение поездок по дистанции')\n",
    "plt.ylabel('Количество поездок')\n",
    "plt.xlabel('Километры')\n",
    "plt.show()\n",
    "\n",
    "df2['duration'].plot(kind='hist', bins = 20, title='Распределение поездок по длительности')\n",
    "plt.ylabel('Количество поездок')\n",
    "plt.xlabel('Минуты')\n",
    "plt.show()"
   ]
  },
  {
   "cell_type": "markdown",
   "id": "7e774cf0",
   "metadata": {},
   "source": [
    "Рассмотрим подробнее пики на графике дистанции:"
   ]
  },
  {
   "cell_type": "code",
   "execution_count": 6,
   "id": "7ec854e6",
   "metadata": {},
   "outputs": [
    {
     "data": {
      "image/png": "[encoded data removed]",
      "text/plain": [
       "<Figure size 432x288 with 1 Axes>"
      ]
     },
     "metadata": {
      "needs_background": "light"
     },
     "output_type": "display_data"
    },
    {
     "data": {
      "image/png": "[encoded data removed]",
      "text/plain": [
       "<Figure size 432x288 with 1 Axes>"
      ]
     },
     "metadata": {
      "needs_background": "light"
     },
     "output_type": "display_data"
    }
   ],
   "source": [
    "df2['distance'].plot(kind='hist', bins = 15, range=(0, 1.5), title='Распределение поездок по дистанции')\n",
    "plt.ylabel('Количество поездок')\n",
    "plt.xlabel('Километры')\n",
    "plt.show()\n",
    "\n",
    "df2['distance'].plot(kind='hist', bins = 20, range=(2, 5), title='Распределение поездок по дистанции')\n",
    "plt.ylabel('Количество поездок')\n",
    "plt.xlabel('Километры')\n",
    "plt.show()"
   ]
  },
  {
   "cell_type": "markdown",
   "id": "4ef51331",
   "metadata": {},
   "source": [
    "**Промежуточные выводы:**\n",
    "\n",
    "* Наибольшее количество пользователей находится в Пятигорске (218 чел.), наименьшее - в Москве (168 чел.);\n",
    "* Количество обладателей платной подписки почти равно количеству обычных пользователей (46% и 54% соответственно);\n",
    "* Средний возраст пользователя - 25 лет, минимальный - 12, максимальный - 43;\n",
    "\n",
    "При исследовании дальности и продолжительности поездок обнаружены аномальные значения (дистанция от 0 м до 1 км, время поездки - 0,5 с). Возможно, это связано с тем, что пользователи передумывали начинать поездку, закончились средства на балансе, самокаты по какой-либо причине были не пригодны для поездки. В то же время распределения данных величин выглядят корректно, медианы практически совпадают со средними значениями.\n",
    "\n",
    "---\n",
    "\n",
    "#### Шаг 4. Объединение данных\n",
    "\n",
    "Объединим данные о пользователях, поездках и подписках в один датафрейм. Проанализируем данные о пользователях без подписки и с подпиской. Визуализируем информацию о расстоянии и времени поездок для пользователей обеих категорий."
   ]
  },
  {
   "cell_type": "code",
   "execution_count": 7,
   "id": "6bf288b5",
   "metadata": {
    "scrolled": true
   },
   "outputs": [
    {
     "data": {
      "text/html": [
       "<div>\n",
       "<style scoped>\n",
       "    .dataframe tbody tr th:only-of-type {\n",
       "        vertical-align: middle;\n",
       "    }\n",
       "\n",
       "    .dataframe tbody tr th {\n",
       "        vertical-align: top;\n",
       "    }\n",
       "\n",
       "    .dataframe thead th {\n",
       "        text-align: right;\n",
       "    }\n",
       "</style>\n",
       "<table border=\"1\" class=\"dataframe\">\n",
       "  <thead>\n",
       "    <tr style=\"text-align: right;\">\n",
       "      <th></th>\n",
       "      <th>user_id</th>\n",
       "      <th>name</th>\n",
       "      <th>age</th>\n",
       "      <th>city</th>\n",
       "      <th>subscription_type</th>\n",
       "      <th>distance</th>\n",
       "      <th>duration</th>\n",
       "      <th>date</th>\n",
       "      <th>month</th>\n",
       "    </tr>\n",
       "  </thead>\n",
       "  <tbody>\n",
       "    <tr>\n",
       "      <th>0</th>\n",
       "      <td>1</td>\n",
       "      <td>Кира</td>\n",
       "      <td>22</td>\n",
       "      <td>Тюмень</td>\n",
       "      <td>ultra</td>\n",
       "      <td>4.41</td>\n",
       "      <td>25.60</td>\n",
       "      <td>2021-01-01</td>\n",
       "      <td>2021-01-01</td>\n",
       "    </tr>\n",
       "    <tr>\n",
       "      <th>1</th>\n",
       "      <td>1</td>\n",
       "      <td>Кира</td>\n",
       "      <td>22</td>\n",
       "      <td>Тюмень</td>\n",
       "      <td>ultra</td>\n",
       "      <td>2.62</td>\n",
       "      <td>15.82</td>\n",
       "      <td>2021-01-18</td>\n",
       "      <td>2021-01-01</td>\n",
       "    </tr>\n",
       "    <tr>\n",
       "      <th>2</th>\n",
       "      <td>1</td>\n",
       "      <td>Кира</td>\n",
       "      <td>22</td>\n",
       "      <td>Тюмень</td>\n",
       "      <td>ultra</td>\n",
       "      <td>0.75</td>\n",
       "      <td>6.23</td>\n",
       "      <td>2021-04-20</td>\n",
       "      <td>2021-04-01</td>\n",
       "    </tr>\n",
       "    <tr>\n",
       "      <th>3</th>\n",
       "      <td>1</td>\n",
       "      <td>Кира</td>\n",
       "      <td>22</td>\n",
       "      <td>Тюмень</td>\n",
       "      <td>ultra</td>\n",
       "      <td>2.69</td>\n",
       "      <td>18.51</td>\n",
       "      <td>2021-08-11</td>\n",
       "      <td>2021-08-01</td>\n",
       "    </tr>\n",
       "    <tr>\n",
       "      <th>4</th>\n",
       "      <td>1</td>\n",
       "      <td>Кира</td>\n",
       "      <td>22</td>\n",
       "      <td>Тюмень</td>\n",
       "      <td>ultra</td>\n",
       "      <td>4.03</td>\n",
       "      <td>26.27</td>\n",
       "      <td>2021-08-28</td>\n",
       "      <td>2021-08-01</td>\n",
       "    </tr>\n",
       "    <tr>\n",
       "      <th>...</th>\n",
       "      <td>...</td>\n",
       "      <td>...</td>\n",
       "      <td>...</td>\n",
       "      <td>...</td>\n",
       "      <td>...</td>\n",
       "      <td>...</td>\n",
       "      <td>...</td>\n",
       "      <td>...</td>\n",
       "      <td>...</td>\n",
       "    </tr>\n",
       "    <tr>\n",
       "      <th>18063</th>\n",
       "      <td>1534</td>\n",
       "      <td>Альберт</td>\n",
       "      <td>25</td>\n",
       "      <td>Краснодар</td>\n",
       "      <td>free</td>\n",
       "      <td>3.78</td>\n",
       "      <td>19.82</td>\n",
       "      <td>2021-11-04</td>\n",
       "      <td>2021-11-01</td>\n",
       "    </tr>\n",
       "    <tr>\n",
       "      <th>18064</th>\n",
       "      <td>1534</td>\n",
       "      <td>Альберт</td>\n",
       "      <td>25</td>\n",
       "      <td>Краснодар</td>\n",
       "      <td>free</td>\n",
       "      <td>2.84</td>\n",
       "      <td>21.41</td>\n",
       "      <td>2021-11-16</td>\n",
       "      <td>2021-11-01</td>\n",
       "    </tr>\n",
       "    <tr>\n",
       "      <th>18065</th>\n",
       "      <td>1534</td>\n",
       "      <td>Альберт</td>\n",
       "      <td>25</td>\n",
       "      <td>Краснодар</td>\n",
       "      <td>free</td>\n",
       "      <td>3.83</td>\n",
       "      <td>18.44</td>\n",
       "      <td>2021-11-18</td>\n",
       "      <td>2021-11-01</td>\n",
       "    </tr>\n",
       "    <tr>\n",
       "      <th>18066</th>\n",
       "      <td>1534</td>\n",
       "      <td>Альберт</td>\n",
       "      <td>25</td>\n",
       "      <td>Краснодар</td>\n",
       "      <td>free</td>\n",
       "      <td>2.90</td>\n",
       "      <td>16.67</td>\n",
       "      <td>2021-11-27</td>\n",
       "      <td>2021-11-01</td>\n",
       "    </tr>\n",
       "    <tr>\n",
       "      <th>18067</th>\n",
       "      <td>1534</td>\n",
       "      <td>Альберт</td>\n",
       "      <td>25</td>\n",
       "      <td>Краснодар</td>\n",
       "      <td>free</td>\n",
       "      <td>2.37</td>\n",
       "      <td>15.89</td>\n",
       "      <td>2021-12-29</td>\n",
       "      <td>2021-12-01</td>\n",
       "    </tr>\n",
       "  </tbody>\n",
       "</table>\n",
       "<p>18068 rows × 9 columns</p>\n",
       "</div>"
      ],
      "text/plain": [
       "       user_id     name  age       city subscription_type  distance  duration  \\\n",
       "0            1     Кира   22     Тюмень             ultra      4.41     25.60   \n",
       "1            1     Кира   22     Тюмень             ultra      2.62     15.82   \n",
       "2            1     Кира   22     Тюмень             ultra      0.75      6.23   \n",
       "3            1     Кира   22     Тюмень             ultra      2.69     18.51   \n",
       "4            1     Кира   22     Тюмень             ultra      4.03     26.27   \n",
       "...        ...      ...  ...        ...               ...       ...       ...   \n",
       "18063     1534  Альберт   25  Краснодар              free      3.78     19.82   \n",
       "18064     1534  Альберт   25  Краснодар              free      2.84     21.41   \n",
       "18065     1534  Альберт   25  Краснодар              free      3.83     18.44   \n",
       "18066     1534  Альберт   25  Краснодар              free      2.90     16.67   \n",
       "18067     1534  Альберт   25  Краснодар              free      2.37     15.89   \n",
       "\n",
       "            date      month  \n",
       "0     2021-01-01 2021-01-01  \n",
       "1     2021-01-18 2021-01-01  \n",
       "2     2021-04-20 2021-04-01  \n",
       "3     2021-08-11 2021-08-01  \n",
       "4     2021-08-28 2021-08-01  \n",
       "...          ...        ...  \n",
       "18063 2021-11-04 2021-11-01  \n",
       "18064 2021-11-16 2021-11-01  \n",
       "18065 2021-11-18 2021-11-01  \n",
       "18066 2021-11-27 2021-11-01  \n",
       "18067 2021-12-29 2021-12-01  \n",
       "\n",
       "[18068 rows x 9 columns]"
      ]
     },
     "metadata": {},
     "output_type": "display_data"
    },
    {
     "name": "stdout",
     "output_type": "stream",
     "text": [
      "<class 'pandas.core.frame.DataFrame'>\n",
      "Int64Index: 18068 entries, 0 to 18067\n",
      "Data columns (total 9 columns):\n",
      " #   Column             Non-Null Count  Dtype         \n",
      "---  ------             --------------  -----         \n",
      " 0   user_id            18068 non-null  int64         \n",
      " 1   name               18068 non-null  object        \n",
      " 2   age                18068 non-null  int64         \n",
      " 3   city               18068 non-null  object        \n",
      " 4   subscription_type  18068 non-null  object        \n",
      " 5   distance           18068 non-null  float64       \n",
      " 6   duration           18068 non-null  float64       \n",
      " 7   date               18068 non-null  datetime64[ns]\n",
      " 8   month              18068 non-null  datetime64[ns]\n",
      "dtypes: datetime64[ns](2), float64(2), int64(2), object(3)\n",
      "memory usage: 1.4+ MB\n"
     ]
    }
   ],
   "source": [
    "df = df1.merge(df2).copy()\n",
    "\n",
    "display(df)\n",
    "df.info()"
   ]
  },
  {
   "cell_type": "code",
   "execution_count": 8,
   "id": "a552cfa0",
   "metadata": {
    "scrolled": false
   },
   "outputs": [
    {
     "name": "stdout",
     "output_type": "stream",
     "text": [
      "Анализ клиентов с подпиской free:\n"
     ]
    },
    {
     "data": {
      "text/html": [
       "<div>\n",
       "<style scoped>\n",
       "    .dataframe tbody tr th:only-of-type {\n",
       "        vertical-align: middle;\n",
       "    }\n",
       "\n",
       "    .dataframe tbody tr th {\n",
       "        vertical-align: top;\n",
       "    }\n",
       "\n",
       "    .dataframe thead th {\n",
       "        text-align: right;\n",
       "    }\n",
       "</style>\n",
       "<table border=\"1\" class=\"dataframe\">\n",
       "  <thead>\n",
       "    <tr style=\"text-align: right;\">\n",
       "      <th></th>\n",
       "      <th>distance</th>\n",
       "      <th>duration</th>\n",
       "    </tr>\n",
       "  </thead>\n",
       "  <tbody>\n",
       "    <tr>\n",
       "      <th>count</th>\n",
       "      <td>11568.00</td>\n",
       "      <td>11568.00</td>\n",
       "    </tr>\n",
       "    <tr>\n",
       "      <th>mean</th>\n",
       "      <td>3.05</td>\n",
       "      <td>17.39</td>\n",
       "    </tr>\n",
       "    <tr>\n",
       "      <th>median</th>\n",
       "      <td>3.11</td>\n",
       "      <td>17.33</td>\n",
       "    </tr>\n",
       "    <tr>\n",
       "      <th>max</th>\n",
       "      <td>7.21</td>\n",
       "      <td>34.95</td>\n",
       "    </tr>\n",
       "    <tr>\n",
       "      <th>min</th>\n",
       "      <td>0.00</td>\n",
       "      <td>0.50</td>\n",
       "    </tr>\n",
       "  </tbody>\n",
       "</table>\n",
       "</div>"
      ],
      "text/plain": [
       "        distance  duration\n",
       "count   11568.00  11568.00\n",
       "mean        3.05     17.39\n",
       "median      3.11     17.33\n",
       "max         7.21     34.95\n",
       "min         0.00      0.50"
      ]
     },
     "metadata": {},
     "output_type": "display_data"
    },
    {
     "name": "stdout",
     "output_type": "stream",
     "text": [
      "Анализ клиентов с подпиской ultra:\n"
     ]
    },
    {
     "data": {
      "text/html": [
       "<div>\n",
       "<style scoped>\n",
       "    .dataframe tbody tr th:only-of-type {\n",
       "        vertical-align: middle;\n",
       "    }\n",
       "\n",
       "    .dataframe tbody tr th {\n",
       "        vertical-align: top;\n",
       "    }\n",
       "\n",
       "    .dataframe thead th {\n",
       "        text-align: right;\n",
       "    }\n",
       "</style>\n",
       "<table border=\"1\" class=\"dataframe\">\n",
       "  <thead>\n",
       "    <tr style=\"text-align: right;\">\n",
       "      <th></th>\n",
       "      <th>distance</th>\n",
       "      <th>duration</th>\n",
       "    </tr>\n",
       "  </thead>\n",
       "  <tbody>\n",
       "    <tr>\n",
       "      <th>count</th>\n",
       "      <td>6500.00</td>\n",
       "      <td>6500.00</td>\n",
       "    </tr>\n",
       "    <tr>\n",
       "      <th>mean</th>\n",
       "      <td>3.12</td>\n",
       "      <td>18.54</td>\n",
       "    </tr>\n",
       "    <tr>\n",
       "      <th>median</th>\n",
       "      <td>3.15</td>\n",
       "      <td>18.18</td>\n",
       "    </tr>\n",
       "    <tr>\n",
       "      <th>max</th>\n",
       "      <td>5.70</td>\n",
       "      <td>40.82</td>\n",
       "    </tr>\n",
       "    <tr>\n",
       "      <th>min</th>\n",
       "      <td>0.24</td>\n",
       "      <td>3.76</td>\n",
       "    </tr>\n",
       "  </tbody>\n",
       "</table>\n",
       "</div>"
      ],
      "text/plain": [
       "        distance  duration\n",
       "count    6500.00   6500.00\n",
       "mean        3.12     18.54\n",
       "median      3.15     18.18\n",
       "max         5.70     40.82\n",
       "min         0.24      3.76"
      ]
     },
     "metadata": {},
     "output_type": "display_data"
    },
    {
     "name": "stdout",
     "output_type": "stream",
     "text": [
      "Распределение дистанции:\n"
     ]
    },
    {
     "data": {
      "image/png": "[encoded data removed]",
      "text/plain": [
       "<Figure size 720x360 with 1 Axes>"
      ]
     },
     "metadata": {
      "needs_background": "light"
     },
     "output_type": "display_data"
    },
    {
     "name": "stdout",
     "output_type": "stream",
     "text": [
      "Распределение времени:\n"
     ]
    },
    {
     "data": {
      "image/png": "[encoded data removed]",
      "text/plain": [
       "<Figure size 720x360 with 1 Axes>"
      ]
     },
     "metadata": {
      "needs_background": "light"
     },
     "output_type": "display_data"
    }
   ],
   "source": [
    "print('Анализ клиентов с подпиской free:')\n",
    "display(round(df.query('subscription_type == \"free\"')[['distance', 'duration']] \\\n",
    "              .agg(['count', 'mean', 'median', 'max', 'min']), 2))\n",
    "\n",
    "print('Анализ клиентов с подпиской ultra:')\n",
    "display(round(df.query('subscription_type == \"ultra\"')[['distance', 'duration']] \\\n",
    "              .agg(['count', 'mean', 'median', 'max', 'min']), 2))\n",
    "\n",
    "#график дистанций:\n",
    "\n",
    "print('Распределение дистанции:')\n",
    "\n",
    "df.query('subscription_type == \"free\"')['distance']\\\n",
    "  .plot(kind='hist', bins = 20, figsize=(10, 5), alpha=0.5)\n",
    "\n",
    "df.query('subscription_type == \"ultra\"')['distance']\\\n",
    "  .plot(kind='hist', bins = 20,  alpha=0.5)\n",
    "\n",
    "plt.grid()\n",
    "plt.title('Дистанция')\n",
    "plt.ylabel('Количество поездок')\n",
    "plt.xlabel('Километры')\n",
    "plt.legend(['free', 'ultra'], bbox_to_anchor=(1.05, 1), loc='upper left')\n",
    "\n",
    "plt.show()\n",
    "\n",
    "#график времени:\n",
    "\n",
    "print('Распределение времени:')\n",
    "\n",
    "df.query('subscription_type == \"free\"')['duration']\\\n",
    "  .plot(kind='hist', bins = 20, figsize=(10, 5), alpha=0.5)\n",
    "\n",
    "df.query('subscription_type == \"ultra\"')['duration']\\\n",
    "  .plot(kind='hist', bins = 20,  alpha=0.5)\n",
    "\n",
    "plt.grid()\n",
    "plt.title('Длительность поездки')\n",
    "plt.ylabel('Количество поездок')\n",
    "plt.xlabel('Минуты')\n",
    "plt.legend(['free', 'ultra'], bbox_to_anchor=(1.05, 1), loc='upper left')\n",
    "\n",
    "plt.show()"
   ]
  },
  {
   "cell_type": "markdown",
   "id": "402d620f",
   "metadata": {},
   "source": [
    "**Промежуточные выводы:**\n",
    "\n",
    "* количество \"премиальных\" поездок составляет приблизительно 30% от общего числа;\n",
    "* количество аномальных \"сверхбыстрых\" и \"сверхкоротких\" поездок сохраняется в обеих категориях, в остальном данные распределения выглядят коректно;\n",
    "* средняя и медианная дистанции практически одинаковы в обеих категориях (около 3,1 км);\n",
    "* средняя и медианная продолжительность поездки выше в категории \"ultra\" почти на 1 минуту.\n",
    "\n",
    "---\n",
    "\n",
    "#### Шаг 5. Подсчёт выручки\n",
    "\n",
    "Создадим сводную таблицу с агрегированными данными о поездках на основе датафрейма с объединёнными данными из шага 4. Необходимо посчитать суммарное расстояние, количество поездок, суммарное время и выручку по каждому пользователю помесячно.\n",
    "\n",
    "Далее, с помощью команды `merge()` добавим информацию по тарифам, после расчёта помесячной выручки удалим данную инфрмацию.\n",
    "\n",
    "Помесячная выручка считается по формуле: стоимость старта поездки ×  количество поездок + стоимость одной минуты поездки × общая продолжительность всех поездок в минутах + стоимость подписки."
   ]
  },
  {
   "cell_type": "code",
   "execution_count": 9,
   "id": "cefa7b22",
   "metadata": {},
   "outputs": [
    {
     "data": {
      "text/html": [
       "<div>\n",
       "<style scoped>\n",
       "    .dataframe tbody tr th:only-of-type {\n",
       "        vertical-align: middle;\n",
       "    }\n",
       "\n",
       "    .dataframe tbody tr th {\n",
       "        vertical-align: top;\n",
       "    }\n",
       "\n",
       "    .dataframe thead th {\n",
       "        text-align: right;\n",
       "    }\n",
       "</style>\n",
       "<table border=\"1\" class=\"dataframe\">\n",
       "  <thead>\n",
       "    <tr style=\"text-align: right;\">\n",
       "      <th></th>\n",
       "      <th></th>\n",
       "      <th></th>\n",
       "      <th>count</th>\n",
       "      <th>sum_distance</th>\n",
       "      <th>sum_duration_ceil</th>\n",
       "      <th>month_rev</th>\n",
       "    </tr>\n",
       "    <tr>\n",
       "      <th>user_id</th>\n",
       "      <th>subscription_type</th>\n",
       "      <th>month</th>\n",
       "      <th></th>\n",
       "      <th></th>\n",
       "      <th></th>\n",
       "      <th></th>\n",
       "    </tr>\n",
       "  </thead>\n",
       "  <tbody>\n",
       "    <tr>\n",
       "      <th rowspan=\"5\" valign=\"top\">1</th>\n",
       "      <th rowspan=\"5\" valign=\"top\">ultra</th>\n",
       "      <th>2021-01-01</th>\n",
       "      <td>2</td>\n",
       "      <td>7.03</td>\n",
       "      <td>42.0</td>\n",
       "      <td>451</td>\n",
       "    </tr>\n",
       "    <tr>\n",
       "      <th>2021-04-01</th>\n",
       "      <td>1</td>\n",
       "      <td>0.75</td>\n",
       "      <td>7.0</td>\n",
       "      <td>241</td>\n",
       "    </tr>\n",
       "    <tr>\n",
       "      <th>2021-08-01</th>\n",
       "      <td>2</td>\n",
       "      <td>6.72</td>\n",
       "      <td>46.0</td>\n",
       "      <td>475</td>\n",
       "    </tr>\n",
       "    <tr>\n",
       "      <th>2021-10-01</th>\n",
       "      <td>2</td>\n",
       "      <td>5.81</td>\n",
       "      <td>32.0</td>\n",
       "      <td>391</td>\n",
       "    </tr>\n",
       "    <tr>\n",
       "      <th>2021-11-01</th>\n",
       "      <td>3</td>\n",
       "      <td>7.00</td>\n",
       "      <td>56.0</td>\n",
       "      <td>535</td>\n",
       "    </tr>\n",
       "    <tr>\n",
       "      <th>...</th>\n",
       "      <th>...</th>\n",
       "      <th>...</th>\n",
       "      <td>...</td>\n",
       "      <td>...</td>\n",
       "      <td>...</td>\n",
       "      <td>...</td>\n",
       "    </tr>\n",
       "    <tr>\n",
       "      <th rowspan=\"5\" valign=\"top\">1534</th>\n",
       "      <th rowspan=\"5\" valign=\"top\">free</th>\n",
       "      <th>2021-06-01</th>\n",
       "      <td>2</td>\n",
       "      <td>3.41</td>\n",
       "      <td>26.0</td>\n",
       "      <td>258</td>\n",
       "    </tr>\n",
       "    <tr>\n",
       "      <th>2021-08-01</th>\n",
       "      <td>2</td>\n",
       "      <td>7.62</td>\n",
       "      <td>48.0</td>\n",
       "      <td>434</td>\n",
       "    </tr>\n",
       "    <tr>\n",
       "      <th>2021-09-01</th>\n",
       "      <td>1</td>\n",
       "      <td>4.93</td>\n",
       "      <td>23.0</td>\n",
       "      <td>234</td>\n",
       "    </tr>\n",
       "    <tr>\n",
       "      <th>2021-11-01</th>\n",
       "      <td>4</td>\n",
       "      <td>13.35</td>\n",
       "      <td>78.0</td>\n",
       "      <td>674</td>\n",
       "    </tr>\n",
       "    <tr>\n",
       "      <th>2021-12-01</th>\n",
       "      <td>1</td>\n",
       "      <td>2.37</td>\n",
       "      <td>16.0</td>\n",
       "      <td>178</td>\n",
       "    </tr>\n",
       "  </tbody>\n",
       "</table>\n",
       "<p>11331 rows × 4 columns</p>\n",
       "</div>"
      ],
      "text/plain": [
       "                                      count  sum_distance  sum_duration_ceil  \\\n",
       "user_id subscription_type month                                                \n",
       "1       ultra             2021-01-01      2          7.03               42.0   \n",
       "                          2021-04-01      1          0.75                7.0   \n",
       "                          2021-08-01      2          6.72               46.0   \n",
       "                          2021-10-01      2          5.81               32.0   \n",
       "                          2021-11-01      3          7.00               56.0   \n",
       "...                                     ...           ...                ...   \n",
       "1534    free              2021-06-01      2          3.41               26.0   \n",
       "                          2021-08-01      2          7.62               48.0   \n",
       "                          2021-09-01      1          4.93               23.0   \n",
       "                          2021-11-01      4         13.35               78.0   \n",
       "                          2021-12-01      1          2.37               16.0   \n",
       "\n",
       "                                      month_rev  \n",
       "user_id subscription_type month                  \n",
       "1       ultra             2021-01-01        451  \n",
       "                          2021-04-01        241  \n",
       "                          2021-08-01        475  \n",
       "                          2021-10-01        391  \n",
       "                          2021-11-01        535  \n",
       "...                                         ...  \n",
       "1534    free              2021-06-01        258  \n",
       "                          2021-08-01        434  \n",
       "                          2021-09-01        234  \n",
       "                          2021-11-01        674  \n",
       "                          2021-12-01        178  \n",
       "\n",
       "[11331 rows x 4 columns]"
      ]
     },
     "metadata": {},
     "output_type": "display_data"
    }
   ],
   "source": [
    "df['duration_ceil'] = np.ceil(df['duration'])\n",
    "\n",
    "pvt = df.pivot_table(index=['user_id', 'subscription_type', 'month'], values=['distance', 'duration_ceil'], \\\n",
    "                     aggfunc=['count', 'sum']).copy()\n",
    "pvt.columns = ['_'.join(col).strip() for col in pvt.columns.values]\n",
    "pvt.rename(columns={'count_duration_ceil': 'count'}, inplace=True)\n",
    "\n",
    "pvt.reset_index(inplace=True)\n",
    "pvt = pvt.merge(df3, how='left')\n",
    "pvt['month_rev'] = (pvt['start_ride_price'] + pvt['minute_price'] * pvt['sum_duration_ceil'] + pvt['subscription_fee']).astype('int')\n",
    "pvt.drop(columns=['count_distance', 'minute_price', 'start_ride_price', 'subscription_fee'], inplace=True)\n",
    "pvt.set_index(['user_id', 'subscription_type', 'month'], drop=True, inplace=True)\n",
    "display(pvt)"
   ]
  },
  {
   "cell_type": "markdown",
   "id": "41545ac0",
   "metadata": {},
   "source": [
    "**Промежуточный вывод:**\n",
    "\n",
    "Подготовлена сводная таблица, необходимые данные добавлены.\n",
    "\n",
    "---\n",
    "\n",
    "#### Шаг 6. Проверка гипотез\n",
    "\n",
    "*1 гипотеза:* нулевая - пользователи с подпиской и без подписки в среднем тратят одинаковое время на поездки. Альтернативная - пользователи с подпиской в среднем тратят больше времени на поездки, чем пользователи без подписки.\n",
    "\n",
    "*2 гипотеза:* нулевая - среднее расстояние, которое проезжают пользователи с подпиской за одну поездку, равно 3130 метров. альтернативная - среднее расстояние, которое проезжают пользователи с подпиской за одну поездку, больше 3130 метров.\n",
    "\n",
    "*3 гипотеза:* нулевая - средняя помесячная выручка от пользователей с подпиской равна средней выручке с пользователей без подписки. Альтернативная - средняя помесячная выручка от пользователей с подпиской выше, чем средняя выручка от пользователей без подписки. Дополнительная гипотеза зеркальна альтернативной.\n",
    "\n",
    "*4 гипотеза:* нулевая - количество обращений в техподдержку не изменилось. Альтернативная - количество обращений в техподдержку значимо снизилось."
   ]
  },
  {
   "cell_type": "code",
   "execution_count": 10,
   "id": "2358789b",
   "metadata": {},
   "outputs": [
    {
     "name": "stdout",
     "output_type": "stream",
     "text": [
      "Первая гипотеза:\n",
      "p-value: 5.6460360110885e-37\n",
      "Отвергаем нулевую гипотезу\n",
      "\n",
      "Анализ клиентов с подпиской free:\n"
     ]
    },
    {
     "data": {
      "text/html": [
       "<div>\n",
       "<style scoped>\n",
       "    .dataframe tbody tr th:only-of-type {\n",
       "        vertical-align: middle;\n",
       "    }\n",
       "\n",
       "    .dataframe tbody tr th {\n",
       "        vertical-align: top;\n",
       "    }\n",
       "\n",
       "    .dataframe thead th {\n",
       "        text-align: right;\n",
       "    }\n",
       "</style>\n",
       "<table border=\"1\" class=\"dataframe\">\n",
       "  <thead>\n",
       "    <tr style=\"text-align: right;\">\n",
       "      <th></th>\n",
       "      <th>duration</th>\n",
       "    </tr>\n",
       "  </thead>\n",
       "  <tbody>\n",
       "    <tr>\n",
       "      <th>count</th>\n",
       "      <td>11568.00</td>\n",
       "    </tr>\n",
       "    <tr>\n",
       "      <th>mean</th>\n",
       "      <td>17.39</td>\n",
       "    </tr>\n",
       "    <tr>\n",
       "      <th>median</th>\n",
       "      <td>17.33</td>\n",
       "    </tr>\n",
       "  </tbody>\n",
       "</table>\n",
       "</div>"
      ],
      "text/plain": [
       "        duration\n",
       "count   11568.00\n",
       "mean       17.39\n",
       "median     17.33"
      ]
     },
     "metadata": {},
     "output_type": "display_data"
    },
    {
     "name": "stdout",
     "output_type": "stream",
     "text": [
      "Анализ клиентов с подпиской ultra:\n"
     ]
    },
    {
     "data": {
      "text/html": [
       "<div>\n",
       "<style scoped>\n",
       "    .dataframe tbody tr th:only-of-type {\n",
       "        vertical-align: middle;\n",
       "    }\n",
       "\n",
       "    .dataframe tbody tr th {\n",
       "        vertical-align: top;\n",
       "    }\n",
       "\n",
       "    .dataframe thead th {\n",
       "        text-align: right;\n",
       "    }\n",
       "</style>\n",
       "<table border=\"1\" class=\"dataframe\">\n",
       "  <thead>\n",
       "    <tr style=\"text-align: right;\">\n",
       "      <th></th>\n",
       "      <th>duration</th>\n",
       "    </tr>\n",
       "  </thead>\n",
       "  <tbody>\n",
       "    <tr>\n",
       "      <th>count</th>\n",
       "      <td>6500.00</td>\n",
       "    </tr>\n",
       "    <tr>\n",
       "      <th>mean</th>\n",
       "      <td>18.54</td>\n",
       "    </tr>\n",
       "    <tr>\n",
       "      <th>median</th>\n",
       "      <td>18.18</td>\n",
       "    </tr>\n",
       "  </tbody>\n",
       "</table>\n",
       "</div>"
      ],
      "text/plain": [
       "        duration\n",
       "count    6500.00\n",
       "mean       18.54\n",
       "median     18.18"
      ]
     },
     "metadata": {},
     "output_type": "display_data"
    }
   ],
   "source": [
    "#1st hypothesis\n",
    "\n",
    "alpha = 0.05 \n",
    "\n",
    "results = st.ttest_ind(\n",
    "    df.query('subscription_type == \"ultra\"')['duration'], \n",
    "    df.query('subscription_type == \"free\"')['duration'],\n",
    "    alternative='greater',\n",
    "    equal_var=False)\n",
    "\n",
    "print('Первая гипотеза:')\n",
    "print(f'p-value: {results.pvalue}')\n",
    "\n",
    "if results.pvalue < alpha:\n",
    "    print('Отвергаем нулевую гипотезу')\n",
    "else:\n",
    "    print('Нет оснований отвергнуть нулевую гипотезу')\n",
    "\n",
    "print()    \n",
    "print('Анализ клиентов с подпиской free:')\n",
    "display(round(df.query('subscription_type == \"free\"')['duration'] \\\n",
    "              .agg(['count', 'mean', 'median']), 2).to_frame())\n",
    "\n",
    "print('Анализ клиентов с подпиской ultra:')\n",
    "display(round(df.query('subscription_type == \"ultra\"')['duration'] \\\n",
    "              .agg(['count', 'mean', 'median']), 2).to_frame())"
   ]
  },
  {
   "cell_type": "code",
   "execution_count": 11,
   "id": "23ea867b",
   "metadata": {
    "scrolled": false
   },
   "outputs": [
    {
     "name": "stdout",
     "output_type": "stream",
     "text": [
      "Вторая гипотеза:\n",
      "p-значение: 0.9199218607432119\n",
      "Нет оснований отвергнуть нулевую гипотезу\n"
     ]
    },
    {
     "data": {
      "text/html": [
       "<div>\n",
       "<style scoped>\n",
       "    .dataframe tbody tr th:only-of-type {\n",
       "        vertical-align: middle;\n",
       "    }\n",
       "\n",
       "    .dataframe tbody tr th {\n",
       "        vertical-align: top;\n",
       "    }\n",
       "\n",
       "    .dataframe thead th {\n",
       "        text-align: right;\n",
       "    }\n",
       "</style>\n",
       "<table border=\"1\" class=\"dataframe\">\n",
       "  <thead>\n",
       "    <tr style=\"text-align: right;\">\n",
       "      <th></th>\n",
       "      <th>distance</th>\n",
       "    </tr>\n",
       "  </thead>\n",
       "  <tbody>\n",
       "    <tr>\n",
       "      <th>count</th>\n",
       "      <td>6500.00</td>\n",
       "    </tr>\n",
       "    <tr>\n",
       "      <th>mean</th>\n",
       "      <td>3.12</td>\n",
       "    </tr>\n",
       "    <tr>\n",
       "      <th>median</th>\n",
       "      <td>3.15</td>\n",
       "    </tr>\n",
       "  </tbody>\n",
       "</table>\n",
       "</div>"
      ],
      "text/plain": [
       "        distance\n",
       "count    6500.00\n",
       "mean        3.12\n",
       "median      3.15"
      ]
     },
     "metadata": {},
     "output_type": "display_data"
    }
   ],
   "source": [
    "#2nd hypothesis\n",
    "\n",
    "interested_value = 3.13\n",
    "\n",
    "results = st.ttest_1samp(\n",
    "    df.query('subscription_type == \"ultra\"')['distance'], \n",
    "    interested_value,\n",
    "    alternative='greater')\n",
    "\n",
    "print('Вторая гипотеза:')\n",
    "print('p-значение:', results.pvalue)\n",
    "\n",
    "if results.pvalue < alpha:\n",
    "    print('Отвергаем нулевую гипотезу')\n",
    "else:\n",
    "    print('Нет оснований отвергнуть нулевую гипотезу')\n",
    "\n",
    "display(round(df.query('subscription_type == \"ultra\"')['distance'] \\\n",
    "              .agg(['count', 'mean', 'median']), 2).to_frame())    \n"
   ]
  },
  {
   "cell_type": "code",
   "execution_count": 12,
   "id": "44601a03",
   "metadata": {},
   "outputs": [
    {
     "name": "stdout",
     "output_type": "stream",
     "text": [
      "Третья гипотеза:\n",
      "p-value: 1.4112152331254297e-213\n",
      "Отвергаем нулевую гипотезу\n",
      "p-value: 1.0\n",
      "Нет оснований отвергнуть нулевую гипотезу\n",
      "\n",
      "ultra\n"
     ]
    },
    {
     "data": {
      "text/html": [
       "<div>\n",
       "<style scoped>\n",
       "    .dataframe tbody tr th:only-of-type {\n",
       "        vertical-align: middle;\n",
       "    }\n",
       "\n",
       "    .dataframe tbody tr th {\n",
       "        vertical-align: top;\n",
       "    }\n",
       "\n",
       "    .dataframe thead th {\n",
       "        text-align: right;\n",
       "    }\n",
       "</style>\n",
       "<table border=\"1\" class=\"dataframe\">\n",
       "  <thead>\n",
       "    <tr style=\"text-align: right;\">\n",
       "      <th></th>\n",
       "      <th>month_rev</th>\n",
       "    </tr>\n",
       "  </thead>\n",
       "  <tbody>\n",
       "    <tr>\n",
       "      <th>count</th>\n",
       "      <td>4533.00</td>\n",
       "    </tr>\n",
       "    <tr>\n",
       "      <th>mean</th>\n",
       "      <td>362.73</td>\n",
       "    </tr>\n",
       "    <tr>\n",
       "      <th>median</th>\n",
       "      <td>331.00</td>\n",
       "    </tr>\n",
       "  </tbody>\n",
       "</table>\n",
       "</div>"
      ],
      "text/plain": [
       "        month_rev\n",
       "count     4533.00\n",
       "mean       362.73\n",
       "median     331.00"
      ]
     },
     "metadata": {},
     "output_type": "display_data"
    },
    {
     "name": "stdout",
     "output_type": "stream",
     "text": [
      "\n",
      "free\n"
     ]
    },
    {
     "data": {
      "text/html": [
       "<div>\n",
       "<style scoped>\n",
       "    .dataframe tbody tr th:only-of-type {\n",
       "        vertical-align: middle;\n",
       "    }\n",
       "\n",
       "    .dataframe tbody tr th {\n",
       "        vertical-align: top;\n",
       "    }\n",
       "\n",
       "    .dataframe thead th {\n",
       "        text-align: right;\n",
       "    }\n",
       "</style>\n",
       "<table border=\"1\" class=\"dataframe\">\n",
       "  <thead>\n",
       "    <tr style=\"text-align: right;\">\n",
       "      <th></th>\n",
       "      <th>month_rev</th>\n",
       "    </tr>\n",
       "  </thead>\n",
       "  <tbody>\n",
       "    <tr>\n",
       "      <th>count</th>\n",
       "      <td>6798.00</td>\n",
       "    </tr>\n",
       "    <tr>\n",
       "      <th>mean</th>\n",
       "      <td>293.49</td>\n",
       "    </tr>\n",
       "    <tr>\n",
       "      <th>median</th>\n",
       "      <td>258.00</td>\n",
       "    </tr>\n",
       "  </tbody>\n",
       "</table>\n",
       "</div>"
      ],
      "text/plain": [
       "        month_rev\n",
       "count     6798.00\n",
       "mean       293.49\n",
       "median     258.00"
      ]
     },
     "metadata": {},
     "output_type": "display_data"
    }
   ],
   "source": [
    "#3d hypothesis\n",
    "\n",
    "results = st.ttest_ind(pvt.query('subscription_type == \"ultra\"')['month_rev'],\\\n",
    "                       pvt.query('subscription_type == \"free\"')['month_rev'],\\\n",
    "                       alternative='greater', equal_var=False)\n",
    "\n",
    "print('Третья гипотеза:')\n",
    "print(f'p-value: {results.pvalue}')\n",
    "\n",
    "if results.pvalue < alpha:\n",
    "    print('Отвергаем нулевую гипотезу')\n",
    "else:\n",
    "    print('Нет оснований отвергнуть нулевую гипотезу')\n",
    "\n",
    "results = st.ttest_ind(pvt.query('subscription_type == \"ultra\"')['month_rev'],\\\n",
    "                       pvt.query('subscription_type == \"free\"')['month_rev'],\\\n",
    "                       alternative='less', equal_var=False)\n",
    "\n",
    "print(f'p-value: {results.pvalue}')\n",
    "\n",
    "if results.pvalue < alpha:\n",
    "    print('Отвергаем нулевую гипотезу')\n",
    "else:\n",
    "    print('Нет оснований отвергнуть нулевую гипотезу')\n",
    "\n",
    "print()\n",
    "print('ultra')\n",
    "\n",
    "display(round(pvt.query('subscription_type == \"ultra\"')['month_rev'] \\\n",
    "              .agg(['count', 'mean', 'median']), 2).to_frame())  \n",
    "\n",
    "print()\n",
    "print('free')\n",
    "\n",
    "display(round(pvt.query('subscription_type == \"free\"')['month_rev'] \\\n",
    "              .agg(['count', 'mean', 'median']), 2).to_frame())  "
   ]
  },
  {
   "cell_type": "markdown",
   "id": "54bef00c",
   "metadata": {},
   "source": [
    "**Промежуточные выводы:**\n",
    "\n",
    "* 1 гипотеза опровергается: вероятность того, что пользователи с подпиской в среднем тратят больше времени на поездки, чем пользователи без подписки, равна практически 100%. Это подтверждается средними и медианными данными продолжительностями поездок: значения выше в категории \"ultra\" почти на 1 минуту (посчитаны параметры обеих генеральных совокупностей). Следует отметить, что множества по мощности различаются, поэтому был применён параметр `equal_var=False`;\n",
    "* 2 гипотеза подтверждается: вероятность того, что среднее расстояние, которое проезжают пользователи с подпиской за одну поездку, равно 3130 метров или меньше, равна 92%;\n",
    "* 3 гипотеза опровергается: вероятность того, что средняя помесячная выручка от пользователей с подпиской равна средней выручке с пользователей без подписки или меньше, равна практически 0%. Это подтверждается средними и медианными данными выручки. Следует отметить, что множества по мощности различаются, поэтому был применён параметр `equal_var=False`;\n",
    "* для 4 гипотезы необходима односторонняя проверка средних двух генеральных совокупностей: нулевая гипотеза будет звучать как «между средними значениями двух совокупностей нет разницы, они равны», а альтернативная — среднее значение первой генеральной совокупности меньше среднего значения второй генеральной совокупности. Если нулевая гипотеза будет опровергнута, значит, обновление серверов не привело к необходимому эффекту.\n",
    "---\n",
    "\n",
    "#### Шаг 7. Распределения\n",
    "\n",
    "7.1 Нужно провести акцию с раздачей промокодов на один бесплатный месяц подписки, в рамках которой как минимум 100 существующих клиентов должны продлить эту подписку. То есть по завершении периода действия подписки пользователь может либо отказаться от неё, либо продлить, совершив соответствующий платёж. \n",
    "Эта акция уже проводилась ранее и по итогу выяснилось, что после бесплатного пробного периода подписку продлевают 10 % пользователей. Выясните, какое минимальное количество промокодов нужно разослать, чтобы вероятность не выполнить план была примерно 5 %. Подберите параметры распределения, описывающего эту ситуацию, постройте график распределения и сформулируйте ответ на вопрос о количестве промокодов.\n",
    "\n",
    "\n",
    "7.2 Отдел маркетинга рассылает клиентам push-уведомления в мобильном приложении. Клиенты могут открыть его или не открывать. Известно, что уведомления открывают около 40 % получивших клиентов. Отдел планирует разослать 1 млн уведомлений. С помощью аппроксимации постройте примерный график распределения и оцените вероятность того, что уведомление откроют не более 399,5 тыс. пользователей.\n",
    "\n"
   ]
  },
  {
   "cell_type": "code",
   "execution_count": 13,
   "id": "84cf9f4b",
   "metadata": {
    "scrolled": false
   },
   "outputs": [
    {
     "name": "stdout",
     "output_type": "stream",
     "text": [
      "Чтобы получить вероятность продления 100 подписок, равную 0.9512064034722397 , необходимо сделать не менее 1170 рассылок.\n"
     ]
    },
    {
     "data": {
      "image/png": "[encoded data removed]",
      "text/plain": [
       "<Figure size 432x288 with 1 Axes>"
      ]
     },
     "metadata": {
      "needs_background": "light"
     },
     "output_type": "display_data"
    }
   ],
   "source": [
    "#7.1\n",
    "\n",
    "\n",
    "n = 1170 # количество попыток\n",
    "p = 0.1 # вероятность успеха\n",
    "q = 1 - p # вероятность провала\n",
    "\n",
    "sigma = (n*p*q)**(0.5)\n",
    "distr = st.norm(n*p, sigma) \n",
    "\n",
    "x_0 = 100\n",
    "\n",
    "result = 1 - distr.cdf(x_0)\n",
    "\n",
    "print('Чтобы получить вероятность продления 100 подписок, равную', result, ', необходимо сделать не менее', n, 'рассылок.')\n",
    "\n",
    "left = int(n * p - 4 * sigma)\n",
    "right = int(n * p + 4 * sigma)\n",
    "x = list(range(max(0, left), right))\n",
    "ax = plt.subplot()\n",
    "ax.plot(x, binom.pmf(x, n, p), 'bo', ms=5)\n",
    "plt.grid()\n",
    "plt.title('Вероятности биномиального распределения')\n",
    "plt.ylabel('Вероятность')\n",
    "plt.xlabel('Количество подписок')\n",
    "plt.show()"
   ]
  },
  {
   "cell_type": "code",
   "execution_count": 14,
   "id": "c8c1f1c6",
   "metadata": {},
   "outputs": [
    {
     "name": "stdout",
     "output_type": "stream",
     "text": [
      "Вероятность открытия менее 399.5 тысяч уведомлений: 0.15371708296369768\n",
      "Для этого необходимо сделать 1000000 рассылок\n"
     ]
    },
    {
     "data": {
      "image/png": "[encoded data removed]",
      "text/plain": [
       "<Figure size 432x288 with 1 Axes>"
      ]
     },
     "metadata": {
      "needs_background": "light"
     },
     "output_type": "display_data"
    }
   ],
   "source": [
    "#7.2\n",
    "\n",
    "n = 1000000 # количество рассылок\n",
    "p = 0.4 # вероятность открытия\n",
    "q = 1 - p # вероятность провала\n",
    "\n",
    "mu = n * p\n",
    "sigma = (n*p*q)**(0.5)\n",
    "distr = st.norm(n*p, sigma) \n",
    "\n",
    "t = 399500 # ожидаемое количество открытий\n",
    "\n",
    "result = distr.cdf(t)\n",
    "\n",
    "print('Вероятность открытия менее 399.5 тысяч уведомлений:', result)\n",
    "print('Для этого необходимо сделать', n, 'рассылок')\n",
    "\n",
    "left = int(n * p - 4 * sigma)\n",
    "right = int(n * p + 4 * sigma)\n",
    "x = list(range(max(0, left), right))\n",
    "ax = plt.subplot()\n",
    "ax.plot(x, binom.pmf(x, n, p), 'bo', ms=5, label='вероятности биномиального распределения')\n",
    "plt.grid()\n",
    "plt.title('Вероятности биномиального распределения')\n",
    "plt.ylabel('Вероятность')\n",
    "plt.xlabel('Количество открытий')\n",
    "plt.show()"
   ]
  },
  {
   "cell_type": "markdown",
   "id": "1e11075c",
   "metadata": {},
   "source": [
    "**Промежутоные выводы:**\n",
    "\n",
    "* Чтобы получить вероятность продления 100 подписок, равную 95%, необходимо сделать не менее 855 рассылок;\n",
    "* Вероятность открытия менее 399.5 тысяч уведомлений составляет 15% при общем количестве рассылок 1000000.\n",
    "\n",
    "---\n",
    "\n",
    "\n",
    "#### Общие выводы\n",
    "\n",
    "Данный проект заключается в анализе данных сервиса аренды самокатов и проверку некоторых гипотез.\n",
    "\n",
    "Описание данных:\n",
    "\n",
    "    user_id - уникальный идентификатор пользователя\n",
    "    name - имя пользователя\n",
    "    age - возраст\n",
    "    city - город\n",
    "    subscription_type - тип подписки (free, ultra)\n",
    "    user_id - уникальный идентификатор пользователя\n",
    "    distance - расстояние, которое пользователь проехал в текущей сессии (в метрах)\n",
    "    duration - продолжительность сессии (в минутах) — время с того момента, как пользователь нажал кнопку «Начать поездку» \n",
    "    до момента, как он нажал кнопку «Завершить поездку»\n",
    "    date - дата совершения поездки\n",
    "    subscription_type - тип подписки\n",
    "    minute_price - стоимость одной минуты поездки по данной подписке\n",
    "    start_ride_price - стоимость начала поездки\n",
    "    subscription_fee - стоимость ежемесячного платежа\n",
    "\n",
    "В ходе предобработки данных удалены дубликаты в первом датафрейме, столбец `date` приведён к типу даты pandas, создан новый столбец с номером месяца на основе столбца `date`. Дополнительно переведены значения столбца `distance` в километры, а также округлим значения столбцов `distance` и `round` до двух знаков после запятой. Пропуски во всех датафреймах отсутствуют.\n",
    "\n",
    "После проведения исследовательского анализа данных были сделаны следующие заключения:\n",
    "\n",
    "* Наибольшее количество пользователей находится в Пятигорске (218 чел.), наименьшее - в Москве (168 чел.);\n",
    "* Количество обладателей платной подписки почти равно количеству обычных пользователей (46% и 54% соответственно);\n",
    "* Средний возраст пользователя - 25 лет, минимальный - 12, максимальный - 43;\n",
    "* количество \"премиальных\" поездок составляет приблизительно 30% от общего числа;\n",
    "* количество аномальных \"сверхбыстрых\" и \"сверхкоротких\" поездок сохраняется в обеих категориях, в остальном данные распределения выглядят коректно;\n",
    "* средняя и медианная дистанции практически одинаковы в обеих категориях (около 3,1 км);\n",
    "* средняя и медианная продолжительность поездки выше в категории \"ultra\" почти на 1 минуту.\n",
    "\n",
    "При исследовании дальности и продолжительности поездок обнаружены аномальные значения (дистанция - 0 м, время поездки - 0,5 с). Возможно, это связано с тем, что пользователи передумывали начинать поездку, закончились средства на балансе, самокаты по какой-либо причине были не пригодны для поездки. В то же время распределения данных величин выглядят корректно, медианы практически совпадают со средними значениями.\n",
    "\n",
    "Для проверки гипотез подготовлена сводная таблица, в неё добавлены данные помесячной выручки.\n",
    "\n",
    "В ходе проверки гипотез были получены следующие результаты:\n",
    "\n",
    "* 1 гипотеза опровергается: вероятность того, что пользователи с подпиской в среднем тратят больше времени на поездки, чем пользователи без подписки, равна практически 100%. Это подтверждается средними и медианными данными продолжительностями поездок: значения выше в категории \"ultra\" почти на 1 минуту (посчитаны параметры обеих генеральных совокупностей);\n",
    "* 2 гипотеза подтверждается: вероятность того, что среднее расстояние, которое проезжают пользователи с подпиской за одну поездку, равно 3130 метров или меньше, равна 92%;\n",
    "* 3 гипотеза опровергается: вероятность того, что средняя помесячная выручка от пользователей с подпиской равна средней выручке с пользователей без подписки или меньше, равна практически 0%. Это подтверждается средними и медианными данными выручки;\n",
    "* для 4 гипотезы необходима односторонняя проверка средних двух генеральных совокупностей: нулевая гипотеза будет звучать как «между средними значениями двух совокупностей нет разницы, они равны», а альтернативная — среднее значение первой генеральной совокупности меньше среднего значения второй генеральной совокупности. Если нулевая гипотеза будет опровергнута, значит, обновление серверов не привело к необходимому эффекту.\n",
    "\n",
    "**Итоговый вывод по гипотезам:** Несмотря на то, что пользователи с подпиской тратят больше времени на поездки, в большинстве случаев расстояние данных поездок менее оптимального с точки зрения износа самоката. К тому же анализ показал, что пользователь с подпиской гораздо прибыльнее для бизнеса. ***Рекомендуется увеличение охвата пользователей подписками.***\n",
    "\n",
    "При создании дополнительных распределений получены следующие данные:\n",
    "\n",
    "* Чтобы получить вероятность продления 100 подписок, равную 95%, необходимо сделать не менее 855 рассылок;\n",
    "* Вероятность открытия менее 399.5 тысяч уведомлений составляет 15% при общем количестве рассылок 1000000."
   ]
  },
  {
   "cell_type": "code",
   "execution_count": null,
   "id": "f80431d6",
   "metadata": {},
   "outputs": [],
   "source": []
  }
 ],
 "metadata": {
  "ExecuteTimeLog": [
   {
    "duration": 654,
    "start_time": "2023-11-02T17:32:44.025Z"
   },
   {
    "duration": 95,
    "start_time": "2023-11-02T17:33:22.697Z"
   },
   {
    "duration": 125,
    "start_time": "2023-11-02T17:40:34.163Z"
   },
   {
    "duration": 74,
    "start_time": "2023-11-02T17:45:14.711Z"
   },
   {
    "duration": 29,
    "start_time": "2023-11-02T17:46:22.107Z"
   },
   {
    "duration": 70,
    "start_time": "2023-11-02T17:47:49.062Z"
   },
   {
    "duration": 35,
    "start_time": "2023-11-02T17:48:02.221Z"
   },
   {
    "duration": 30,
    "start_time": "2023-11-02T17:50:14.245Z"
   },
   {
    "duration": 34,
    "start_time": "2023-11-02T17:52:33.987Z"
   },
   {
    "duration": 560,
    "start_time": "2023-11-02T17:53:02.695Z"
   },
   {
    "duration": 35,
    "start_time": "2023-11-02T17:53:03.258Z"
   },
   {
    "duration": 5,
    "start_time": "2023-11-02T17:54:38.266Z"
   },
   {
    "duration": 5,
    "start_time": "2023-11-02T17:54:57.804Z"
   },
   {
    "duration": 5,
    "start_time": "2023-11-02T17:55:08.557Z"
   },
   {
    "duration": 4,
    "start_time": "2023-11-02T17:55:23.982Z"
   },
   {
    "duration": 6,
    "start_time": "2023-11-02T17:55:34.406Z"
   },
   {
    "duration": 98,
    "start_time": "2023-11-02T17:56:01.623Z"
   },
   {
    "duration": 10,
    "start_time": "2023-11-02T17:56:08.851Z"
   },
   {
    "duration": 8,
    "start_time": "2023-11-02T17:57:34.310Z"
   },
   {
    "duration": 6,
    "start_time": "2023-11-02T17:57:43.450Z"
   },
   {
    "duration": 82,
    "start_time": "2023-11-02T17:57:52.984Z"
   },
   {
    "duration": 17,
    "start_time": "2023-11-02T17:58:04.797Z"
   },
   {
    "duration": 18,
    "start_time": "2023-11-02T17:58:32.348Z"
   },
   {
    "duration": 19,
    "start_time": "2023-11-02T17:59:26.075Z"
   },
   {
    "duration": 32,
    "start_time": "2023-11-02T18:00:16.027Z"
   },
   {
    "duration": 11,
    "start_time": "2023-11-02T18:10:24.555Z"
   },
   {
    "duration": 16,
    "start_time": "2023-11-02T18:11:00.746Z"
   },
   {
    "duration": 7,
    "start_time": "2023-11-02T18:11:20.159Z"
   },
   {
    "duration": 21,
    "start_time": "2023-11-02T18:11:35.433Z"
   },
   {
    "duration": 81,
    "start_time": "2023-11-02T18:12:12.185Z"
   },
   {
    "duration": 12,
    "start_time": "2023-11-02T18:12:17.298Z"
   },
   {
    "duration": 26,
    "start_time": "2023-11-02T18:13:19.296Z"
   },
   {
    "duration": 582,
    "start_time": "2023-11-02T18:14:50.602Z"
   },
   {
    "duration": 239,
    "start_time": "2023-11-02T18:15:08.543Z"
   },
   {
    "duration": 148,
    "start_time": "2023-11-02T18:15:28.838Z"
   },
   {
    "duration": 193,
    "start_time": "2023-11-02T18:15:56.155Z"
   },
   {
    "duration": 350,
    "start_time": "2023-11-02T18:16:08.794Z"
   },
   {
    "duration": 274,
    "start_time": "2023-11-02T18:16:57.459Z"
   },
   {
    "duration": 280,
    "start_time": "2023-11-02T18:18:05.039Z"
   },
   {
    "duration": 308,
    "start_time": "2023-11-02T18:18:27.370Z"
   },
   {
    "duration": 150,
    "start_time": "2023-11-02T18:21:05.284Z"
   },
   {
    "duration": 184,
    "start_time": "2023-11-02T18:28:05.732Z"
   },
   {
    "duration": 132,
    "start_time": "2023-11-02T18:29:05.069Z"
   },
   {
    "duration": 300,
    "start_time": "2023-11-02T18:32:02.763Z"
   },
   {
    "duration": 138,
    "start_time": "2023-11-02T18:33:51.460Z"
   },
   {
    "duration": 427,
    "start_time": "2023-11-02T18:34:17.506Z"
   },
   {
    "duration": 285,
    "start_time": "2023-11-02T18:34:27.421Z"
   },
   {
    "duration": 280,
    "start_time": "2023-11-02T18:35:10.894Z"
   },
   {
    "duration": 322,
    "start_time": "2023-11-02T18:35:32.953Z"
   },
   {
    "duration": 741,
    "start_time": "2023-11-02T18:36:21.559Z"
   },
   {
    "duration": 35,
    "start_time": "2023-11-02T18:36:22.302Z"
   },
   {
    "duration": 20,
    "start_time": "2023-11-02T18:36:22.339Z"
   },
   {
    "duration": 306,
    "start_time": "2023-11-02T18:36:22.361Z"
   },
   {
    "duration": 319,
    "start_time": "2023-11-02T18:36:22.668Z"
   },
   {
    "duration": 362,
    "start_time": "2023-11-02T18:39:30.532Z"
   },
   {
    "duration": 287,
    "start_time": "2023-11-02T18:42:48.607Z"
   },
   {
    "duration": 316,
    "start_time": "2023-11-02T18:42:59.646Z"
   },
   {
    "duration": 195,
    "start_time": "2023-11-02T18:43:48.475Z"
   },
   {
    "duration": 324,
    "start_time": "2023-11-02T18:44:12.861Z"
   },
   {
    "duration": 411,
    "start_time": "2023-11-02T18:46:15.582Z"
   },
   {
    "duration": 71,
    "start_time": "2023-11-02T18:48:37.251Z"
   },
   {
    "duration": 145,
    "start_time": "2023-11-02T18:48:42.490Z"
   },
   {
    "duration": 344,
    "start_time": "2023-11-02T18:49:15.747Z"
   },
   {
    "duration": 273,
    "start_time": "2023-11-02T18:52:33.974Z"
   },
   {
    "duration": 130,
    "start_time": "2023-11-02T18:53:25.483Z"
   },
   {
    "duration": 1656,
    "start_time": "2023-11-02T18:54:03.751Z"
   },
   {
    "duration": 270,
    "start_time": "2023-11-02T18:58:07.757Z"
   },
   {
    "duration": 351,
    "start_time": "2023-11-02T18:58:29.729Z"
   },
   {
    "duration": 365,
    "start_time": "2023-11-02T18:58:55.673Z"
   },
   {
    "duration": 280,
    "start_time": "2023-11-02T18:59:34.356Z"
   },
   {
    "duration": 264,
    "start_time": "2023-11-02T18:59:49.436Z"
   },
   {
    "duration": 295,
    "start_time": "2023-11-02T19:01:08.374Z"
   },
   {
    "duration": 281,
    "start_time": "2023-11-02T19:01:27.655Z"
   },
   {
    "duration": 362,
    "start_time": "2023-11-02T19:01:38.934Z"
   },
   {
    "duration": 296,
    "start_time": "2023-11-02T19:01:55.474Z"
   },
   {
    "duration": 279,
    "start_time": "2023-11-02T19:02:18.883Z"
   },
   {
    "duration": 281,
    "start_time": "2023-11-02T19:03:25.078Z"
   },
   {
    "duration": 777,
    "start_time": "2023-11-02T19:03:40.257Z"
   },
   {
    "duration": 35,
    "start_time": "2023-11-02T19:03:41.037Z"
   },
   {
    "duration": 21,
    "start_time": "2023-11-02T19:03:41.074Z"
   },
   {
    "duration": 342,
    "start_time": "2023-11-02T19:03:41.097Z"
   },
   {
    "duration": 324,
    "start_time": "2023-11-02T19:03:41.441Z"
   },
   {
    "duration": 2823,
    "start_time": "2023-11-02T19:05:07.517Z"
   },
   {
    "duration": 279,
    "start_time": "2023-11-02T19:05:23.764Z"
   },
   {
    "duration": 147,
    "start_time": "2023-11-02T19:06:00.726Z"
   },
   {
    "duration": 1874,
    "start_time": "2023-11-02T19:06:10.023Z"
   },
   {
    "duration": 136,
    "start_time": "2023-11-02T19:06:28.550Z"
   },
   {
    "duration": 129,
    "start_time": "2023-11-02T19:08:42.213Z"
   },
   {
    "duration": 79,
    "start_time": "2023-11-02T19:09:07.352Z"
   },
   {
    "duration": 161,
    "start_time": "2023-11-02T19:09:12.259Z"
   },
   {
    "duration": 126,
    "start_time": "2023-11-02T19:12:58.046Z"
   },
   {
    "duration": 124,
    "start_time": "2023-11-02T19:13:17.276Z"
   },
   {
    "duration": 1950,
    "start_time": "2023-11-02T19:13:45.650Z"
   },
   {
    "duration": 205,
    "start_time": "2023-11-02T19:13:59.554Z"
   },
   {
    "duration": 131,
    "start_time": "2023-11-02T19:14:29.361Z"
   },
   {
    "duration": 127,
    "start_time": "2023-11-02T19:14:34.381Z"
   },
   {
    "duration": 128,
    "start_time": "2023-11-02T19:14:56.643Z"
   },
   {
    "duration": 125,
    "start_time": "2023-11-02T19:15:12.394Z"
   },
   {
    "duration": 129,
    "start_time": "2023-11-02T19:16:05.287Z"
   },
   {
    "duration": 122,
    "start_time": "2023-11-02T19:16:38.581Z"
   },
   {
    "duration": 130,
    "start_time": "2023-11-02T19:17:21.399Z"
   },
   {
    "duration": 124,
    "start_time": "2023-11-02T19:17:37.993Z"
   },
   {
    "duration": 125,
    "start_time": "2023-11-02T19:17:53.472Z"
   },
   {
    "duration": 130,
    "start_time": "2023-11-02T19:18:27.231Z"
   },
   {
    "duration": 218,
    "start_time": "2023-11-02T19:18:48.807Z"
   },
   {
    "duration": 129,
    "start_time": "2023-11-02T19:19:16.240Z"
   },
   {
    "duration": 4,
    "start_time": "2023-11-02T19:23:22.353Z"
   },
   {
    "duration": 5,
    "start_time": "2023-11-02T19:23:26.890Z"
   },
   {
    "duration": 143,
    "start_time": "2023-11-02T19:23:29.498Z"
   },
   {
    "duration": 130,
    "start_time": "2023-11-02T19:23:51.501Z"
   },
   {
    "duration": 138,
    "start_time": "2023-11-02T19:25:16.817Z"
   },
   {
    "duration": 142,
    "start_time": "2023-11-02T19:25:23.968Z"
   },
   {
    "duration": 301,
    "start_time": "2023-11-02T19:25:38.798Z"
   },
   {
    "duration": 305,
    "start_time": "2023-11-02T19:25:54.300Z"
   },
   {
    "duration": 342,
    "start_time": "2023-11-02T19:26:25.460Z"
   },
   {
    "duration": 278,
    "start_time": "2023-11-02T19:26:37.898Z"
   },
   {
    "duration": 287,
    "start_time": "2023-11-02T19:27:08.218Z"
   },
   {
    "duration": 287,
    "start_time": "2023-11-02T19:27:21.581Z"
   },
   {
    "duration": 1204,
    "start_time": "2023-11-08T15:12:26.191Z"
   },
   {
    "duration": 45,
    "start_time": "2023-11-08T15:12:27.397Z"
   },
   {
    "duration": 21,
    "start_time": "2023-11-08T15:12:27.444Z"
   },
   {
    "duration": 356,
    "start_time": "2023-11-08T15:12:27.467Z"
   },
   {
    "duration": 334,
    "start_time": "2023-11-08T15:12:27.826Z"
   },
   {
    "duration": 27,
    "start_time": "2023-11-08T15:26:22.713Z"
   },
   {
    "duration": 45,
    "start_time": "2023-11-08T15:30:30.646Z"
   },
   {
    "duration": 35,
    "start_time": "2023-11-08T15:31:43.171Z"
   },
   {
    "duration": 55,
    "start_time": "2023-11-08T15:31:57.761Z"
   },
   {
    "duration": 125,
    "start_time": "2023-11-08T15:32:10.561Z"
   },
   {
    "duration": 42,
    "start_time": "2023-11-08T15:35:32.208Z"
   },
   {
    "duration": 39,
    "start_time": "2023-11-08T15:35:41.046Z"
   },
   {
    "duration": 826,
    "start_time": "2023-11-08T15:35:54.373Z"
   },
   {
    "duration": 34,
    "start_time": "2023-11-08T15:35:55.202Z"
   },
   {
    "duration": 31,
    "start_time": "2023-11-08T15:35:55.239Z"
   },
   {
    "duration": 465,
    "start_time": "2023-11-08T15:35:55.272Z"
   },
   {
    "duration": 356,
    "start_time": "2023-11-08T15:35:55.740Z"
   },
   {
    "duration": 69,
    "start_time": "2023-11-08T15:35:56.098Z"
   },
   {
    "duration": 1123,
    "start_time": "2023-11-08T15:36:08.984Z"
   },
   {
    "duration": 42,
    "start_time": "2023-11-08T15:36:10.110Z"
   },
   {
    "duration": 23,
    "start_time": "2023-11-08T15:36:10.154Z"
   },
   {
    "duration": 455,
    "start_time": "2023-11-08T15:36:10.179Z"
   },
   {
    "duration": 400,
    "start_time": "2023-11-08T15:36:10.637Z"
   },
   {
    "duration": 39,
    "start_time": "2023-11-08T15:36:11.039Z"
   },
   {
    "duration": 40,
    "start_time": "2023-11-08T15:38:01.777Z"
   },
   {
    "duration": 51,
    "start_time": "2023-11-08T15:38:12.576Z"
   },
   {
    "duration": 166,
    "start_time": "2023-11-08T15:38:42.072Z"
   },
   {
    "duration": 49,
    "start_time": "2023-11-09T18:24:28.200Z"
   },
   {
    "duration": 7,
    "start_time": "2023-11-09T18:24:51.393Z"
   },
   {
    "duration": 1086,
    "start_time": "2023-11-09T18:24:57.228Z"
   },
   {
    "duration": 30,
    "start_time": "2023-11-09T18:24:58.316Z"
   },
   {
    "duration": 51,
    "start_time": "2023-11-09T18:24:58.347Z"
   },
   {
    "duration": 426,
    "start_time": "2023-11-09T18:24:58.399Z"
   },
   {
    "duration": 321,
    "start_time": "2023-11-09T18:24:58.828Z"
   },
   {
    "duration": 120,
    "start_time": "2023-11-09T18:24:59.151Z"
   },
   {
    "duration": 44,
    "start_time": "2023-11-09T18:25:49.689Z"
   },
   {
    "duration": 38,
    "start_time": "2023-11-09T18:26:03.353Z"
   },
   {
    "duration": 131,
    "start_time": "2023-11-09T18:26:20.451Z"
   },
   {
    "duration": 43,
    "start_time": "2023-11-09T18:26:29.931Z"
   },
   {
    "duration": 21,
    "start_time": "2023-11-09T18:28:12.318Z"
   },
   {
    "duration": 45,
    "start_time": "2023-11-09T18:28:24.077Z"
   },
   {
    "duration": 13,
    "start_time": "2023-11-09T18:29:07.204Z"
   },
   {
    "duration": 34,
    "start_time": "2023-11-09T18:29:15.914Z"
   },
   {
    "duration": 44,
    "start_time": "2023-11-09T18:29:55.571Z"
   },
   {
    "duration": 35,
    "start_time": "2023-11-09T18:30:04.945Z"
   },
   {
    "duration": 822,
    "start_time": "2023-11-09T18:30:39.871Z"
   },
   {
    "duration": 33,
    "start_time": "2023-11-09T18:30:40.696Z"
   },
   {
    "duration": 22,
    "start_time": "2023-11-09T18:30:40.731Z"
   },
   {
    "duration": 339,
    "start_time": "2023-11-09T18:30:40.782Z"
   },
   {
    "duration": 343,
    "start_time": "2023-11-09T18:30:41.124Z"
   },
   {
    "duration": 43,
    "start_time": "2023-11-09T18:30:41.469Z"
   },
   {
    "duration": 42,
    "start_time": "2023-11-09T18:35:57.673Z"
   },
   {
    "duration": 17,
    "start_time": "2023-11-09T18:38:47.112Z"
   },
   {
    "duration": 727,
    "start_time": "2023-11-09T18:41:08.378Z"
   },
   {
    "duration": 314,
    "start_time": "2023-11-09T18:45:59.245Z"
   },
   {
    "duration": 363,
    "start_time": "2023-11-09T18:46:30.137Z"
   },
   {
    "duration": 748,
    "start_time": "2023-11-09T18:47:34.930Z"
   },
   {
    "duration": 622,
    "start_time": "2023-11-09T18:50:27.400Z"
   },
   {
    "duration": 33,
    "start_time": "2023-11-09T19:17:06.195Z"
   },
   {
    "duration": 30,
    "start_time": "2023-11-09T19:17:21.905Z"
   },
   {
    "duration": 23,
    "start_time": "2023-11-09T19:17:57.840Z"
   },
   {
    "duration": 35,
    "start_time": "2023-11-09T19:19:26.557Z"
   },
   {
    "duration": 42,
    "start_time": "2023-11-09T19:22:52.570Z"
   },
   {
    "duration": 33,
    "start_time": "2023-11-09T19:23:20.553Z"
   },
   {
    "duration": 1462,
    "start_time": "2023-11-09T19:26:02.497Z"
   },
   {
    "duration": 30,
    "start_time": "2023-11-09T19:26:20.648Z"
   },
   {
    "duration": 1259,
    "start_time": "2023-11-09T19:27:13.911Z"
   },
   {
    "duration": 23,
    "start_time": "2023-11-09T19:27:22.429Z"
   },
   {
    "duration": 29,
    "start_time": "2023-11-09T19:28:23.450Z"
   },
   {
    "duration": 28,
    "start_time": "2023-11-09T19:36:39.708Z"
   },
   {
    "duration": 27,
    "start_time": "2023-11-09T19:37:10.097Z"
   },
   {
    "duration": 29,
    "start_time": "2023-11-09T20:20:19.429Z"
   },
   {
    "duration": 31,
    "start_time": "2023-11-09T20:20:34.651Z"
   },
   {
    "duration": 32,
    "start_time": "2023-11-09T20:21:10.209Z"
   },
   {
    "duration": 29,
    "start_time": "2023-11-09T20:21:25.848Z"
   },
   {
    "duration": 29,
    "start_time": "2023-11-09T20:21:48.800Z"
   },
   {
    "duration": 36,
    "start_time": "2023-11-09T20:22:05.390Z"
   },
   {
    "duration": 31,
    "start_time": "2023-11-09T20:22:27.558Z"
   },
   {
    "duration": 33,
    "start_time": "2023-11-09T20:22:39.236Z"
   },
   {
    "duration": 36,
    "start_time": "2023-11-09T20:22:50.764Z"
   },
   {
    "duration": 32,
    "start_time": "2023-11-09T20:23:06.251Z"
   },
   {
    "duration": 30,
    "start_time": "2023-11-09T20:24:29.943Z"
   },
   {
    "duration": 35,
    "start_time": "2023-11-09T20:25:02.741Z"
   },
   {
    "duration": 32,
    "start_time": "2023-11-09T20:25:28.100Z"
   },
   {
    "duration": 34,
    "start_time": "2023-11-09T20:26:12.947Z"
   },
   {
    "duration": 40,
    "start_time": "2023-11-09T20:35:39.856Z"
   },
   {
    "duration": 35,
    "start_time": "2023-11-09T20:36:36.415Z"
   },
   {
    "duration": 34,
    "start_time": "2023-11-09T20:36:52.855Z"
   },
   {
    "duration": 43,
    "start_time": "2023-11-09T20:37:15.980Z"
   },
   {
    "duration": 33,
    "start_time": "2023-11-09T20:37:23.011Z"
   },
   {
    "duration": 32,
    "start_time": "2023-11-09T20:37:38.779Z"
   },
   {
    "duration": 33,
    "start_time": "2023-11-09T20:37:43.082Z"
   },
   {
    "duration": 25,
    "start_time": "2023-11-09T20:49:06.906Z"
   },
   {
    "duration": 1228,
    "start_time": "2023-11-09T20:49:38.973Z"
   },
   {
    "duration": 1258,
    "start_time": "2023-11-09T20:51:31.965Z"
   },
   {
    "duration": 8711,
    "start_time": "2023-11-09T20:51:42.032Z"
   },
   {
    "duration": 8652,
    "start_time": "2023-11-09T20:54:57.731Z"
   },
   {
    "duration": 9078,
    "start_time": "2023-11-09T21:00:02.194Z"
   },
   {
    "duration": 8774,
    "start_time": "2023-11-09T21:01:45.471Z"
   },
   {
    "duration": 37,
    "start_time": "2023-11-09T21:03:59.384Z"
   },
   {
    "duration": 31,
    "start_time": "2023-11-09T21:10:40.189Z"
   },
   {
    "duration": 61,
    "start_time": "2023-11-09T21:11:30.669Z"
   },
   {
    "duration": 47,
    "start_time": "2023-11-09T21:12:10.114Z"
   },
   {
    "duration": 48,
    "start_time": "2023-11-09T21:12:31.984Z"
   },
   {
    "duration": 34,
    "start_time": "2023-11-09T21:15:44.673Z"
   },
   {
    "duration": 37,
    "start_time": "2023-11-09T21:15:54.799Z"
   },
   {
    "duration": 54,
    "start_time": "2023-11-09T21:16:07.343Z"
   },
   {
    "duration": 47,
    "start_time": "2023-11-09T21:16:45.373Z"
   },
   {
    "duration": 63,
    "start_time": "2023-11-09T21:19:28.614Z"
   },
   {
    "duration": 58,
    "start_time": "2023-11-09T21:19:38.605Z"
   },
   {
    "duration": 8630,
    "start_time": "2023-11-10T04:19:23.717Z"
   },
   {
    "duration": 9045,
    "start_time": "2023-11-10T04:29:49.809Z"
   },
   {
    "duration": 115,
    "start_time": "2023-11-10T04:30:36.988Z"
   },
   {
    "duration": 192,
    "start_time": "2023-11-10T04:30:46.327Z"
   },
   {
    "duration": 181,
    "start_time": "2023-11-10T04:34:14.706Z"
   },
   {
    "duration": 187,
    "start_time": "2023-11-10T04:34:39.802Z"
   },
   {
    "duration": 147,
    "start_time": "2023-11-10T04:34:56.175Z"
   },
   {
    "duration": 183,
    "start_time": "2023-11-10T04:38:42.512Z"
   },
   {
    "duration": 166,
    "start_time": "2023-11-10T04:38:56.369Z"
   },
   {
    "duration": 594,
    "start_time": "2023-11-10T04:39:16.241Z"
   },
   {
    "duration": 11131,
    "start_time": "2023-11-10T04:39:57.470Z"
   },
   {
    "duration": 10244,
    "start_time": "2023-11-10T04:40:10.009Z"
   },
   {
    "duration": 9768,
    "start_time": "2023-11-10T04:41:42.362Z"
   },
   {
    "duration": 45,
    "start_time": "2023-11-10T04:43:10.708Z"
   },
   {
    "duration": 788,
    "start_time": "2023-11-10T11:28:32.787Z"
   },
   {
    "duration": 31,
    "start_time": "2023-11-10T11:28:33.577Z"
   },
   {
    "duration": 23,
    "start_time": "2023-11-10T11:28:33.610Z"
   },
   {
    "duration": 338,
    "start_time": "2023-11-10T11:28:33.635Z"
   },
   {
    "duration": 319,
    "start_time": "2023-11-10T11:28:33.980Z"
   },
   {
    "duration": 38,
    "start_time": "2023-11-10T11:28:34.300Z"
   },
   {
    "duration": 680,
    "start_time": "2023-11-10T11:28:34.340Z"
   },
   {
    "duration": 79,
    "start_time": "2023-11-10T11:28:35.022Z"
   },
   {
    "duration": 0,
    "start_time": "2023-11-10T11:28:35.103Z"
   },
   {
    "duration": 47,
    "start_time": "2023-11-10T11:29:35.893Z"
   },
   {
    "duration": 9229,
    "start_time": "2023-11-10T11:30:08.651Z"
   },
   {
    "duration": 37,
    "start_time": "2023-11-10T11:30:33.810Z"
   },
   {
    "duration": 9364,
    "start_time": "2023-11-10T11:30:42.656Z"
   },
   {
    "duration": 38,
    "start_time": "2023-11-10T11:33:24.243Z"
   },
   {
    "duration": 29,
    "start_time": "2023-11-10T11:33:31.038Z"
   },
   {
    "duration": 14,
    "start_time": "2023-11-10T11:34:28.777Z"
   },
   {
    "duration": 15,
    "start_time": "2023-11-10T11:34:40.895Z"
   },
   {
    "duration": 39,
    "start_time": "2023-11-10T11:34:53.004Z"
   },
   {
    "duration": 41,
    "start_time": "2023-11-10T11:35:14.729Z"
   },
   {
    "duration": 41,
    "start_time": "2023-11-10T11:35:31.401Z"
   },
   {
    "duration": 43,
    "start_time": "2023-11-10T11:37:56.211Z"
   },
   {
    "duration": 9627,
    "start_time": "2023-11-10T11:38:15.496Z"
   },
   {
    "duration": 2860,
    "start_time": "2023-11-10T11:40:02.193Z"
   },
   {
    "duration": 5,
    "start_time": "2023-11-10T11:40:19.097Z"
   },
   {
    "duration": 41,
    "start_time": "2023-11-10T11:40:33.423Z"
   },
   {
    "duration": 4,
    "start_time": "2023-11-10T11:40:37.860Z"
   },
   {
    "duration": 39,
    "start_time": "2023-11-10T11:42:28.733Z"
   },
   {
    "duration": 4431,
    "start_time": "2023-11-10T11:42:34.463Z"
   },
   {
    "duration": 40,
    "start_time": "2023-11-10T11:43:15.418Z"
   },
   {
    "duration": 4387,
    "start_time": "2023-11-10T11:43:18.734Z"
   },
   {
    "duration": 12,
    "start_time": "2023-11-10T11:44:10.259Z"
   },
   {
    "duration": 13,
    "start_time": "2023-11-10T11:46:18.189Z"
   },
   {
    "duration": 165,
    "start_time": "2023-11-10T11:47:28.145Z"
   },
   {
    "duration": 5214,
    "start_time": "2023-11-10T11:50:03.468Z"
   },
   {
    "duration": 238,
    "start_time": "2023-11-10T11:52:21.044Z"
   },
   {
    "duration": 67,
    "start_time": "2023-11-10T11:52:55.264Z"
   },
   {
    "duration": 57,
    "start_time": "2023-11-10T11:53:04.571Z"
   },
   {
    "duration": 38448,
    "start_time": "2023-11-10T11:53:29.193Z"
   },
   {
    "duration": 41,
    "start_time": "2023-11-10T11:54:20.238Z"
   },
   {
    "duration": 5561,
    "start_time": "2023-11-10T11:54:26.185Z"
   },
   {
    "duration": 147,
    "start_time": "2023-11-10T11:57:03.686Z"
   },
   {
    "duration": 99,
    "start_time": "2023-11-10T11:57:14.597Z"
   },
   {
    "duration": 96,
    "start_time": "2023-11-10T11:59:36.862Z"
   },
   {
    "duration": 5030,
    "start_time": "2023-11-10T12:00:29.914Z"
   },
   {
    "duration": 5095,
    "start_time": "2023-11-10T12:01:03.827Z"
   },
   {
    "duration": 4946,
    "start_time": "2023-11-10T12:02:51.327Z"
   },
   {
    "duration": 4859,
    "start_time": "2023-11-10T12:06:51.202Z"
   },
   {
    "duration": 44,
    "start_time": "2023-11-10T12:08:21.175Z"
   },
   {
    "duration": 1659,
    "start_time": "2023-11-10T12:08:24.029Z"
   },
   {
    "duration": 41,
    "start_time": "2023-11-10T12:08:39.429Z"
   },
   {
    "duration": 5182,
    "start_time": "2023-11-10T12:08:43.885Z"
   },
   {
    "duration": 4939,
    "start_time": "2023-11-10T12:15:34.562Z"
   },
   {
    "duration": 6159,
    "start_time": "2023-11-10T12:23:20.439Z"
   },
   {
    "duration": 6118,
    "start_time": "2023-11-10T12:23:47.067Z"
   },
   {
    "duration": 6044,
    "start_time": "2023-11-10T12:24:37.416Z"
   },
   {
    "duration": 6427,
    "start_time": "2023-11-10T12:26:41.762Z"
   },
   {
    "duration": 6196,
    "start_time": "2023-11-10T12:28:31.322Z"
   },
   {
    "duration": 4878,
    "start_time": "2023-11-10T12:28:38.944Z"
   },
   {
    "duration": 4802,
    "start_time": "2023-11-10T12:28:50.991Z"
   },
   {
    "duration": 108,
    "start_time": "2023-11-10T12:29:39.767Z"
   },
   {
    "duration": 4881,
    "start_time": "2023-11-10T12:30:00.373Z"
   },
   {
    "duration": 100,
    "start_time": "2023-11-10T12:30:24.362Z"
   },
   {
    "duration": 99,
    "start_time": "2023-11-10T12:31:08.637Z"
   },
   {
    "duration": 5767,
    "start_time": "2023-11-10T12:31:41.262Z"
   },
   {
    "duration": 5729,
    "start_time": "2023-11-10T12:32:28.669Z"
   },
   {
    "duration": 104,
    "start_time": "2023-11-10T12:33:32.892Z"
   },
   {
    "duration": 5030,
    "start_time": "2023-11-10T12:35:21.622Z"
   },
   {
    "duration": 8821,
    "start_time": "2023-11-10T12:40:02.502Z"
   },
   {
    "duration": 8781,
    "start_time": "2023-11-10T12:40:41.974Z"
   },
   {
    "duration": 11,
    "start_time": "2023-11-10T12:42:19.731Z"
   },
   {
    "duration": 17,
    "start_time": "2023-11-10T12:42:19.810Z"
   },
   {
    "duration": 8790,
    "start_time": "2023-11-10T12:42:26.921Z"
   },
   {
    "duration": 5078,
    "start_time": "2023-11-10T12:55:25.568Z"
   },
   {
    "duration": 25,
    "start_time": "2023-11-10T13:21:37.680Z"
   },
   {
    "duration": 9,
    "start_time": "2023-11-10T13:28:24.114Z"
   },
   {
    "duration": 10,
    "start_time": "2023-11-10T13:29:12.335Z"
   },
   {
    "duration": 10,
    "start_time": "2023-11-10T13:31:56.349Z"
   },
   {
    "duration": 15,
    "start_time": "2023-11-10T13:32:19.461Z"
   },
   {
    "duration": 15,
    "start_time": "2023-11-10T13:32:52.028Z"
   },
   {
    "duration": 16,
    "start_time": "2023-11-10T13:33:41.557Z"
   },
   {
    "duration": 43,
    "start_time": "2023-11-10T13:56:14.397Z"
   },
   {
    "duration": 41,
    "start_time": "2023-11-10T13:59:12.818Z"
   },
   {
    "duration": 10,
    "start_time": "2023-11-10T13:59:49.497Z"
   },
   {
    "duration": 18,
    "start_time": "2023-11-10T13:59:54.532Z"
   },
   {
    "duration": 45,
    "start_time": "2023-11-10T14:02:47.118Z"
   },
   {
    "duration": 8265,
    "start_time": "2023-11-10T14:02:49.660Z"
   },
   {
    "duration": 17,
    "start_time": "2023-11-10T14:03:19.323Z"
   },
   {
    "duration": 18,
    "start_time": "2023-11-10T14:03:53.857Z"
   },
   {
    "duration": 18,
    "start_time": "2023-11-10T14:04:25.407Z"
   },
   {
    "duration": 8377,
    "start_time": "2023-11-10T14:05:30.053Z"
   },
   {
    "duration": 12,
    "start_time": "2023-11-10T14:08:25.341Z"
   },
   {
    "duration": 13,
    "start_time": "2023-11-10T14:08:37.540Z"
   },
   {
    "duration": 11,
    "start_time": "2023-11-10T14:08:46.123Z"
   },
   {
    "duration": 12,
    "start_time": "2023-11-10T14:13:12.039Z"
   },
   {
    "duration": 13,
    "start_time": "2023-11-10T14:13:15.935Z"
   },
   {
    "duration": 23,
    "start_time": "2023-11-10T14:14:43.516Z"
   },
   {
    "duration": 175,
    "start_time": "2023-11-10T14:14:53.835Z"
   },
   {
    "duration": 24,
    "start_time": "2023-11-10T14:15:53.233Z"
   },
   {
    "duration": 216,
    "start_time": "2023-11-10T14:16:02.375Z"
   },
   {
    "duration": 185,
    "start_time": "2023-11-10T14:16:21.655Z"
   },
   {
    "duration": 160,
    "start_time": "2023-11-10T14:16:28.569Z"
   },
   {
    "duration": 8507,
    "start_time": "2023-11-10T14:19:22.952Z"
   },
   {
    "duration": 17,
    "start_time": "2023-11-10T14:19:44.773Z"
   },
   {
    "duration": 7897,
    "start_time": "2023-11-10T14:20:03.644Z"
   },
   {
    "duration": 12,
    "start_time": "2023-11-10T14:20:24.338Z"
   },
   {
    "duration": 11,
    "start_time": "2023-11-10T14:21:43.415Z"
   },
   {
    "duration": 7975,
    "start_time": "2023-11-10T14:22:30.982Z"
   },
   {
    "duration": 7867,
    "start_time": "2023-11-10T14:23:27.574Z"
   },
   {
    "duration": 7686,
    "start_time": "2023-11-10T14:24:02.692Z"
   },
   {
    "duration": 7701,
    "start_time": "2023-11-10T14:24:58.024Z"
   },
   {
    "duration": 7923,
    "start_time": "2023-11-10T14:25:20.187Z"
   },
   {
    "duration": 7696,
    "start_time": "2023-11-10T14:25:51.891Z"
   },
   {
    "duration": 7836,
    "start_time": "2023-11-10T14:26:08.091Z"
   },
   {
    "duration": 8356,
    "start_time": "2023-11-10T14:26:29.986Z"
   },
   {
    "duration": 7935,
    "start_time": "2023-11-10T14:26:57.466Z"
   },
   {
    "duration": 7927,
    "start_time": "2023-11-10T14:27:45.984Z"
   },
   {
    "duration": 7938,
    "start_time": "2023-11-10T14:28:05.196Z"
   },
   {
    "duration": 8403,
    "start_time": "2023-11-10T14:28:20.868Z"
   },
   {
    "duration": 8048,
    "start_time": "2023-11-10T14:29:36.122Z"
   },
   {
    "duration": 4,
    "start_time": "2023-11-10T14:35:01.277Z"
   },
   {
    "duration": 10,
    "start_time": "2023-11-10T14:35:06.291Z"
   },
   {
    "duration": 7,
    "start_time": "2023-11-10T14:35:21.720Z"
   },
   {
    "duration": 7,
    "start_time": "2023-11-10T14:35:36.922Z"
   },
   {
    "duration": 6,
    "start_time": "2023-11-10T14:36:39.400Z"
   },
   {
    "duration": 6,
    "start_time": "2023-11-10T14:37:02.263Z"
   },
   {
    "duration": 6,
    "start_time": "2023-11-10T14:37:05.551Z"
   },
   {
    "duration": 12,
    "start_time": "2023-11-10T15:04:31.517Z"
   },
   {
    "duration": 13,
    "start_time": "2023-11-10T15:18:21.900Z"
   },
   {
    "duration": 2076,
    "start_time": "2023-11-10T15:18:55.761Z"
   },
   {
    "duration": 13,
    "start_time": "2023-11-10T15:19:11.027Z"
   },
   {
    "duration": 17,
    "start_time": "2023-11-10T15:24:32.173Z"
   },
   {
    "duration": 12,
    "start_time": "2023-11-10T15:24:56.393Z"
   },
   {
    "duration": 13,
    "start_time": "2023-11-10T15:25:03.280Z"
   },
   {
    "duration": 13,
    "start_time": "2023-11-10T15:25:42.892Z"
   },
   {
    "duration": 13,
    "start_time": "2023-11-10T15:28:58.076Z"
   },
   {
    "duration": 15,
    "start_time": "2023-11-10T15:29:16.484Z"
   },
   {
    "duration": 18,
    "start_time": "2023-11-10T15:29:25.852Z"
   },
   {
    "duration": 12,
    "start_time": "2023-11-10T15:29:57.138Z"
   },
   {
    "duration": 12,
    "start_time": "2023-11-10T15:30:51.024Z"
   },
   {
    "duration": 15,
    "start_time": "2023-11-10T15:30:56.599Z"
   },
   {
    "duration": 19,
    "start_time": "2023-11-10T15:31:07.719Z"
   },
   {
    "duration": 14,
    "start_time": "2023-11-10T15:31:12.303Z"
   },
   {
    "duration": 16,
    "start_time": "2023-11-10T15:34:50.277Z"
   },
   {
    "duration": 19,
    "start_time": "2023-11-10T15:34:56.908Z"
   },
   {
    "duration": 13,
    "start_time": "2023-11-10T15:35:29.808Z"
   },
   {
    "duration": 11,
    "start_time": "2023-11-10T15:36:36.272Z"
   },
   {
    "duration": 14,
    "start_time": "2023-11-10T15:36:40.153Z"
   },
   {
    "duration": 12,
    "start_time": "2023-11-10T15:36:58.828Z"
   },
   {
    "duration": 11,
    "start_time": "2023-11-10T15:37:12.607Z"
   },
   {
    "duration": 14,
    "start_time": "2023-11-10T15:37:16.141Z"
   },
   {
    "duration": 43,
    "start_time": "2023-11-10T15:38:46.365Z"
   },
   {
    "duration": 7373,
    "start_time": "2023-11-10T15:38:51.170Z"
   },
   {
    "duration": 44,
    "start_time": "2023-11-10T15:40:16.216Z"
   },
   {
    "duration": 90,
    "start_time": "2023-11-10T15:40:20.487Z"
   },
   {
    "duration": 7500,
    "start_time": "2023-11-10T15:40:23.197Z"
   },
   {
    "duration": 7671,
    "start_time": "2023-11-10T15:42:02.075Z"
   },
   {
    "duration": 7446,
    "start_time": "2023-11-10T15:46:29.229Z"
   },
   {
    "duration": 7448,
    "start_time": "2023-11-10T15:48:09.810Z"
   },
   {
    "duration": 7635,
    "start_time": "2023-11-10T15:48:37.718Z"
   },
   {
    "duration": 7499,
    "start_time": "2023-11-10T15:49:50.483Z"
   },
   {
    "duration": 7622,
    "start_time": "2023-11-10T15:51:26.317Z"
   },
   {
    "duration": 6,
    "start_time": "2023-11-10T15:58:17.123Z"
   },
   {
    "duration": 7840,
    "start_time": "2023-11-10T15:58:27.848Z"
   },
   {
    "duration": 7441,
    "start_time": "2023-11-10T15:59:28.688Z"
   },
   {
    "duration": 8286,
    "start_time": "2023-11-10T16:00:05.444Z"
   },
   {
    "duration": 7622,
    "start_time": "2023-11-10T16:02:02.592Z"
   },
   {
    "duration": 7532,
    "start_time": "2023-11-10T16:02:25.198Z"
   },
   {
    "duration": 7569,
    "start_time": "2023-11-10T16:03:03.788Z"
   },
   {
    "duration": 7690,
    "start_time": "2023-11-10T16:03:26.170Z"
   },
   {
    "duration": 29,
    "start_time": "2023-11-10T16:06:33.867Z"
   },
   {
    "duration": 7718,
    "start_time": "2023-11-10T16:07:00.626Z"
   },
   {
    "duration": 28,
    "start_time": "2023-11-10T16:07:40.845Z"
   },
   {
    "duration": 105,
    "start_time": "2023-11-10T16:08:10.438Z"
   },
   {
    "duration": 1716,
    "start_time": "2023-11-10T16:08:15.101Z"
   },
   {
    "duration": 7579,
    "start_time": "2023-11-10T16:08:42.429Z"
   },
   {
    "duration": 26,
    "start_time": "2023-11-10T16:09:42.955Z"
   },
   {
    "duration": 7571,
    "start_time": "2023-11-10T16:10:29.929Z"
   },
   {
    "duration": 7555,
    "start_time": "2023-11-10T16:11:35.021Z"
   },
   {
    "duration": 7523,
    "start_time": "2023-11-10T16:11:50.259Z"
   },
   {
    "duration": 37,
    "start_time": "2023-11-10T16:12:56.726Z"
   },
   {
    "duration": 7657,
    "start_time": "2023-11-10T16:13:10.872Z"
   },
   {
    "duration": 7474,
    "start_time": "2023-11-10T16:14:27.380Z"
   },
   {
    "duration": 814,
    "start_time": "2023-11-10T16:16:03.694Z"
   },
   {
    "duration": 32,
    "start_time": "2023-11-10T16:16:04.510Z"
   },
   {
    "duration": 49,
    "start_time": "2023-11-10T16:16:04.544Z"
   },
   {
    "duration": 357,
    "start_time": "2023-11-10T16:16:04.594Z"
   },
   {
    "duration": 370,
    "start_time": "2023-11-10T16:16:04.953Z"
   },
   {
    "duration": 39,
    "start_time": "2023-11-10T16:16:05.325Z"
   },
   {
    "duration": 766,
    "start_time": "2023-11-10T16:16:05.366Z"
   },
   {
    "duration": 7627,
    "start_time": "2023-11-10T16:16:06.134Z"
   },
   {
    "duration": 10,
    "start_time": "2023-11-10T16:16:13.763Z"
   },
   {
    "duration": 650,
    "start_time": "2023-11-17T09:10:44.690Z"
   },
   {
    "duration": 1181,
    "start_time": "2023-11-17T09:11:01.053Z"
   },
   {
    "duration": 26,
    "start_time": "2023-11-17T09:11:02.236Z"
   },
   {
    "duration": 232,
    "start_time": "2023-11-17T09:11:02.264Z"
   },
   {
    "duration": 432,
    "start_time": "2023-11-17T09:11:02.497Z"
   },
   {
    "duration": 294,
    "start_time": "2023-11-17T09:11:02.931Z"
   },
   {
    "duration": 42,
    "start_time": "2023-11-17T09:11:03.226Z"
   },
   {
    "duration": 643,
    "start_time": "2023-11-17T09:11:03.269Z"
   },
   {
    "duration": 6521,
    "start_time": "2023-11-17T09:11:03.913Z"
   },
   {
    "duration": 505,
    "start_time": "2023-11-17T09:11:10.436Z"
   },
   {
    "duration": 5,
    "start_time": "2023-11-17T09:11:39.946Z"
   },
   {
    "duration": 7,
    "start_time": "2023-11-17T09:12:32.984Z"
   },
   {
    "duration": 5,
    "start_time": "2023-11-17T09:15:41.068Z"
   },
   {
    "duration": 7,
    "start_time": "2023-11-17T09:42:50.328Z"
   },
   {
    "duration": 22,
    "start_time": "2023-11-17T09:43:02.797Z"
   },
   {
    "duration": 23,
    "start_time": "2023-11-17T09:44:15.860Z"
   },
   {
    "duration": 41,
    "start_time": "2023-11-17T09:46:28.163Z"
   },
   {
    "duration": 34,
    "start_time": "2023-11-17T09:46:58.531Z"
   },
   {
    "duration": 39,
    "start_time": "2023-11-17T09:47:15.461Z"
   },
   {
    "duration": 34,
    "start_time": "2023-11-17T09:47:19.763Z"
   },
   {
    "duration": 33,
    "start_time": "2023-11-17T09:47:48.658Z"
   },
   {
    "duration": 1138,
    "start_time": "2023-11-17T11:40:03.489Z"
   },
   {
    "duration": 32,
    "start_time": "2023-11-17T11:40:04.629Z"
   },
   {
    "duration": 20,
    "start_time": "2023-11-17T11:40:04.662Z"
   },
   {
    "duration": 359,
    "start_time": "2023-11-17T11:40:04.684Z"
   },
   {
    "duration": 313,
    "start_time": "2023-11-17T11:40:05.045Z"
   },
   {
    "duration": 36,
    "start_time": "2023-11-17T11:40:05.360Z"
   },
   {
    "duration": 713,
    "start_time": "2023-11-17T11:40:05.398Z"
   },
   {
    "duration": 7090,
    "start_time": "2023-11-17T11:40:06.112Z"
   },
   {
    "duration": 536,
    "start_time": "2023-11-17T11:40:13.204Z"
   },
   {
    "duration": 1344,
    "start_time": "2023-11-17T11:42:15.956Z"
   },
   {
    "duration": 10,
    "start_time": "2023-11-17T11:43:01.953Z"
   },
   {
    "duration": 16,
    "start_time": "2023-11-17T11:43:10.894Z"
   },
   {
    "duration": 8,
    "start_time": "2023-11-17T11:43:13.969Z"
   },
   {
    "duration": 53,
    "start_time": "2023-11-17T11:43:50.833Z"
   },
   {
    "duration": 29,
    "start_time": "2023-11-17T11:44:21.384Z"
   },
   {
    "duration": 6,
    "start_time": "2023-11-17T11:45:08.271Z"
   },
   {
    "duration": 12,
    "start_time": "2023-11-17T11:45:11.989Z"
   },
   {
    "duration": 28,
    "start_time": "2023-11-17T11:45:28.424Z"
   },
   {
    "duration": 29,
    "start_time": "2023-11-17T11:49:08.018Z"
   },
   {
    "duration": 42,
    "start_time": "2023-11-17T11:52:42.011Z"
   },
   {
    "duration": 37,
    "start_time": "2023-11-17T11:52:52.965Z"
   },
   {
    "duration": 1242,
    "start_time": "2023-11-18T07:51:35.070Z"
   },
   {
    "duration": 33,
    "start_time": "2023-11-18T07:51:36.314Z"
   },
   {
    "duration": 23,
    "start_time": "2023-11-18T07:51:36.348Z"
   },
   {
    "duration": 359,
    "start_time": "2023-11-18T07:51:36.372Z"
   },
   {
    "duration": 344,
    "start_time": "2023-11-18T07:51:36.734Z"
   },
   {
    "duration": 43,
    "start_time": "2023-11-18T07:51:37.080Z"
   },
   {
    "duration": 714,
    "start_time": "2023-11-18T07:51:37.125Z"
   },
   {
    "duration": 7071,
    "start_time": "2023-11-18T07:51:37.840Z"
   },
   {
    "duration": 518,
    "start_time": "2023-11-18T07:51:44.913Z"
   },
   {
    "duration": 11,
    "start_time": "2023-11-18T07:51:45.433Z"
   },
   {
    "duration": 31,
    "start_time": "2023-11-18T07:54:57.598Z"
   },
   {
    "duration": 122,
    "start_time": "2023-11-18T07:55:43.273Z"
   },
   {
    "duration": 20,
    "start_time": "2023-11-18T07:56:23.475Z"
   },
   {
    "duration": 30,
    "start_time": "2023-11-18T07:56:39.689Z"
   },
   {
    "duration": 33,
    "start_time": "2023-11-18T07:56:57.110Z"
   },
   {
    "duration": 33,
    "start_time": "2023-11-18T08:00:40.153Z"
   },
   {
    "duration": 40,
    "start_time": "2023-11-18T08:05:30.354Z"
   },
   {
    "duration": 53,
    "start_time": "2023-11-18T08:05:56.323Z"
   },
   {
    "duration": 40,
    "start_time": "2023-11-18T08:07:46.892Z"
   },
   {
    "duration": 41,
    "start_time": "2023-11-18T08:08:18.995Z"
   },
   {
    "duration": 32,
    "start_time": "2023-11-18T08:08:37.639Z"
   },
   {
    "duration": 30,
    "start_time": "2023-11-18T08:09:16.667Z"
   },
   {
    "duration": 31,
    "start_time": "2023-11-18T08:09:59.217Z"
   },
   {
    "duration": 36,
    "start_time": "2023-11-18T08:10:07.076Z"
   },
   {
    "duration": 65,
    "start_time": "2023-11-18T08:11:37.910Z"
   },
   {
    "duration": 85,
    "start_time": "2023-11-18T08:13:33.654Z"
   },
   {
    "duration": 84,
    "start_time": "2023-11-18T08:13:47.852Z"
   },
   {
    "duration": 866,
    "start_time": "2023-11-18T08:23:18.414Z"
   },
   {
    "duration": 45,
    "start_time": "2023-11-18T08:23:19.282Z"
   },
   {
    "duration": 23,
    "start_time": "2023-11-18T08:23:19.329Z"
   },
   {
    "duration": 412,
    "start_time": "2023-11-18T08:23:19.355Z"
   },
   {
    "duration": 377,
    "start_time": "2023-11-18T08:23:19.771Z"
   },
   {
    "duration": 52,
    "start_time": "2023-11-18T08:23:20.149Z"
   },
   {
    "duration": 779,
    "start_time": "2023-11-18T08:23:20.203Z"
   },
   {
    "duration": 8565,
    "start_time": "2023-11-18T08:23:20.984Z"
   },
   {
    "duration": 680,
    "start_time": "2023-11-18T08:23:29.550Z"
   },
   {
    "duration": 54,
    "start_time": "2023-11-18T08:26:39.569Z"
   },
   {
    "duration": 120,
    "start_time": "2023-11-18T08:55:14.436Z"
   },
   {
    "duration": 1531,
    "start_time": "2023-11-18T09:54:49.969Z"
   },
   {
    "duration": 1658,
    "start_time": "2023-11-18T09:57:23.508Z"
   },
   {
    "duration": 1438,
    "start_time": "2023-11-18T10:00:09.409Z"
   },
   {
    "duration": 246,
    "start_time": "2023-11-18T10:00:23.636Z"
   },
   {
    "duration": 376,
    "start_time": "2023-11-18T10:00:39.496Z"
   },
   {
    "duration": 307,
    "start_time": "2023-11-18T10:01:06.883Z"
   },
   {
    "duration": 268,
    "start_time": "2023-11-18T10:02:19.050Z"
   },
   {
    "duration": 449,
    "start_time": "2023-11-18T10:04:33.724Z"
   },
   {
    "duration": 278,
    "start_time": "2023-11-18T10:05:57.174Z"
   },
   {
    "duration": 268,
    "start_time": "2023-11-18T10:06:08.913Z"
   },
   {
    "duration": 269,
    "start_time": "2023-11-18T10:06:26.904Z"
   },
   {
    "duration": 1507,
    "start_time": "2023-11-18T10:06:53.808Z"
   },
   {
    "duration": 1563,
    "start_time": "2023-11-18T10:15:07.471Z"
   },
   {
    "duration": 1548,
    "start_time": "2023-11-18T10:19:14.241Z"
   },
   {
    "duration": 831,
    "start_time": "2023-11-19T09:18:17.622Z"
   },
   {
    "duration": 1221,
    "start_time": "2023-11-19T09:18:26.265Z"
   },
   {
    "duration": 37,
    "start_time": "2023-11-19T09:18:27.488Z"
   },
   {
    "duration": 52,
    "start_time": "2023-11-19T09:18:27.526Z"
   },
   {
    "duration": 375,
    "start_time": "2023-11-19T09:18:27.580Z"
   },
   {
    "duration": 347,
    "start_time": "2023-11-19T09:18:27.957Z"
   },
   {
    "duration": 37,
    "start_time": "2023-11-19T09:18:28.306Z"
   },
   {
    "duration": 753,
    "start_time": "2023-11-19T09:18:28.344Z"
   },
   {
    "duration": 7156,
    "start_time": "2023-11-19T09:18:29.099Z"
   },
   {
    "duration": 542,
    "start_time": "2023-11-19T09:18:36.257Z"
   },
   {
    "duration": 1593,
    "start_time": "2023-11-19T09:18:36.801Z"
   },
   {
    "duration": 163,
    "start_time": "2023-11-19T09:18:38.396Z"
   },
   {
    "duration": 1687,
    "start_time": "2023-11-19T09:25:02.858Z"
   },
   {
    "duration": 464,
    "start_time": "2023-11-19T09:28:27.161Z"
   },
   {
    "duration": 1648,
    "start_time": "2023-11-19T09:28:41.619Z"
   },
   {
    "duration": 369,
    "start_time": "2023-11-19T09:29:16.618Z"
   },
   {
    "duration": 1624,
    "start_time": "2023-11-19T09:29:25.928Z"
   },
   {
    "duration": 1637,
    "start_time": "2023-11-19T09:31:37.893Z"
   },
   {
    "duration": 1608,
    "start_time": "2023-11-19T09:34:20.739Z"
   },
   {
    "duration": 1640,
    "start_time": "2023-11-19T09:34:37.892Z"
   },
   {
    "duration": 609,
    "start_time": "2023-11-19T09:41:08.312Z"
   },
   {
    "duration": 84,
    "start_time": "2023-11-19T09:41:57.060Z"
   },
   {
    "duration": 143,
    "start_time": "2023-11-19T09:44:13.683Z"
   },
   {
    "duration": 143,
    "start_time": "2023-11-19T09:44:32.485Z"
   },
   {
    "duration": 151,
    "start_time": "2023-11-19T09:44:47.980Z"
   },
   {
    "duration": 112,
    "start_time": "2023-11-19T09:45:45.172Z"
   },
   {
    "duration": 1633,
    "start_time": "2023-11-19T09:46:26.267Z"
   },
   {
    "duration": 6,
    "start_time": "2023-11-19T09:51:35.041Z"
   },
   {
    "duration": 1599,
    "start_time": "2023-11-19T09:53:45.809Z"
   },
   {
    "duration": 15645,
    "start_time": "2023-11-19T10:07:27.360Z"
   },
   {
    "duration": 3014,
    "start_time": "2023-11-19T10:08:30.071Z"
   },
   {
    "duration": 1467,
    "start_time": "2023-11-19T10:15:19.357Z"
   },
   {
    "duration": 115,
    "start_time": "2023-11-19T10:16:18.593Z"
   },
   {
    "duration": 147,
    "start_time": "2023-11-19T10:16:45.756Z"
   },
   {
    "duration": 127,
    "start_time": "2023-11-19T10:16:56.656Z"
   },
   {
    "duration": 15,
    "start_time": "2023-11-19T10:17:38.863Z"
   },
   {
    "duration": 127,
    "start_time": "2023-11-19T10:17:52.642Z"
   },
   {
    "duration": 8,
    "start_time": "2023-11-19T10:18:16.314Z"
   },
   {
    "duration": 1395,
    "start_time": "2023-11-19T10:18:48.525Z"
   },
   {
    "duration": 1450,
    "start_time": "2023-11-19T10:19:17.993Z"
   },
   {
    "duration": 16,
    "start_time": "2023-11-19T10:20:14.394Z"
   },
   {
    "duration": 1542,
    "start_time": "2023-11-19T10:21:11.118Z"
   },
   {
    "duration": 1588,
    "start_time": "2023-11-19T10:22:13.035Z"
   },
   {
    "duration": 1588,
    "start_time": "2023-11-19T10:29:31.049Z"
   },
   {
    "duration": 1339,
    "start_time": "2023-11-19T10:30:44.249Z"
   },
   {
    "duration": 5,
    "start_time": "2023-11-19T10:32:17.312Z"
   },
   {
    "duration": 1636,
    "start_time": "2023-11-19T10:32:20.519Z"
   },
   {
    "duration": 259,
    "start_time": "2023-11-19T10:32:34.957Z"
   },
   {
    "duration": 1653,
    "start_time": "2023-11-19T10:32:43.968Z"
   },
   {
    "duration": 6,
    "start_time": "2023-11-19T10:38:26.197Z"
   },
   {
    "duration": 7,
    "start_time": "2023-11-19T10:38:33.015Z"
   },
   {
    "duration": 7,
    "start_time": "2023-11-19T10:39:14.308Z"
   },
   {
    "duration": 6,
    "start_time": "2023-11-19T10:39:58.053Z"
   },
   {
    "duration": 5,
    "start_time": "2023-11-19T10:40:02.616Z"
   },
   {
    "duration": 7,
    "start_time": "2023-11-19T10:40:29.187Z"
   },
   {
    "duration": 6,
    "start_time": "2023-11-19T10:40:33.511Z"
   },
   {
    "duration": 7,
    "start_time": "2023-11-19T10:42:04.748Z"
   },
   {
    "duration": 116,
    "start_time": "2023-11-19T12:08:16.463Z"
   },
   {
    "duration": 27,
    "start_time": "2023-11-19T12:08:16.581Z"
   },
   {
    "duration": 37,
    "start_time": "2023-11-19T12:08:16.610Z"
   },
   {
    "duration": 420,
    "start_time": "2023-11-19T12:08:16.649Z"
   },
   {
    "duration": 321,
    "start_time": "2023-11-19T12:08:17.071Z"
   },
   {
    "duration": 37,
    "start_time": "2023-11-19T12:08:17.394Z"
   },
   {
    "duration": 621,
    "start_time": "2023-11-19T12:08:17.432Z"
   },
   {
    "duration": 6867,
    "start_time": "2023-11-19T12:08:18.054Z"
   },
   {
    "duration": 48,
    "start_time": "2023-11-19T12:08:24.922Z"
   },
   {
    "duration": 1487,
    "start_time": "2023-11-19T12:08:24.972Z"
   },
   {
    "duration": 6,
    "start_time": "2023-11-19T12:08:26.460Z"
   },
   {
    "duration": 1335,
    "start_time": "2023-11-19T12:17:28.973Z"
   },
   {
    "duration": 6,
    "start_time": "2023-11-19T12:17:32.913Z"
   },
   {
    "duration": 6,
    "start_time": "2023-11-19T12:18:51.701Z"
   },
   {
    "duration": 1399,
    "start_time": "2023-11-19T12:20:25.425Z"
   },
   {
    "duration": 6,
    "start_time": "2023-11-19T12:20:29.127Z"
   },
   {
    "duration": 6,
    "start_time": "2023-11-19T12:22:08.526Z"
   },
   {
    "duration": 7,
    "start_time": "2023-11-19T12:22:12.755Z"
   },
   {
    "duration": 6,
    "start_time": "2023-11-19T12:22:15.338Z"
   },
   {
    "duration": 6,
    "start_time": "2023-11-19T12:22:19.859Z"
   },
   {
    "duration": 6,
    "start_time": "2023-11-19T12:22:56.763Z"
   },
   {
    "duration": 6,
    "start_time": "2023-11-19T12:23:04.534Z"
   },
   {
    "duration": 6,
    "start_time": "2023-11-19T12:23:07.789Z"
   },
   {
    "duration": 1469,
    "start_time": "2023-11-19T12:23:51.358Z"
   },
   {
    "duration": 5,
    "start_time": "2023-11-19T12:24:03.174Z"
   },
   {
    "duration": 1472,
    "start_time": "2023-11-19T12:24:37.978Z"
   },
   {
    "duration": 6,
    "start_time": "2023-11-19T12:28:02.489Z"
   },
   {
    "duration": 6,
    "start_time": "2023-11-19T12:30:01.182Z"
   },
   {
    "duration": 6,
    "start_time": "2023-11-19T12:30:07.064Z"
   },
   {
    "duration": 1512,
    "start_time": "2023-11-19T12:30:32.025Z"
   },
   {
    "duration": 1243,
    "start_time": "2023-11-19T12:30:35.841Z"
   },
   {
    "duration": 6,
    "start_time": "2023-11-19T12:30:53.615Z"
   },
   {
    "duration": 5,
    "start_time": "2023-11-19T12:37:33.737Z"
   },
   {
    "duration": 103,
    "start_time": "2023-11-19T12:39:01.167Z"
   },
   {
    "duration": 826,
    "start_time": "2023-11-19T12:40:30.018Z"
   },
   {
    "duration": 30,
    "start_time": "2023-11-19T12:40:30.846Z"
   },
   {
    "duration": 21,
    "start_time": "2023-11-19T12:40:30.877Z"
   },
   {
    "duration": 361,
    "start_time": "2023-11-19T12:40:30.899Z"
   },
   {
    "duration": 333,
    "start_time": "2023-11-19T12:40:31.263Z"
   },
   {
    "duration": 55,
    "start_time": "2023-11-19T12:40:31.598Z"
   },
   {
    "duration": 710,
    "start_time": "2023-11-19T12:40:31.655Z"
   },
   {
    "duration": 6945,
    "start_time": "2023-11-19T12:40:32.367Z"
   },
   {
    "duration": 557,
    "start_time": "2023-11-19T12:40:39.314Z"
   },
   {
    "duration": 1238,
    "start_time": "2023-11-19T12:40:39.873Z"
   },
   {
    "duration": 0,
    "start_time": "2023-11-19T12:53:12.856Z"
   },
   {
    "duration": 254,
    "start_time": "2023-11-19T12:53:14.713Z"
   },
   {
    "duration": 216,
    "start_time": "2023-11-19T13:07:36.177Z"
   },
   {
    "duration": 157,
    "start_time": "2023-11-19T13:07:42.844Z"
   },
   {
    "duration": 820,
    "start_time": "2023-11-19T13:10:21.848Z"
   },
   {
    "duration": 31,
    "start_time": "2023-11-19T13:10:22.669Z"
   },
   {
    "duration": 53,
    "start_time": "2023-11-19T13:10:22.701Z"
   },
   {
    "duration": 339,
    "start_time": "2023-11-19T13:10:22.756Z"
   },
   {
    "duration": 325,
    "start_time": "2023-11-19T13:10:23.097Z"
   },
   {
    "duration": 43,
    "start_time": "2023-11-19T13:10:23.423Z"
   },
   {
    "duration": 693,
    "start_time": "2023-11-19T13:10:23.468Z"
   },
   {
    "duration": 6802,
    "start_time": "2023-11-19T13:10:24.162Z"
   },
   {
    "duration": 506,
    "start_time": "2023-11-19T13:10:30.966Z"
   },
   {
    "duration": 6,
    "start_time": "2023-11-19T13:10:31.474Z"
   },
   {
    "duration": 224,
    "start_time": "2023-11-19T13:10:31.482Z"
   },
   {
    "duration": 1126,
    "start_time": "2023-11-19T19:52:22.799Z"
   },
   {
    "duration": 51,
    "start_time": "2023-11-19T19:52:23.928Z"
   },
   {
    "duration": 21,
    "start_time": "2023-11-19T19:52:23.981Z"
   },
   {
    "duration": 326,
    "start_time": "2023-11-19T19:52:24.005Z"
   },
   {
    "duration": 383,
    "start_time": "2023-11-19T19:52:24.332Z"
   },
   {
    "duration": 86,
    "start_time": "2023-11-19T19:52:24.717Z"
   },
   {
    "duration": 1253,
    "start_time": "2023-11-19T19:52:24.805Z"
   },
   {
    "duration": 6538,
    "start_time": "2023-11-19T19:52:26.059Z"
   },
   {
    "duration": 501,
    "start_time": "2023-11-19T19:52:32.599Z"
   },
   {
    "duration": 6,
    "start_time": "2023-11-19T19:52:33.102Z"
   },
   {
    "duration": 176,
    "start_time": "2023-11-19T19:52:33.109Z"
   },
   {
    "duration": 5,
    "start_time": "2023-11-19T19:52:38.394Z"
   },
   {
    "duration": 6,
    "start_time": "2023-11-19T19:52:43.278Z"
   },
   {
    "duration": 6,
    "start_time": "2023-11-19T19:53:02.052Z"
   },
   {
    "duration": 5,
    "start_time": "2023-11-19T19:53:08.501Z"
   },
   {
    "duration": 6,
    "start_time": "2023-11-19T19:53:12.891Z"
   },
   {
    "duration": 6,
    "start_time": "2023-11-19T19:53:32.740Z"
   },
   {
    "duration": 6,
    "start_time": "2023-11-19T19:53:42.731Z"
   },
   {
    "duration": 6,
    "start_time": "2023-11-19T19:53:56.715Z"
   },
   {
    "duration": 145,
    "start_time": "2023-11-19T19:57:38.421Z"
   },
   {
    "duration": 148,
    "start_time": "2023-11-19T19:57:54.547Z"
   },
   {
    "duration": 143,
    "start_time": "2023-11-19T19:58:34.206Z"
   },
   {
    "duration": 149,
    "start_time": "2023-11-19T19:59:57.972Z"
   },
   {
    "duration": 712,
    "start_time": "2023-11-19T20:01:58.601Z"
   },
   {
    "duration": 29,
    "start_time": "2023-11-19T20:01:59.315Z"
   },
   {
    "duration": 43,
    "start_time": "2023-11-19T20:01:59.345Z"
   },
   {
    "duration": 324,
    "start_time": "2023-11-19T20:01:59.390Z"
   },
   {
    "duration": 293,
    "start_time": "2023-11-19T20:01:59.715Z"
   },
   {
    "duration": 37,
    "start_time": "2023-11-19T20:02:00.010Z"
   },
   {
    "duration": 661,
    "start_time": "2023-11-19T20:02:00.049Z"
   },
   {
    "duration": 6610,
    "start_time": "2023-11-19T20:02:00.711Z"
   },
   {
    "duration": 538,
    "start_time": "2023-11-19T20:02:07.323Z"
   },
   {
    "duration": 9,
    "start_time": "2023-11-19T20:02:07.863Z"
   },
   {
    "duration": 161,
    "start_time": "2023-11-19T20:02:07.874Z"
   },
   {
    "duration": 54,
    "start_time": "2023-11-20T07:43:53.780Z"
   },
   {
    "duration": 1071,
    "start_time": "2023-11-20T07:44:01.243Z"
   },
   {
    "duration": 33,
    "start_time": "2023-11-20T07:44:02.316Z"
   },
   {
    "duration": 21,
    "start_time": "2023-11-20T07:44:02.351Z"
   },
   {
    "duration": 382,
    "start_time": "2023-11-20T07:44:02.373Z"
   },
   {
    "duration": 351,
    "start_time": "2023-11-20T07:44:02.757Z"
   },
   {
    "duration": 38,
    "start_time": "2023-11-20T07:44:03.110Z"
   },
   {
    "duration": 742,
    "start_time": "2023-11-20T07:44:03.150Z"
   },
   {
    "duration": 7257,
    "start_time": "2023-11-20T07:44:03.894Z"
   },
   {
    "duration": 618,
    "start_time": "2023-11-20T07:44:11.153Z"
   },
   {
    "duration": 6,
    "start_time": "2023-11-20T07:44:11.772Z"
   },
   {
    "duration": 194,
    "start_time": "2023-11-20T07:44:11.780Z"
   },
   {
    "duration": 158,
    "start_time": "2023-11-20T07:44:29.064Z"
   },
   {
    "duration": 4,
    "start_time": "2023-11-20T08:07:25.003Z"
   },
   {
    "duration": 34,
    "start_time": "2023-11-20T08:07:32.025Z"
   },
   {
    "duration": 68,
    "start_time": "2023-11-20T08:07:56.983Z"
   },
   {
    "duration": 314,
    "start_time": "2023-11-20T08:20:47.880Z"
   },
   {
    "duration": 322,
    "start_time": "2023-11-20T08:21:12.212Z"
   },
   {
    "duration": 330,
    "start_time": "2023-11-20T08:22:54.171Z"
   },
   {
    "duration": 336,
    "start_time": "2023-11-20T08:23:07.101Z"
   },
   {
    "duration": 543,
    "start_time": "2023-11-20T08:25:48.924Z"
   },
   {
    "duration": 455,
    "start_time": "2023-11-20T08:26:07.182Z"
   },
   {
    "duration": 462,
    "start_time": "2023-11-20T08:26:20.635Z"
   },
   {
    "duration": 557,
    "start_time": "2023-11-20T08:26:29.458Z"
   },
   {
    "duration": 458,
    "start_time": "2023-11-20T08:26:41.917Z"
   },
   {
    "duration": 461,
    "start_time": "2023-11-20T08:27:22.536Z"
   },
   {
    "duration": 81,
    "start_time": "2023-11-20T08:28:12.052Z"
   },
   {
    "duration": 324,
    "start_time": "2023-11-20T08:30:30.669Z"
   },
   {
    "duration": 327,
    "start_time": "2023-11-20T08:33:38.995Z"
   },
   {
    "duration": 1310,
    "start_time": "2023-11-20T08:33:48.797Z"
   },
   {
    "duration": 33,
    "start_time": "2023-11-20T08:33:50.109Z"
   },
   {
    "duration": 24,
    "start_time": "2023-11-20T08:33:50.144Z"
   },
   {
    "duration": 518,
    "start_time": "2023-11-20T08:33:50.169Z"
   },
   {
    "duration": 345,
    "start_time": "2023-11-20T08:33:50.689Z"
   },
   {
    "duration": 38,
    "start_time": "2023-11-20T08:33:51.036Z"
   },
   {
    "duration": 691,
    "start_time": "2023-11-20T08:33:51.076Z"
   },
   {
    "duration": 7390,
    "start_time": "2023-11-20T08:33:51.769Z"
   },
   {
    "duration": 47,
    "start_time": "2023-11-20T08:33:59.160Z"
   },
   {
    "duration": 6,
    "start_time": "2023-11-20T08:33:59.209Z"
   },
   {
    "duration": 189,
    "start_time": "2023-11-20T08:33:59.216Z"
   },
   {
    "duration": 336,
    "start_time": "2023-11-20T08:36:32.067Z"
   },
   {
    "duration": 174,
    "start_time": "2023-11-20T08:38:43.853Z"
   },
   {
    "duration": 176,
    "start_time": "2023-11-20T08:39:03.355Z"
   },
   {
    "duration": 337,
    "start_time": "2023-11-20T08:40:12.297Z"
   },
   {
    "duration": 330,
    "start_time": "2023-11-20T08:40:25.672Z"
   },
   {
    "duration": 414,
    "start_time": "2023-11-20T08:40:52.020Z"
   },
   {
    "duration": 339,
    "start_time": "2023-11-20T08:41:06.502Z"
   },
   {
    "duration": 340,
    "start_time": "2023-11-20T08:41:45.174Z"
   },
   {
    "duration": 1295,
    "start_time": "2023-11-20T08:56:55.026Z"
   },
   {
    "duration": 32,
    "start_time": "2023-11-20T08:56:56.323Z"
   },
   {
    "duration": 50,
    "start_time": "2023-11-20T08:56:56.357Z"
   },
   {
    "duration": 511,
    "start_time": "2023-11-20T08:56:56.409Z"
   },
   {
    "duration": 352,
    "start_time": "2023-11-20T08:56:56.923Z"
   },
   {
    "duration": 340,
    "start_time": "2023-11-20T08:56:57.276Z"
   },
   {
    "duration": 38,
    "start_time": "2023-11-20T08:56:57.618Z"
   },
   {
    "duration": 752,
    "start_time": "2023-11-20T08:56:57.658Z"
   },
   {
    "duration": 64750,
    "start_time": "2023-11-20T08:56:58.412Z"
   },
   {
    "duration": 0,
    "start_time": "2023-11-20T08:58:03.164Z"
   },
   {
    "duration": 0,
    "start_time": "2023-11-20T08:58:03.165Z"
   },
   {
    "duration": 0,
    "start_time": "2023-11-20T08:58:03.166Z"
   },
   {
    "duration": 50,
    "start_time": "2023-11-21T08:07:13.074Z"
   },
   {
    "duration": 1568,
    "start_time": "2023-11-21T08:07:21.108Z"
   },
   {
    "duration": 30,
    "start_time": "2023-11-21T08:07:22.678Z"
   },
   {
    "duration": 47,
    "start_time": "2023-11-21T08:07:22.710Z"
   },
   {
    "duration": 504,
    "start_time": "2023-11-21T08:07:22.759Z"
   },
   {
    "duration": 354,
    "start_time": "2023-11-21T08:07:23.266Z"
   },
   {
    "duration": 354,
    "start_time": "2023-11-21T08:07:23.623Z"
   },
   {
    "duration": 37,
    "start_time": "2023-11-21T08:07:23.979Z"
   },
   {
    "duration": 53,
    "start_time": "2023-11-21T08:07:24.018Z"
   },
   {
    "duration": 746,
    "start_time": "2023-11-21T08:07:24.073Z"
   },
   {
    "duration": 62402,
    "start_time": "2023-11-21T08:07:24.821Z"
   },
   {
    "duration": 0,
    "start_time": "2023-11-21T08:08:27.225Z"
   },
   {
    "duration": 0,
    "start_time": "2023-11-21T08:08:27.226Z"
   },
   {
    "duration": 0,
    "start_time": "2023-11-21T08:08:27.227Z"
   },
   {
    "duration": 49,
    "start_time": "2023-11-21T08:16:37.058Z"
   },
   {
    "duration": 37,
    "start_time": "2023-11-21T08:18:45.707Z"
   },
   {
    "duration": 0,
    "start_time": "2023-11-21T08:21:09.817Z"
   },
   {
    "duration": 244,
    "start_time": "2023-11-21T08:21:10.973Z"
   },
   {
    "duration": 249,
    "start_time": "2023-11-21T08:22:12.019Z"
   },
   {
    "duration": 257,
    "start_time": "2023-11-21T08:22:59.551Z"
   },
   {
    "duration": 271,
    "start_time": "2023-11-21T08:24:29.444Z"
   },
   {
    "duration": 197,
    "start_time": "2023-11-21T08:25:02.678Z"
   },
   {
    "duration": 41,
    "start_time": "2023-11-21T08:25:06.204Z"
   },
   {
    "duration": 268,
    "start_time": "2023-11-21T08:25:12.947Z"
   },
   {
    "duration": 219,
    "start_time": "2023-11-21T08:32:16.374Z"
   },
   {
    "duration": 221,
    "start_time": "2023-11-21T08:32:46.468Z"
   },
   {
    "duration": 277,
    "start_time": "2023-11-21T08:42:51.650Z"
   },
   {
    "duration": 59,
    "start_time": "2023-11-21T08:43:56.586Z"
   },
   {
    "duration": 59,
    "start_time": "2023-11-21T08:45:10.827Z"
   },
   {
    "duration": 244,
    "start_time": "2023-11-21T08:57:48.310Z"
   },
   {
    "duration": 229,
    "start_time": "2023-11-21T08:57:59.217Z"
   },
   {
    "duration": 241,
    "start_time": "2023-11-21T08:58:48.500Z"
   },
   {
    "duration": 1254,
    "start_time": "2023-11-21T08:59:02.874Z"
   },
   {
    "duration": 35,
    "start_time": "2023-11-21T08:59:04.131Z"
   },
   {
    "duration": 24,
    "start_time": "2023-11-21T08:59:04.170Z"
   },
   {
    "duration": 506,
    "start_time": "2023-11-21T08:59:04.196Z"
   },
   {
    "duration": 351,
    "start_time": "2023-11-21T08:59:04.703Z"
   },
   {
    "duration": 324,
    "start_time": "2023-11-21T08:59:05.055Z"
   },
   {
    "duration": 37,
    "start_time": "2023-11-21T08:59:05.380Z"
   },
   {
    "duration": 254,
    "start_time": "2023-11-21T08:59:05.420Z"
   },
   {
    "duration": 723,
    "start_time": "2023-11-21T08:59:05.675Z"
   },
   {
    "duration": 62438,
    "start_time": "2023-11-21T08:59:06.399Z"
   },
   {
    "duration": 0,
    "start_time": "2023-11-21T09:00:08.839Z"
   },
   {
    "duration": 0,
    "start_time": "2023-11-21T09:00:08.840Z"
   },
   {
    "duration": 0,
    "start_time": "2023-11-21T09:00:08.841Z"
   },
   {
    "duration": 0,
    "start_time": "2023-11-21T09:00:08.842Z"
   },
   {
    "duration": 260,
    "start_time": "2023-11-21T09:02:51.367Z"
   },
   {
    "duration": 280,
    "start_time": "2023-11-21T09:04:52.835Z"
   },
   {
    "duration": 278,
    "start_time": "2023-11-21T09:05:05.010Z"
   },
   {
    "duration": 274,
    "start_time": "2023-11-21T09:05:19.788Z"
   },
   {
    "duration": 165,
    "start_time": "2023-11-21T09:07:14.371Z"
   },
   {
    "duration": 150,
    "start_time": "2023-11-21T09:07:26.511Z"
   },
   {
    "duration": 175,
    "start_time": "2023-11-21T09:08:00.538Z"
   },
   {
    "duration": 335,
    "start_time": "2023-11-21T09:08:13.909Z"
   },
   {
    "duration": 158,
    "start_time": "2023-11-21T09:08:20.579Z"
   },
   {
    "duration": 280,
    "start_time": "2023-11-21T09:08:35.522Z"
   },
   {
    "duration": 328,
    "start_time": "2023-11-21T09:08:52.015Z"
   },
   {
    "duration": 240,
    "start_time": "2023-11-21T09:11:50.976Z"
   },
   {
    "duration": 259,
    "start_time": "2023-11-21T09:12:08.390Z"
   },
   {
    "duration": 274,
    "start_time": "2023-11-21T09:12:16.845Z"
   },
   {
    "duration": 8,
    "start_time": "2023-11-21T09:12:49.995Z"
   },
   {
    "duration": 268,
    "start_time": "2023-11-21T09:12:55.657Z"
   },
   {
    "duration": 275,
    "start_time": "2023-11-21T09:13:09.103Z"
   },
   {
    "duration": 280,
    "start_time": "2023-11-21T09:13:41.126Z"
   },
   {
    "duration": 306,
    "start_time": "2023-11-21T09:14:16.297Z"
   },
   {
    "duration": 292,
    "start_time": "2023-11-21T09:14:26.078Z"
   },
   {
    "duration": 376,
    "start_time": "2023-11-21T09:17:07.874Z"
   },
   {
    "duration": 252,
    "start_time": "2023-11-21T09:21:07.250Z"
   },
   {
    "duration": 252,
    "start_time": "2023-11-21T09:21:42.304Z"
   },
   {
    "duration": 274,
    "start_time": "2023-11-21T09:21:56.126Z"
   },
   {
    "duration": 259,
    "start_time": "2023-11-21T09:22:07.006Z"
   },
   {
    "duration": 278,
    "start_time": "2023-11-21T09:35:00.084Z"
   },
   {
    "duration": 260,
    "start_time": "2023-11-21T09:35:37.093Z"
   },
   {
    "duration": 278,
    "start_time": "2023-11-21T09:35:40.442Z"
   },
   {
    "duration": 280,
    "start_time": "2023-11-21T09:37:41.516Z"
   },
   {
    "duration": 282,
    "start_time": "2023-11-21T09:38:25.202Z"
   },
   {
    "duration": 643,
    "start_time": "2023-11-21T09:40:53.322Z"
   },
   {
    "duration": 1339,
    "start_time": "2023-11-21T09:41:59.465Z"
   },
   {
    "duration": 94157,
    "start_time": "2023-11-21T09:43:09.104Z"
   },
   {
    "duration": 9,
    "start_time": "2023-11-21T09:45:43.520Z"
   },
   {
    "duration": 45,
    "start_time": "2023-11-21T09:46:36.507Z"
   },
   {
    "duration": 43,
    "start_time": "2023-11-21T09:47:57.166Z"
   },
   {
    "duration": 44,
    "start_time": "2023-11-21T09:48:01.826Z"
   },
   {
    "duration": 42,
    "start_time": "2023-11-21T09:48:06.978Z"
   },
   {
    "duration": 44,
    "start_time": "2023-11-21T09:48:12.558Z"
   },
   {
    "duration": 37,
    "start_time": "2023-11-21T09:52:29.055Z"
   },
   {
    "duration": 50,
    "start_time": "2023-11-21T09:53:47.886Z"
   },
   {
    "duration": 6248,
    "start_time": "2023-11-21T09:55:10.421Z"
   },
   {
    "duration": 27,
    "start_time": "2023-11-21T09:56:28.491Z"
   },
   {
    "duration": 20,
    "start_time": "2023-11-21T09:57:02.748Z"
   },
   {
    "duration": 1652,
    "start_time": "2023-11-21T10:03:08.857Z"
   },
   {
    "duration": 3586,
    "start_time": "2023-11-21T10:04:08.454Z"
   },
   {
    "duration": 3688,
    "start_time": "2023-11-21T10:04:29.076Z"
   },
   {
    "duration": 3635,
    "start_time": "2023-11-21T10:04:33.973Z"
   },
   {
    "duration": 3582,
    "start_time": "2023-11-21T10:04:45.758Z"
   },
   {
    "duration": 3517,
    "start_time": "2023-11-21T10:07:26.685Z"
   },
   {
    "duration": 3467,
    "start_time": "2023-11-21T10:07:40.984Z"
   },
   {
    "duration": 3536,
    "start_time": "2023-11-21T10:07:59.584Z"
   },
   {
    "duration": 3559,
    "start_time": "2023-11-21T10:08:27.862Z"
   },
   {
    "duration": 3474,
    "start_time": "2023-11-21T10:09:41.650Z"
   },
   {
    "duration": 3460,
    "start_time": "2023-11-21T10:10:03.887Z"
   },
   {
    "duration": 3531,
    "start_time": "2023-11-21T10:10:30.442Z"
   },
   {
    "duration": 3497,
    "start_time": "2023-11-21T10:11:22.120Z"
   },
   {
    "duration": 3495,
    "start_time": "2023-11-21T10:11:39.878Z"
   },
   {
    "duration": 3505,
    "start_time": "2023-11-21T10:12:50.437Z"
   },
   {
    "duration": 3614,
    "start_time": "2023-11-21T10:13:09.640Z"
   },
   {
    "duration": 3564,
    "start_time": "2023-11-21T10:13:42.229Z"
   },
   {
    "duration": 3527,
    "start_time": "2023-11-21T10:17:01.524Z"
   },
   {
    "duration": 3488,
    "start_time": "2023-11-21T10:17:31.660Z"
   },
   {
    "duration": 3518,
    "start_time": "2023-11-21T10:17:52.744Z"
   },
   {
    "duration": 3560,
    "start_time": "2023-11-21T10:18:04.503Z"
   },
   {
    "duration": 3489,
    "start_time": "2023-11-21T10:18:20.100Z"
   },
   {
    "duration": 3536,
    "start_time": "2023-11-21T10:18:37.405Z"
   },
   {
    "duration": 3569,
    "start_time": "2023-11-21T10:19:08.464Z"
   },
   {
    "duration": 3552,
    "start_time": "2023-11-21T10:19:24.512Z"
   },
   {
    "duration": 3478,
    "start_time": "2023-11-21T10:20:40.957Z"
   },
   {
    "duration": 53,
    "start_time": "2023-11-21T12:22:11.986Z"
   },
   {
    "duration": 1687,
    "start_time": "2023-11-21T12:22:19.872Z"
   },
   {
    "duration": 33,
    "start_time": "2023-11-21T12:22:21.562Z"
   },
   {
    "duration": 46,
    "start_time": "2023-11-21T12:22:21.596Z"
   },
   {
    "duration": 516,
    "start_time": "2023-11-21T12:22:21.645Z"
   },
   {
    "duration": 345,
    "start_time": "2023-11-21T12:22:22.163Z"
   },
   {
    "duration": 338,
    "start_time": "2023-11-21T12:22:22.510Z"
   },
   {
    "duration": 35,
    "start_time": "2023-11-21T12:22:22.850Z"
   },
   {
    "duration": 615,
    "start_time": "2023-11-21T12:22:22.886Z"
   },
   {
    "duration": 111,
    "start_time": "2023-11-21T12:22:23.503Z"
   },
   {
    "duration": 0,
    "start_time": "2023-11-21T12:22:23.615Z"
   },
   {
    "duration": 0,
    "start_time": "2023-11-21T12:22:23.617Z"
   },
   {
    "duration": 0,
    "start_time": "2023-11-21T12:22:23.625Z"
   },
   {
    "duration": 0,
    "start_time": "2023-11-21T12:22:23.626Z"
   },
   {
    "duration": 0,
    "start_time": "2023-11-21T12:22:23.627Z"
   },
   {
    "duration": 3327,
    "start_time": "2023-11-21T12:23:28.706Z"
   },
   {
    "duration": 3314,
    "start_time": "2023-11-21T12:23:51.879Z"
   },
   {
    "duration": 34,
    "start_time": "2023-11-21T12:24:21.062Z"
   },
   {
    "duration": 3347,
    "start_time": "2023-11-21T12:25:05.505Z"
   },
   {
    "duration": 3320,
    "start_time": "2023-11-21T12:28:12.888Z"
   },
   {
    "duration": 3377,
    "start_time": "2023-11-21T12:28:55.911Z"
   },
   {
    "duration": 3344,
    "start_time": "2023-11-21T12:29:12.647Z"
   },
   {
    "duration": 3311,
    "start_time": "2023-11-21T12:29:32.563Z"
   },
   {
    "duration": 3358,
    "start_time": "2023-11-21T12:29:46.137Z"
   },
   {
    "duration": 72,
    "start_time": "2023-11-21T13:57:09.056Z"
   },
   {
    "duration": 90971,
    "start_time": "2023-11-21T13:57:14.719Z"
   },
   {
    "duration": 91591,
    "start_time": "2023-11-21T13:59:36.705Z"
   },
   {
    "duration": 88955,
    "start_time": "2023-11-21T14:02:26.735Z"
   },
   {
    "duration": 88606,
    "start_time": "2023-11-21T14:04:11.923Z"
   },
   {
    "duration": 91873,
    "start_time": "2023-11-21T14:05:53.371Z"
   },
   {
    "duration": 7,
    "start_time": "2023-11-21T14:14:59.329Z"
   },
   {
    "duration": 8,
    "start_time": "2023-11-21T14:15:16.278Z"
   },
   {
    "duration": 6,
    "start_time": "2023-11-21T14:15:21.241Z"
   },
   {
    "duration": 45,
    "start_time": "2023-11-21T14:20:57.926Z"
   },
   {
    "duration": 77,
    "start_time": "2023-11-21T14:21:22.786Z"
   },
   {
    "duration": 70,
    "start_time": "2023-11-21T14:22:11.786Z"
   },
   {
    "duration": 90659,
    "start_time": "2023-11-21T14:22:38.736Z"
   },
   {
    "duration": 6,
    "start_time": "2023-11-21T14:26:43.413Z"
   },
   {
    "duration": 1590,
    "start_time": "2023-11-21T14:27:01.124Z"
   },
   {
    "duration": 6,
    "start_time": "2023-11-21T14:27:11.892Z"
   },
   {
    "duration": 3,
    "start_time": "2023-11-21T14:27:23.891Z"
   },
   {
    "duration": 7,
    "start_time": "2023-11-21T14:27:46.482Z"
   },
   {
    "duration": 4,
    "start_time": "2023-11-21T14:29:53.754Z"
   },
   {
    "duration": 78668,
    "start_time": "2023-11-21T14:36:45.812Z"
   },
   {
    "duration": 1564,
    "start_time": "2023-11-22T15:18:25.379Z"
   },
   {
    "duration": 29,
    "start_time": "2023-11-22T15:18:26.945Z"
   },
   {
    "duration": 20,
    "start_time": "2023-11-22T15:18:26.976Z"
   },
   {
    "duration": 474,
    "start_time": "2023-11-22T15:18:26.998Z"
   },
   {
    "duration": 356,
    "start_time": "2023-11-22T15:18:27.474Z"
   },
   {
    "duration": 300,
    "start_time": "2023-11-22T15:18:27.832Z"
   },
   {
    "duration": 32,
    "start_time": "2023-11-22T15:18:28.134Z"
   },
   {
    "duration": 569,
    "start_time": "2023-11-22T15:18:28.168Z"
   },
   {
    "duration": 74649,
    "start_time": "2023-11-22T15:18:28.739Z"
   },
   {
    "duration": 4,
    "start_time": "2023-11-22T15:19:43.390Z"
   },
   {
    "duration": 35,
    "start_time": "2023-11-22T15:19:43.396Z"
   },
   {
    "duration": 46,
    "start_time": "2023-11-22T15:19:43.433Z"
   },
   {
    "duration": 6,
    "start_time": "2023-11-22T15:19:43.481Z"
   },
   {
    "duration": 187,
    "start_time": "2023-11-22T15:19:43.489Z"
   },
   {
    "duration": 145,
    "start_time": "2023-11-22T15:22:27.186Z"
   },
   {
    "duration": 53,
    "start_time": "2023-11-22T15:23:27.200Z"
   },
   {
    "duration": 137,
    "start_time": "2023-11-22T15:25:37.172Z"
   },
   {
    "duration": 6,
    "start_time": "2023-11-22T15:29:14.490Z"
   },
   {
    "duration": 71421,
    "start_time": "2023-11-22T15:29:43.252Z"
   },
   {
    "duration": 25,
    "start_time": "2023-11-22T15:32:18.573Z"
   },
   {
    "duration": 11,
    "start_time": "2023-11-22T15:32:36.516Z"
   },
   {
    "duration": 10,
    "start_time": "2023-11-22T15:35:42.764Z"
   },
   {
    "duration": 15,
    "start_time": "2023-11-22T15:35:50.656Z"
   },
   {
    "duration": 20,
    "start_time": "2023-11-22T15:36:05.939Z"
   },
   {
    "duration": 15,
    "start_time": "2023-11-22T15:38:02.505Z"
   },
   {
    "duration": 20,
    "start_time": "2023-11-22T15:38:41.480Z"
   },
   {
    "duration": 22,
    "start_time": "2023-11-22T15:38:52.231Z"
   },
   {
    "duration": 14,
    "start_time": "2023-11-22T15:38:58.740Z"
   },
   {
    "duration": 70912,
    "start_time": "2023-11-22T15:39:50.962Z"
   },
   {
    "duration": 13,
    "start_time": "2023-11-22T15:42:30.120Z"
   },
   {
    "duration": 14,
    "start_time": "2023-11-22T15:42:57.626Z"
   },
   {
    "duration": 10,
    "start_time": "2023-11-22T15:44:34.958Z"
   },
   {
    "duration": 10,
    "start_time": "2023-11-22T15:44:46.739Z"
   },
   {
    "duration": 23,
    "start_time": "2023-11-22T15:45:18.561Z"
   },
   {
    "duration": 3376,
    "start_time": "2023-11-22T15:48:48.723Z"
   },
   {
    "duration": 72039,
    "start_time": "2023-11-22T15:50:26.273Z"
   },
   {
    "duration": 3374,
    "start_time": "2023-11-22T15:53:41.309Z"
   },
   {
    "duration": 3130,
    "start_time": "2023-11-22T15:53:57.289Z"
   },
   {
    "duration": 3049,
    "start_time": "2023-11-22T15:54:07.182Z"
   },
   {
    "duration": 40,
    "start_time": "2023-11-22T15:59:48.390Z"
   },
   {
    "duration": 37,
    "start_time": "2023-11-22T15:59:56.148Z"
   },
   {
    "duration": 36,
    "start_time": "2023-11-22T16:01:04.349Z"
   },
   {
    "duration": 69328,
    "start_time": "2023-11-22T16:01:06.691Z"
   },
   {
    "duration": 2976,
    "start_time": "2023-11-22T16:02:34.455Z"
   },
   {
    "duration": 48,
    "start_time": "2023-11-22T16:09:18.263Z"
   },
   {
    "duration": 20,
    "start_time": "2023-11-22T16:12:00.229Z"
   },
   {
    "duration": 46,
    "start_time": "2023-11-22T16:12:20.523Z"
   },
   {
    "duration": 9,
    "start_time": "2023-11-22T16:13:20.717Z"
   },
   {
    "duration": 9,
    "start_time": "2023-11-22T16:13:54.811Z"
   },
   {
    "duration": 9,
    "start_time": "2023-11-22T16:14:03.110Z"
   },
   {
    "duration": 9,
    "start_time": "2023-11-22T17:20:16.517Z"
   },
   {
    "duration": 17,
    "start_time": "2023-11-22T17:25:17.781Z"
   },
   {
    "duration": 20,
    "start_time": "2023-11-22T17:26:00.237Z"
   },
   {
    "duration": 51,
    "start_time": "2023-11-22T17:27:23.794Z"
   },
   {
    "duration": 19,
    "start_time": "2023-11-22T17:29:33.502Z"
   },
   {
    "duration": 45,
    "start_time": "2023-11-22T17:33:25.998Z"
   },
   {
    "duration": 57,
    "start_time": "2023-11-22T17:33:51.574Z"
   },
   {
    "duration": 52,
    "start_time": "2023-11-22T17:36:33.790Z"
   },
   {
    "duration": 7,
    "start_time": "2023-11-22T17:37:56.148Z"
   },
   {
    "duration": 45,
    "start_time": "2023-11-22T18:02:55.211Z"
   },
   {
    "duration": 23,
    "start_time": "2023-11-22T18:04:28.657Z"
   },
   {
    "duration": 1400,
    "start_time": "2023-11-22T18:07:41.608Z"
   },
   {
    "duration": 20,
    "start_time": "2023-11-22T18:08:08.069Z"
   },
   {
    "duration": 30,
    "start_time": "2023-11-22T18:10:18.355Z"
   },
   {
    "duration": 18,
    "start_time": "2023-11-22T18:10:42.164Z"
   },
   {
    "duration": 16,
    "start_time": "2023-11-22T18:26:44.498Z"
   },
   {
    "duration": 17,
    "start_time": "2023-11-22T18:27:34.285Z"
   },
   {
    "duration": 20,
    "start_time": "2023-11-22T18:30:16.202Z"
   },
   {
    "duration": 53,
    "start_time": "2023-11-22T18:38:01.745Z"
   },
   {
    "duration": 42,
    "start_time": "2023-11-22T18:45:47.857Z"
   },
   {
    "duration": 21,
    "start_time": "2023-11-22T18:51:55.369Z"
   },
   {
    "duration": 11,
    "start_time": "2023-11-22T18:52:14.552Z"
   },
   {
    "duration": 34,
    "start_time": "2023-11-22T18:53:10.404Z"
   },
   {
    "duration": 39,
    "start_time": "2023-11-22T18:53:22.171Z"
   },
   {
    "duration": 28,
    "start_time": "2023-11-22T18:53:53.222Z"
   },
   {
    "duration": 29,
    "start_time": "2023-11-22T18:54:23.835Z"
   },
   {
    "duration": 171,
    "start_time": "2023-11-22T19:09:02.445Z"
   },
   {
    "duration": 152,
    "start_time": "2023-11-22T19:09:23.837Z"
   },
   {
    "duration": 14,
    "start_time": "2023-11-22T19:10:10.273Z"
   },
   {
    "duration": 137,
    "start_time": "2023-11-22T19:10:59.000Z"
   },
   {
    "duration": 156,
    "start_time": "2023-11-22T19:11:36.809Z"
   },
   {
    "duration": 154,
    "start_time": "2023-11-22T19:12:39.485Z"
   },
   {
    "duration": 84,
    "start_time": "2023-11-22T19:40:51.259Z"
   },
   {
    "duration": 77,
    "start_time": "2023-11-22T19:40:59.706Z"
   },
   {
    "duration": 6,
    "start_time": "2023-11-22T19:41:03.498Z"
   },
   {
    "duration": 7,
    "start_time": "2023-11-22T19:41:14.387Z"
   },
   {
    "duration": 1285,
    "start_time": "2023-11-22T19:53:14.668Z"
   },
   {
    "duration": 32,
    "start_time": "2023-11-22T19:53:15.954Z"
   },
   {
    "duration": 50,
    "start_time": "2023-11-22T19:53:15.988Z"
   },
   {
    "duration": 525,
    "start_time": "2023-11-22T19:53:16.040Z"
   },
   {
    "duration": 347,
    "start_time": "2023-11-22T19:53:16.566Z"
   },
   {
    "duration": 325,
    "start_time": "2023-11-22T19:53:16.914Z"
   },
   {
    "duration": 41,
    "start_time": "2023-11-22T19:53:17.241Z"
   },
   {
    "duration": 693,
    "start_time": "2023-11-22T19:53:17.284Z"
   },
   {
    "duration": 53,
    "start_time": "2023-11-22T19:53:17.978Z"
   },
   {
    "duration": 73285,
    "start_time": "2023-11-22T19:53:18.033Z"
   },
   {
    "duration": 3010,
    "start_time": "2023-11-22T19:54:31.321Z"
   },
   {
    "duration": 102,
    "start_time": "2023-11-22T19:54:34.332Z"
   },
   {
    "duration": 0,
    "start_time": "2023-11-22T19:54:34.436Z"
   },
   {
    "duration": 0,
    "start_time": "2023-11-22T19:54:34.437Z"
   },
   {
    "duration": 0,
    "start_time": "2023-11-22T19:54:34.438Z"
   },
   {
    "duration": 0,
    "start_time": "2023-11-22T19:54:34.438Z"
   },
   {
    "duration": 30,
    "start_time": "2023-11-22T19:57:48.414Z"
   },
   {
    "duration": 1317,
    "start_time": "2023-11-22T19:57:57.109Z"
   },
   {
    "duration": 28,
    "start_time": "2023-11-22T19:57:58.427Z"
   },
   {
    "duration": 19,
    "start_time": "2023-11-22T19:57:58.456Z"
   },
   {
    "duration": 461,
    "start_time": "2023-11-22T19:57:58.477Z"
   },
   {
    "duration": 308,
    "start_time": "2023-11-22T19:57:58.939Z"
   },
   {
    "duration": 297,
    "start_time": "2023-11-22T19:57:59.248Z"
   },
   {
    "duration": 37,
    "start_time": "2023-11-22T19:57:59.547Z"
   },
   {
    "duration": 581,
    "start_time": "2023-11-22T19:57:59.586Z"
   },
   {
    "duration": 37,
    "start_time": "2023-11-22T19:58:00.169Z"
   },
   {
    "duration": 71308,
    "start_time": "2023-11-22T19:58:00.208Z"
   },
   {
    "duration": 2948,
    "start_time": "2023-11-22T19:59:11.518Z"
   },
   {
    "duration": 26,
    "start_time": "2023-11-22T19:59:14.468Z"
   },
   {
    "duration": 37,
    "start_time": "2023-11-22T19:59:14.496Z"
   },
   {
    "duration": 43,
    "start_time": "2023-11-22T19:59:14.535Z"
   },
   {
    "duration": 5,
    "start_time": "2023-11-22T19:59:14.580Z"
   },
   {
    "duration": 186,
    "start_time": "2023-11-22T19:59:14.586Z"
   },
   {
    "duration": 7,
    "start_time": "2023-11-22T20:02:28.329Z"
   },
   {
    "duration": 97,
    "start_time": "2023-11-22T20:07:47.397Z"
   },
   {
    "duration": 4,
    "start_time": "2023-11-22T20:09:04.766Z"
   },
   {
    "duration": 8,
    "start_time": "2023-11-22T20:09:12.628Z"
   },
   {
    "duration": 9,
    "start_time": "2023-11-22T20:09:22.027Z"
   },
   {
    "duration": 3,
    "start_time": "2023-11-22T20:09:34.755Z"
   },
   {
    "duration": 16,
    "start_time": "2023-11-22T20:19:08.826Z"
   },
   {
    "duration": 12,
    "start_time": "2023-11-22T20:19:25.010Z"
   },
   {
    "duration": 14,
    "start_time": "2023-11-22T20:19:37.751Z"
   },
   {
    "duration": 13,
    "start_time": "2023-11-22T20:19:43.101Z"
   },
   {
    "duration": 13,
    "start_time": "2023-11-22T20:19:46.999Z"
   },
   {
    "duration": 14,
    "start_time": "2023-11-22T20:19:51.459Z"
   },
   {
    "duration": 13,
    "start_time": "2023-11-22T20:19:54.973Z"
   },
   {
    "duration": 13,
    "start_time": "2023-11-22T20:20:06.000Z"
   },
   {
    "duration": 13,
    "start_time": "2023-11-22T20:20:09.112Z"
   },
   {
    "duration": 12,
    "start_time": "2023-11-22T20:20:13.660Z"
   },
   {
    "duration": 14,
    "start_time": "2023-11-22T20:20:18.645Z"
   },
   {
    "duration": 12,
    "start_time": "2023-11-22T20:20:32.707Z"
   },
   {
    "duration": 12,
    "start_time": "2023-11-22T20:20:39.138Z"
   },
   {
    "duration": 15,
    "start_time": "2023-11-22T20:28:26.267Z"
   },
   {
    "duration": 113,
    "start_time": "2023-11-22T20:28:33.273Z"
   },
   {
    "duration": 109,
    "start_time": "2023-11-22T20:29:28.893Z"
   },
   {
    "duration": 137,
    "start_time": "2023-11-22T20:31:27.016Z"
   },
   {
    "duration": 148,
    "start_time": "2023-11-22T20:43:16.945Z"
   },
   {
    "duration": 143,
    "start_time": "2023-11-22T20:43:27.488Z"
   },
   {
    "duration": 6,
    "start_time": "2023-11-22T20:48:48.866Z"
   },
   {
    "duration": 146,
    "start_time": "2023-11-22T21:02:30.709Z"
   },
   {
    "duration": 12,
    "start_time": "2023-11-22T21:10:24.988Z"
   },
   {
    "duration": 10,
    "start_time": "2023-11-22T21:10:36.937Z"
   },
   {
    "duration": 1747,
    "start_time": "2023-11-22T21:10:50.418Z"
   },
   {
    "duration": 168,
    "start_time": "2023-11-22T21:37:45.974Z"
   },
   {
    "duration": 1282,
    "start_time": "2023-11-22T21:38:27.302Z"
   },
   {
    "duration": 28,
    "start_time": "2023-11-22T21:38:28.585Z"
   },
   {
    "duration": 33,
    "start_time": "2023-11-22T21:38:28.614Z"
   },
   {
    "duration": 443,
    "start_time": "2023-11-22T21:38:28.649Z"
   },
   {
    "duration": 309,
    "start_time": "2023-11-22T21:38:29.094Z"
   },
   {
    "duration": 307,
    "start_time": "2023-11-22T21:38:29.405Z"
   },
   {
    "duration": 40,
    "start_time": "2023-11-22T21:38:29.714Z"
   },
   {
    "duration": 567,
    "start_time": "2023-11-22T21:38:29.756Z"
   },
   {
    "duration": 41,
    "start_time": "2023-11-22T21:38:30.325Z"
   },
   {
    "duration": 69854,
    "start_time": "2023-11-22T21:38:30.368Z"
   },
   {
    "duration": 3067,
    "start_time": "2023-11-22T21:39:40.223Z"
   },
   {
    "duration": 42,
    "start_time": "2023-11-22T21:39:43.292Z"
   },
   {
    "duration": 17,
    "start_time": "2023-11-22T21:39:43.335Z"
   },
   {
    "duration": 38,
    "start_time": "2023-11-22T21:39:43.354Z"
   },
   {
    "duration": 188,
    "start_time": "2023-11-22T21:39:43.393Z"
   },
   {
    "duration": 243,
    "start_time": "2023-11-22T21:39:43.583Z"
   },
   {
    "duration": 1451,
    "start_time": "2023-11-23T09:40:57.382Z"
   },
   {
    "duration": 26,
    "start_time": "2023-11-23T09:40:58.835Z"
   },
   {
    "duration": 19,
    "start_time": "2023-11-23T09:40:58.863Z"
   },
   {
    "duration": 443,
    "start_time": "2023-11-23T09:40:58.884Z"
   },
   {
    "duration": 327,
    "start_time": "2023-11-23T09:40:59.329Z"
   },
   {
    "duration": 303,
    "start_time": "2023-11-23T09:40:59.658Z"
   },
   {
    "duration": 34,
    "start_time": "2023-11-23T09:40:59.962Z"
   },
   {
    "duration": 578,
    "start_time": "2023-11-23T09:40:59.997Z"
   },
   {
    "duration": 36,
    "start_time": "2023-11-23T09:41:00.577Z"
   },
   {
    "duration": 70066,
    "start_time": "2023-11-23T09:41:00.616Z"
   },
   {
    "duration": 3047,
    "start_time": "2023-11-23T09:42:10.684Z"
   },
   {
    "duration": 31,
    "start_time": "2023-11-23T09:42:13.732Z"
   },
   {
    "duration": 14,
    "start_time": "2023-11-23T09:42:13.764Z"
   },
   {
    "duration": 44,
    "start_time": "2023-11-23T09:42:13.780Z"
   },
   {
    "duration": 168,
    "start_time": "2023-11-23T09:42:13.826Z"
   },
   {
    "duration": 237,
    "start_time": "2023-11-23T09:42:13.995Z"
   },
   {
    "duration": 1473,
    "start_time": "2023-11-24T07:46:33.809Z"
   },
   {
    "duration": 28,
    "start_time": "2023-11-24T07:46:35.284Z"
   },
   {
    "duration": 39,
    "start_time": "2023-11-24T07:46:35.313Z"
   },
   {
    "duration": 445,
    "start_time": "2023-11-24T07:46:35.354Z"
   },
   {
    "duration": 306,
    "start_time": "2023-11-24T07:46:35.801Z"
   },
   {
    "duration": 322,
    "start_time": "2023-11-24T07:46:36.109Z"
   },
   {
    "duration": 39,
    "start_time": "2023-11-24T07:46:36.433Z"
   },
   {
    "duration": 548,
    "start_time": "2023-11-24T07:46:36.474Z"
   },
   {
    "duration": 51,
    "start_time": "2023-11-24T07:46:37.025Z"
   },
   {
    "duration": 134,
    "start_time": "2023-11-24T07:46:45.199Z"
   },
   {
    "duration": 16,
    "start_time": "2023-11-24T07:55:12.739Z"
   },
   {
    "duration": 22,
    "start_time": "2023-11-24T07:55:23.202Z"
   },
   {
    "duration": 31,
    "start_time": "2023-11-24T08:02:10.106Z"
   },
   {
    "duration": 11,
    "start_time": "2023-11-24T08:04:32.027Z"
   },
   {
    "duration": 13,
    "start_time": "2023-11-24T08:06:28.678Z"
   },
   {
    "duration": 21,
    "start_time": "2023-11-24T08:07:12.526Z"
   },
   {
    "duration": 10,
    "start_time": "2023-11-24T08:14:00.046Z"
   },
   {
    "duration": 18,
    "start_time": "2023-11-24T08:14:21.912Z"
   },
   {
    "duration": 15,
    "start_time": "2023-11-24T08:14:52.241Z"
   },
   {
    "duration": 107,
    "start_time": "2023-11-24T08:30:18.396Z"
   },
   {
    "duration": 36,
    "start_time": "2023-11-24T08:30:18.505Z"
   },
   {
    "duration": 24,
    "start_time": "2023-11-24T08:30:18.551Z"
   },
   {
    "duration": 497,
    "start_time": "2023-11-24T08:30:18.578Z"
   },
   {
    "duration": 347,
    "start_time": "2023-11-24T08:30:19.076Z"
   },
   {
    "duration": 383,
    "start_time": "2023-11-24T08:30:19.425Z"
   },
   {
    "duration": 31,
    "start_time": "2023-11-24T08:30:19.810Z"
   },
   {
    "duration": 482,
    "start_time": "2023-11-24T08:30:19.852Z"
   },
   {
    "duration": 47,
    "start_time": "2023-11-24T08:30:20.335Z"
   },
   {
    "duration": 16,
    "start_time": "2023-11-24T08:30:24.594Z"
   },
   {
    "duration": 1166,
    "start_time": "2023-11-24T08:30:50.145Z"
   },
   {
    "duration": 28,
    "start_time": "2023-11-24T08:30:51.313Z"
   },
   {
    "duration": 27,
    "start_time": "2023-11-24T08:30:51.352Z"
   },
   {
    "duration": 463,
    "start_time": "2023-11-24T08:30:51.382Z"
   },
   {
    "duration": 311,
    "start_time": "2023-11-24T08:30:51.847Z"
   },
   {
    "duration": 294,
    "start_time": "2023-11-24T08:30:52.159Z"
   },
   {
    "duration": 31,
    "start_time": "2023-11-24T08:30:52.455Z"
   },
   {
    "duration": 567,
    "start_time": "2023-11-24T08:30:52.488Z"
   },
   {
    "duration": 39,
    "start_time": "2023-11-24T08:30:53.056Z"
   },
   {
    "duration": 98,
    "start_time": "2023-11-24T08:30:55.540Z"
   },
   {
    "duration": 12,
    "start_time": "2023-11-24T08:37:02.186Z"
   },
   {
    "duration": 14,
    "start_time": "2023-11-24T08:43:11.763Z"
   },
   {
    "duration": 14,
    "start_time": "2023-11-24T08:48:44.553Z"
   },
   {
    "duration": 17,
    "start_time": "2023-11-24T08:48:49.062Z"
   },
   {
    "duration": 18,
    "start_time": "2023-11-24T08:52:46.932Z"
   },
   {
    "duration": 1193,
    "start_time": "2023-11-24T08:55:24.646Z"
   },
   {
    "duration": 27,
    "start_time": "2023-11-24T08:55:25.841Z"
   },
   {
    "duration": 21,
    "start_time": "2023-11-24T08:55:25.870Z"
   },
   {
    "duration": 442,
    "start_time": "2023-11-24T08:55:25.893Z"
   },
   {
    "duration": 324,
    "start_time": "2023-11-24T08:55:26.336Z"
   },
   {
    "duration": 318,
    "start_time": "2023-11-24T08:55:26.661Z"
   },
   {
    "duration": 45,
    "start_time": "2023-11-24T08:55:26.981Z"
   },
   {
    "duration": 639,
    "start_time": "2023-11-24T08:55:27.028Z"
   },
   {
    "duration": 38,
    "start_time": "2023-11-24T08:55:27.668Z"
   },
   {
    "duration": 122,
    "start_time": "2023-11-24T08:55:34.959Z"
   },
   {
    "duration": 7,
    "start_time": "2023-11-24T08:58:46.055Z"
   },
   {
    "duration": 9,
    "start_time": "2023-11-24T08:58:57.730Z"
   },
   {
    "duration": 9,
    "start_time": "2023-11-24T08:59:19.594Z"
   },
   {
    "duration": 92,
    "start_time": "2023-11-24T08:59:34.180Z"
   },
   {
    "duration": 173,
    "start_time": "2023-11-24T08:59:38.105Z"
   },
   {
    "duration": 14,
    "start_time": "2023-11-24T08:59:41.908Z"
   },
   {
    "duration": 7,
    "start_time": "2023-11-24T09:03:31.111Z"
   },
   {
    "duration": 7,
    "start_time": "2023-11-24T09:03:43.483Z"
   },
   {
    "duration": 11,
    "start_time": "2023-11-24T09:07:30.873Z"
   },
   {
    "duration": 21,
    "start_time": "2023-11-24T09:07:38.586Z"
   },
   {
    "duration": 1397,
    "start_time": "2023-11-24T09:10:02.134Z"
   },
   {
    "duration": 33,
    "start_time": "2023-11-24T09:10:03.533Z"
   },
   {
    "duration": 22,
    "start_time": "2023-11-24T09:10:03.568Z"
   },
   {
    "duration": 512,
    "start_time": "2023-11-24T09:10:03.592Z"
   },
   {
    "duration": 352,
    "start_time": "2023-11-24T09:10:04.106Z"
   },
   {
    "duration": 346,
    "start_time": "2023-11-24T09:10:04.460Z"
   },
   {
    "duration": 39,
    "start_time": "2023-11-24T09:10:11.286Z"
   },
   {
    "duration": 1244,
    "start_time": "2023-11-24T09:10:36.270Z"
   },
   {
    "duration": 25,
    "start_time": "2023-11-24T09:10:37.516Z"
   },
   {
    "duration": 21,
    "start_time": "2023-11-24T09:10:37.542Z"
   },
   {
    "duration": 449,
    "start_time": "2023-11-24T09:10:37.564Z"
   },
   {
    "duration": 309,
    "start_time": "2023-11-24T09:10:38.015Z"
   },
   {
    "duration": 287,
    "start_time": "2023-11-24T09:10:38.326Z"
   },
   {
    "duration": 47,
    "start_time": "2023-11-24T09:10:38.615Z"
   },
   {
    "duration": 565,
    "start_time": "2023-11-24T09:10:38.663Z"
   },
   {
    "duration": 35,
    "start_time": "2023-11-24T09:10:41.174Z"
   },
   {
    "duration": 41,
    "start_time": "2023-11-24T09:19:35.255Z"
   },
   {
    "duration": 473,
    "start_time": "2023-11-24T09:19:48.856Z"
   },
   {
    "duration": 38,
    "start_time": "2023-11-24T09:20:01.727Z"
   },
   {
    "duration": 49,
    "start_time": "2023-11-24T09:31:26.484Z"
   },
   {
    "duration": 43,
    "start_time": "2023-11-24T09:31:56.250Z"
   },
   {
    "duration": 44,
    "start_time": "2023-11-24T09:32:24.382Z"
   },
   {
    "duration": 488,
    "start_time": "2023-11-24T09:37:48.229Z"
   },
   {
    "duration": 42,
    "start_time": "2023-11-24T09:37:56.455Z"
   },
   {
    "duration": 1906,
    "start_time": "2023-11-24T09:38:29.753Z"
   },
   {
    "duration": 37,
    "start_time": "2023-11-24T09:38:59.431Z"
   },
   {
    "duration": 1296,
    "start_time": "2023-11-24T09:39:04.640Z"
   },
   {
    "duration": 37,
    "start_time": "2023-11-24T09:39:48.587Z"
   },
   {
    "duration": 137,
    "start_time": "2023-11-24T09:40:03.929Z"
   },
   {
    "duration": 168,
    "start_time": "2023-11-24T09:40:16.348Z"
   },
   {
    "duration": 1310,
    "start_time": "2023-11-24T10:00:01.224Z"
   },
   {
    "duration": 32,
    "start_time": "2023-11-24T10:00:02.535Z"
   },
   {
    "duration": 65,
    "start_time": "2023-11-24T10:00:02.569Z"
   },
   {
    "duration": 527,
    "start_time": "2023-11-24T10:00:02.636Z"
   },
   {
    "duration": 336,
    "start_time": "2023-11-24T10:00:03.170Z"
   },
   {
    "duration": 321,
    "start_time": "2023-11-24T10:00:03.508Z"
   },
   {
    "duration": 57,
    "start_time": "2023-11-24T10:00:03.832Z"
   },
   {
    "duration": 636,
    "start_time": "2023-11-24T10:00:03.891Z"
   },
   {
    "duration": 61,
    "start_time": "2023-11-24T10:00:04.529Z"
   },
   {
    "duration": 31,
    "start_time": "2023-11-24T10:00:04.592Z"
   },
   {
    "duration": 37,
    "start_time": "2023-11-24T10:00:04.625Z"
   },
   {
    "duration": 46,
    "start_time": "2023-11-24T10:00:04.664Z"
   },
   {
    "duration": 181,
    "start_time": "2023-11-24T10:00:04.711Z"
   },
   {
    "duration": 201,
    "start_time": "2023-11-24T10:00:04.894Z"
   },
   {
    "duration": 1672,
    "start_time": "2023-11-24T11:23:00.882Z"
   },
   {
    "duration": 31,
    "start_time": "2023-11-24T11:23:02.556Z"
   },
   {
    "duration": 42,
    "start_time": "2023-11-24T11:23:02.588Z"
   },
   {
    "duration": 482,
    "start_time": "2023-11-24T11:23:02.633Z"
   },
   {
    "duration": 338,
    "start_time": "2023-11-24T11:23:03.117Z"
   },
   {
    "duration": 337,
    "start_time": "2023-11-24T11:23:03.456Z"
   },
   {
    "duration": 52,
    "start_time": "2023-11-24T11:23:03.795Z"
   },
   {
    "duration": 611,
    "start_time": "2023-11-24T11:23:03.849Z"
   },
   {
    "duration": 50,
    "start_time": "2023-11-24T11:23:04.462Z"
   },
   {
    "duration": 19,
    "start_time": "2023-11-24T11:23:22.015Z"
   },
   {
    "duration": 1149,
    "start_time": "2023-11-24T11:24:18.073Z"
   },
   {
    "duration": 30,
    "start_time": "2023-11-24T11:24:19.224Z"
   },
   {
    "duration": 22,
    "start_time": "2023-11-24T11:24:19.256Z"
   },
   {
    "duration": 488,
    "start_time": "2023-11-24T11:24:19.280Z"
   },
   {
    "duration": 342,
    "start_time": "2023-11-24T11:24:19.770Z"
   },
   {
    "duration": 315,
    "start_time": "2023-11-24T11:24:20.114Z"
   },
   {
    "duration": 43,
    "start_time": "2023-11-24T11:24:20.430Z"
   },
   {
    "duration": 609,
    "start_time": "2023-11-24T11:24:20.475Z"
   },
   {
    "duration": 59,
    "start_time": "2023-11-24T11:24:21.085Z"
   },
   {
    "duration": 28,
    "start_time": "2023-11-24T11:24:21.146Z"
   },
   {
    "duration": 17,
    "start_time": "2023-11-24T11:24:21.175Z"
   },
   {
    "duration": 65,
    "start_time": "2023-11-24T11:24:21.194Z"
   },
   {
    "duration": 167,
    "start_time": "2023-11-24T11:24:21.261Z"
   },
   {
    "duration": 196,
    "start_time": "2023-11-24T11:24:21.431Z"
   },
   {
    "duration": 49,
    "start_time": "2023-11-24T12:39:34.267Z"
   },
   {
    "duration": 1525,
    "start_time": "2023-11-24T12:39:42.571Z"
   },
   {
    "duration": 31,
    "start_time": "2023-11-24T12:39:44.098Z"
   },
   {
    "duration": 28,
    "start_time": "2023-11-24T12:39:44.143Z"
   },
   {
    "duration": 472,
    "start_time": "2023-11-24T12:39:44.173Z"
   },
   {
    "duration": 326,
    "start_time": "2023-11-24T12:39:44.656Z"
   },
   {
    "duration": 319,
    "start_time": "2023-11-24T12:39:44.983Z"
   },
   {
    "duration": 52,
    "start_time": "2023-11-24T12:39:45.303Z"
   },
   {
    "duration": 619,
    "start_time": "2023-11-24T12:39:45.358Z"
   },
   {
    "duration": 42,
    "start_time": "2023-11-24T12:39:45.979Z"
   },
   {
    "duration": 40,
    "start_time": "2023-11-24T12:39:59.277Z"
   },
   {
    "duration": 35,
    "start_time": "2023-11-24T12:41:07.793Z"
   },
   {
    "duration": 37,
    "start_time": "2023-11-24T12:41:19.998Z"
   },
   {
    "duration": 43,
    "start_time": "2023-11-24T12:41:31.390Z"
   },
   {
    "duration": 57,
    "start_time": "2023-11-24T12:52:39.310Z"
   },
   {
    "duration": 57,
    "start_time": "2023-11-24T12:53:53.231Z"
   },
   {
    "duration": 54,
    "start_time": "2023-11-24T12:58:05.618Z"
   },
   {
    "duration": 36,
    "start_time": "2023-11-24T12:58:34.864Z"
   },
   {
    "duration": 1267,
    "start_time": "2023-11-24T13:04:04.552Z"
   },
   {
    "duration": 32,
    "start_time": "2023-11-24T13:04:05.822Z"
   },
   {
    "duration": 63,
    "start_time": "2023-11-24T13:04:05.859Z"
   },
   {
    "duration": 453,
    "start_time": "2023-11-24T13:04:05.924Z"
   },
   {
    "duration": 347,
    "start_time": "2023-11-24T13:04:06.379Z"
   },
   {
    "duration": 333,
    "start_time": "2023-11-24T13:04:06.727Z"
   },
   {
    "duration": 41,
    "start_time": "2023-11-24T13:04:07.062Z"
   },
   {
    "duration": 626,
    "start_time": "2023-11-24T13:04:07.104Z"
   },
   {
    "duration": 60,
    "start_time": "2023-11-24T13:04:07.732Z"
   },
   {
    "duration": 29,
    "start_time": "2023-11-24T13:04:07.794Z"
   },
   {
    "duration": 22,
    "start_time": "2023-11-24T13:04:07.846Z"
   },
   {
    "duration": 129,
    "start_time": "2023-11-24T13:04:07.870Z"
   },
   {
    "duration": 0,
    "start_time": "2023-11-24T13:04:08.002Z"
   },
   {
    "duration": 0,
    "start_time": "2023-11-24T13:04:08.003Z"
   },
   {
    "duration": 27,
    "start_time": "2023-11-24T13:07:07.551Z"
   },
   {
    "duration": 26,
    "start_time": "2023-11-24T13:07:23.708Z"
   },
   {
    "duration": 31,
    "start_time": "2023-11-24T13:07:34.212Z"
   },
   {
    "duration": 1193,
    "start_time": "2023-11-24T13:07:45.103Z"
   },
   {
    "duration": 39,
    "start_time": "2023-11-24T13:07:46.298Z"
   },
   {
    "duration": 20,
    "start_time": "2023-11-24T13:07:46.342Z"
   },
   {
    "duration": 485,
    "start_time": "2023-11-24T13:07:46.363Z"
   },
   {
    "duration": 325,
    "start_time": "2023-11-24T13:07:46.851Z"
   },
   {
    "duration": 306,
    "start_time": "2023-11-24T13:07:47.178Z"
   },
   {
    "duration": 34,
    "start_time": "2023-11-24T13:07:47.485Z"
   },
   {
    "duration": 611,
    "start_time": "2023-11-24T13:07:47.521Z"
   },
   {
    "duration": 50,
    "start_time": "2023-11-24T13:07:48.142Z"
   },
   {
    "duration": 28,
    "start_time": "2023-11-24T13:07:48.193Z"
   },
   {
    "duration": 15,
    "start_time": "2023-11-24T13:07:48.243Z"
   },
   {
    "duration": 68,
    "start_time": "2023-11-24T13:07:48.259Z"
   },
   {
    "duration": 138,
    "start_time": "2023-11-24T13:07:48.328Z"
   },
   {
    "duration": 178,
    "start_time": "2023-11-24T13:07:48.468Z"
   },
   {
    "duration": 110,
    "start_time": "2023-11-24T13:14:57.648Z"
   },
   {
    "duration": 59,
    "start_time": "2023-11-24T13:15:01.183Z"
   },
   {
    "duration": 1263,
    "start_time": "2023-11-24T13:16:09.339Z"
   },
   {
    "duration": 29,
    "start_time": "2023-11-24T13:16:10.604Z"
   },
   {
    "duration": 19,
    "start_time": "2023-11-24T13:16:10.642Z"
   },
   {
    "duration": 461,
    "start_time": "2023-11-24T13:16:10.663Z"
   },
   {
    "duration": 320,
    "start_time": "2023-11-24T13:16:11.125Z"
   },
   {
    "duration": 316,
    "start_time": "2023-11-24T13:16:11.447Z"
   },
   {
    "duration": 34,
    "start_time": "2023-11-24T13:16:11.765Z"
   },
   {
    "duration": 573,
    "start_time": "2023-11-24T13:16:11.801Z"
   },
   {
    "duration": 54,
    "start_time": "2023-11-24T13:16:12.376Z"
   },
   {
    "duration": 27,
    "start_time": "2023-11-24T13:16:12.442Z"
   },
   {
    "duration": 15,
    "start_time": "2023-11-24T13:16:12.470Z"
   },
   {
    "duration": 57,
    "start_time": "2023-11-24T13:16:12.486Z"
   },
   {
    "duration": 150,
    "start_time": "2023-11-24T13:16:12.545Z"
   },
   {
    "duration": 191,
    "start_time": "2023-11-24T13:16:12.696Z"
   }
  ],
  "kernelspec": {
   "display_name": "Python 3 (ipykernel)",
   "language": "python",
   "name": "python3"
  },
  "language_info": {
   "codemirror_mode": {
    "name": "ipython",
    "version": 3
   },
   "file_extension": ".py",
   "mimetype": "text/x-python",
   "name": "python",
   "nbconvert_exporter": "python",
   "pygments_lexer": "ipython3",
   "version": "3.9.5"
  },
  "toc": {
   "base_numbering": 1,
   "nav_menu": {},
   "number_sections": true,
   "sideBar": true,
   "skip_h1_title": true,
   "title_cell": "Table of Contents",
   "title_sidebar": "Contents",
   "toc_cell": false,
   "toc_position": {
    "height": "calc(100% - 180px)",
    "left": "10px",
    "top": "150px",
    "width": "294.4px"
   },
   "toc_section_display": true,
   "toc_window_display": true
  }
 },
 "nbformat": 4,
 "nbformat_minor": 5
}
