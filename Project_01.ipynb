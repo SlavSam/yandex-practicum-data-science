{
 "cells": [
  {
   "cell_type": "markdown",
   "id": "f75da2c7",
   "metadata": {},
   "source": [
    "# Исследование надёжности заёмщиков\n",
    "\n",
    "**Заказчик** — кредитный отдел банка. Нужно разобраться, влияет ли семейное положение и количество детей клиента на факт погашения кредита в срок. Входные данные от банка — статистика о платёжеспособности клиентов.\n",
    "\n",
    "Результаты исследования будут учтены при построении модели кредитного скоринга — специальной системы, которая оценивает способность потенциального заёмщика вернуть кредит банку.\n",
    "\n",
    "## Данные имеют следующие столбцы:\n",
    "\n",
    "- `children` — количество детей в семье  \n",
    "- `days_employed` — общий трудовой стаж в днях  \n",
    "- `dob_years` — возраст клиента в годах  \n",
    "- `education` — уровень образования клиента  \n",
    "- `education_id` — идентификатор уровня образования  \n",
    "- `family_status` — семейное положение  \n",
    "- `family_status_id` — идентификатор семейного положения  \n",
    "- `gender` — пол клиента  \n",
    "- `income_type` — тип занятости  \n",
    "- `debt` — имел ли задолженность по возврату кредитов  \n",
    "- `total_income` — ежемесячный доход  \n",
    "- `purpose` — цель получения кредита  "
   ]
  },
  {
   "cell_type": "markdown",
   "id": "bda67d94",
   "metadata": {},
   "source": [
    "## План работы над проектом\n",
    "\n",
    "1. **Анализ данных**\n",
    "   - Провести анализ пропусков\n",
    "   - Изучить изменения данных\n",
    "   - Выявить повторяющиеся значения\n",
    "\n",
    "2. **Очистка данных**\n",
    "   - Определить, какие некорректные строки требуется сохранить\n",
    "   - Удалить невалидные данные\n",
    "\n",
    "3. **Заполнение пропусков**\n",
    "   - Заполнить значения в пропущенных ячейках таблицы\n",
    "\n",
    "4. **Удаление дубликатов**\n",
    "   - Найти и удалить дублирующиеся записи\n",
    "\n",
    "5. **Категоризация данных**\n",
    "   - Вывести категории для проведения гипотез\n",
    "\n",
    "6. **Формулирование выводов**\n",
    "   - Составить выводы по каждому исследовательскому вопросу\n",
    "\n",
    "7. **Итоговый отчёт**\n",
    "   - Сформулировать общий вывод по проекту"
   ]
  },
  {
   "cell_type": "markdown",
   "id": "c9f3b94a",
   "metadata": {
    "id": "744d7639"
   },
   "source": [
    "## Откроем таблицу и изучим общую информацию о данных"
   ]
  },
  {
   "cell_type": "markdown",
   "id": "f1ee3da8",
   "metadata": {
    "id": "e7a14c31"
   },
   "source": [
    "Подключение необходимых библиотек:"
   ]
  },
  {
   "cell_type": "code",
   "execution_count": 1,
   "id": "ba62f171",
   "metadata": {
    "id": "7bcf75c9"
   },
   "outputs": [],
   "source": [
    "import pandas as pd\n",
    "\n",
    "try:\n",
    "    data = pd.read_csv('/datasets/data.csv')\n",
    "except:\n",
    "    data = pd.read_csv('https://code.s3.yandex.net/datasets/data.csv')"
   ]
  },
  {
   "cell_type": "markdown",
   "id": "bc72b4e6",
   "metadata": {
    "id": "b8038fe3"
   },
   "source": [
    "Вывод первых 20 строчек датафрейма `data` на экран:"
   ]
  },
  {
   "cell_type": "code",
   "execution_count": 2,
   "id": "0caa786a",
   "metadata": {
    "id": "2a7cab99",
    "outputId": "1a8f3ef2-d323-4ec2-ddf7-89670b5944c4"
   },
   "outputs": [
    {
     "data": {
      "text/html": [
       "<div>\n",
       "<style scoped>\n",
       "    .dataframe tbody tr th:only-of-type {\n",
       "        vertical-align: middle;\n",
       "    }\n",
       "\n",
       "    .dataframe tbody tr th {\n",
       "        vertical-align: top;\n",
       "    }\n",
       "\n",
       "    .dataframe thead th {\n",
       "        text-align: right;\n",
       "    }\n",
       "</style>\n",
       "<table border=\"1\" class=\"dataframe\">\n",
       "  <thead>\n",
       "    <tr style=\"text-align: right;\">\n",
       "      <th></th>\n",
       "      <th>children</th>\n",
       "      <th>days_employed</th>\n",
       "      <th>dob_years</th>\n",
       "      <th>education</th>\n",
       "      <th>education_id</th>\n",
       "      <th>family_status</th>\n",
       "      <th>family_status_id</th>\n",
       "      <th>gender</th>\n",
       "      <th>income_type</th>\n",
       "      <th>debt</th>\n",
       "      <th>total_income</th>\n",
       "      <th>purpose</th>\n",
       "    </tr>\n",
       "  </thead>\n",
       "  <tbody>\n",
       "    <tr>\n",
       "      <th>0</th>\n",
       "      <td>1</td>\n",
       "      <td>-8437.673028</td>\n",
       "      <td>42</td>\n",
       "      <td>высшее</td>\n",
       "      <td>0</td>\n",
       "      <td>женат / замужем</td>\n",
       "      <td>0</td>\n",
       "      <td>F</td>\n",
       "      <td>сотрудник</td>\n",
       "      <td>0</td>\n",
       "      <td>253875.639453</td>\n",
       "      <td>покупка жилья</td>\n",
       "    </tr>\n",
       "    <tr>\n",
       "      <th>1</th>\n",
       "      <td>1</td>\n",
       "      <td>-4024.803754</td>\n",
       "      <td>36</td>\n",
       "      <td>среднее</td>\n",
       "      <td>1</td>\n",
       "      <td>женат / замужем</td>\n",
       "      <td>0</td>\n",
       "      <td>F</td>\n",
       "      <td>сотрудник</td>\n",
       "      <td>0</td>\n",
       "      <td>112080.014102</td>\n",
       "      <td>приобретение автомобиля</td>\n",
       "    </tr>\n",
       "    <tr>\n",
       "      <th>2</th>\n",
       "      <td>0</td>\n",
       "      <td>-5623.422610</td>\n",
       "      <td>33</td>\n",
       "      <td>Среднее</td>\n",
       "      <td>1</td>\n",
       "      <td>женат / замужем</td>\n",
       "      <td>0</td>\n",
       "      <td>M</td>\n",
       "      <td>сотрудник</td>\n",
       "      <td>0</td>\n",
       "      <td>145885.952297</td>\n",
       "      <td>покупка жилья</td>\n",
       "    </tr>\n",
       "    <tr>\n",
       "      <th>3</th>\n",
       "      <td>3</td>\n",
       "      <td>-4124.747207</td>\n",
       "      <td>32</td>\n",
       "      <td>среднее</td>\n",
       "      <td>1</td>\n",
       "      <td>женат / замужем</td>\n",
       "      <td>0</td>\n",
       "      <td>M</td>\n",
       "      <td>сотрудник</td>\n",
       "      <td>0</td>\n",
       "      <td>267628.550329</td>\n",
       "      <td>дополнительное образование</td>\n",
       "    </tr>\n",
       "    <tr>\n",
       "      <th>4</th>\n",
       "      <td>0</td>\n",
       "      <td>340266.072047</td>\n",
       "      <td>53</td>\n",
       "      <td>среднее</td>\n",
       "      <td>1</td>\n",
       "      <td>гражданский брак</td>\n",
       "      <td>1</td>\n",
       "      <td>F</td>\n",
       "      <td>пенсионер</td>\n",
       "      <td>0</td>\n",
       "      <td>158616.077870</td>\n",
       "      <td>сыграть свадьбу</td>\n",
       "    </tr>\n",
       "    <tr>\n",
       "      <th>5</th>\n",
       "      <td>0</td>\n",
       "      <td>-926.185831</td>\n",
       "      <td>27</td>\n",
       "      <td>высшее</td>\n",
       "      <td>0</td>\n",
       "      <td>гражданский брак</td>\n",
       "      <td>1</td>\n",
       "      <td>M</td>\n",
       "      <td>компаньон</td>\n",
       "      <td>0</td>\n",
       "      <td>255763.565419</td>\n",
       "      <td>покупка жилья</td>\n",
       "    </tr>\n",
       "    <tr>\n",
       "      <th>6</th>\n",
       "      <td>0</td>\n",
       "      <td>-2879.202052</td>\n",
       "      <td>43</td>\n",
       "      <td>высшее</td>\n",
       "      <td>0</td>\n",
       "      <td>женат / замужем</td>\n",
       "      <td>0</td>\n",
       "      <td>F</td>\n",
       "      <td>компаньон</td>\n",
       "      <td>0</td>\n",
       "      <td>240525.971920</td>\n",
       "      <td>операции с жильем</td>\n",
       "    </tr>\n",
       "    <tr>\n",
       "      <th>7</th>\n",
       "      <td>0</td>\n",
       "      <td>-152.779569</td>\n",
       "      <td>50</td>\n",
       "      <td>СРЕДНЕЕ</td>\n",
       "      <td>1</td>\n",
       "      <td>женат / замужем</td>\n",
       "      <td>0</td>\n",
       "      <td>M</td>\n",
       "      <td>сотрудник</td>\n",
       "      <td>0</td>\n",
       "      <td>135823.934197</td>\n",
       "      <td>образование</td>\n",
       "    </tr>\n",
       "    <tr>\n",
       "      <th>8</th>\n",
       "      <td>2</td>\n",
       "      <td>-6929.865299</td>\n",
       "      <td>35</td>\n",
       "      <td>ВЫСШЕЕ</td>\n",
       "      <td>0</td>\n",
       "      <td>гражданский брак</td>\n",
       "      <td>1</td>\n",
       "      <td>F</td>\n",
       "      <td>сотрудник</td>\n",
       "      <td>0</td>\n",
       "      <td>95856.832424</td>\n",
       "      <td>на проведение свадьбы</td>\n",
       "    </tr>\n",
       "    <tr>\n",
       "      <th>9</th>\n",
       "      <td>0</td>\n",
       "      <td>-2188.756445</td>\n",
       "      <td>41</td>\n",
       "      <td>среднее</td>\n",
       "      <td>1</td>\n",
       "      <td>женат / замужем</td>\n",
       "      <td>0</td>\n",
       "      <td>M</td>\n",
       "      <td>сотрудник</td>\n",
       "      <td>0</td>\n",
       "      <td>144425.938277</td>\n",
       "      <td>покупка жилья для семьи</td>\n",
       "    </tr>\n",
       "    <tr>\n",
       "      <th>10</th>\n",
       "      <td>2</td>\n",
       "      <td>-4171.483647</td>\n",
       "      <td>36</td>\n",
       "      <td>высшее</td>\n",
       "      <td>0</td>\n",
       "      <td>женат / замужем</td>\n",
       "      <td>0</td>\n",
       "      <td>M</td>\n",
       "      <td>компаньон</td>\n",
       "      <td>0</td>\n",
       "      <td>113943.491460</td>\n",
       "      <td>покупка недвижимости</td>\n",
       "    </tr>\n",
       "    <tr>\n",
       "      <th>11</th>\n",
       "      <td>0</td>\n",
       "      <td>-792.701887</td>\n",
       "      <td>40</td>\n",
       "      <td>среднее</td>\n",
       "      <td>1</td>\n",
       "      <td>женат / замужем</td>\n",
       "      <td>0</td>\n",
       "      <td>F</td>\n",
       "      <td>сотрудник</td>\n",
       "      <td>0</td>\n",
       "      <td>77069.234271</td>\n",
       "      <td>покупка коммерческой недвижимости</td>\n",
       "    </tr>\n",
       "    <tr>\n",
       "      <th>12</th>\n",
       "      <td>0</td>\n",
       "      <td>NaN</td>\n",
       "      <td>65</td>\n",
       "      <td>среднее</td>\n",
       "      <td>1</td>\n",
       "      <td>гражданский брак</td>\n",
       "      <td>1</td>\n",
       "      <td>M</td>\n",
       "      <td>пенсионер</td>\n",
       "      <td>0</td>\n",
       "      <td>NaN</td>\n",
       "      <td>сыграть свадьбу</td>\n",
       "    </tr>\n",
       "    <tr>\n",
       "      <th>13</th>\n",
       "      <td>0</td>\n",
       "      <td>-1846.641941</td>\n",
       "      <td>54</td>\n",
       "      <td>неоконченное высшее</td>\n",
       "      <td>2</td>\n",
       "      <td>женат / замужем</td>\n",
       "      <td>0</td>\n",
       "      <td>F</td>\n",
       "      <td>сотрудник</td>\n",
       "      <td>0</td>\n",
       "      <td>130458.228857</td>\n",
       "      <td>приобретение автомобиля</td>\n",
       "    </tr>\n",
       "    <tr>\n",
       "      <th>14</th>\n",
       "      <td>0</td>\n",
       "      <td>-1844.956182</td>\n",
       "      <td>56</td>\n",
       "      <td>высшее</td>\n",
       "      <td>0</td>\n",
       "      <td>гражданский брак</td>\n",
       "      <td>1</td>\n",
       "      <td>F</td>\n",
       "      <td>компаньон</td>\n",
       "      <td>1</td>\n",
       "      <td>165127.911772</td>\n",
       "      <td>покупка жилой недвижимости</td>\n",
       "    </tr>\n",
       "    <tr>\n",
       "      <th>15</th>\n",
       "      <td>1</td>\n",
       "      <td>-972.364419</td>\n",
       "      <td>26</td>\n",
       "      <td>среднее</td>\n",
       "      <td>1</td>\n",
       "      <td>женат / замужем</td>\n",
       "      <td>0</td>\n",
       "      <td>F</td>\n",
       "      <td>сотрудник</td>\n",
       "      <td>0</td>\n",
       "      <td>116820.904450</td>\n",
       "      <td>строительство собственной недвижимости</td>\n",
       "    </tr>\n",
       "    <tr>\n",
       "      <th>16</th>\n",
       "      <td>0</td>\n",
       "      <td>-1719.934226</td>\n",
       "      <td>35</td>\n",
       "      <td>среднее</td>\n",
       "      <td>1</td>\n",
       "      <td>женат / замужем</td>\n",
       "      <td>0</td>\n",
       "      <td>F</td>\n",
       "      <td>сотрудник</td>\n",
       "      <td>0</td>\n",
       "      <td>289202.704229</td>\n",
       "      <td>недвижимость</td>\n",
       "    </tr>\n",
       "    <tr>\n",
       "      <th>17</th>\n",
       "      <td>0</td>\n",
       "      <td>-2369.999720</td>\n",
       "      <td>33</td>\n",
       "      <td>высшее</td>\n",
       "      <td>0</td>\n",
       "      <td>гражданский брак</td>\n",
       "      <td>1</td>\n",
       "      <td>M</td>\n",
       "      <td>сотрудник</td>\n",
       "      <td>0</td>\n",
       "      <td>90410.586745</td>\n",
       "      <td>строительство недвижимости</td>\n",
       "    </tr>\n",
       "    <tr>\n",
       "      <th>18</th>\n",
       "      <td>0</td>\n",
       "      <td>400281.136913</td>\n",
       "      <td>53</td>\n",
       "      <td>среднее</td>\n",
       "      <td>1</td>\n",
       "      <td>вдовец / вдова</td>\n",
       "      <td>2</td>\n",
       "      <td>F</td>\n",
       "      <td>пенсионер</td>\n",
       "      <td>0</td>\n",
       "      <td>56823.777243</td>\n",
       "      <td>на покупку подержанного автомобиля</td>\n",
       "    </tr>\n",
       "    <tr>\n",
       "      <th>19</th>\n",
       "      <td>0</td>\n",
       "      <td>-10038.818549</td>\n",
       "      <td>48</td>\n",
       "      <td>СРЕДНЕЕ</td>\n",
       "      <td>1</td>\n",
       "      <td>в разводе</td>\n",
       "      <td>3</td>\n",
       "      <td>F</td>\n",
       "      <td>сотрудник</td>\n",
       "      <td>0</td>\n",
       "      <td>242831.107982</td>\n",
       "      <td>на покупку своего автомобиля</td>\n",
       "    </tr>\n",
       "  </tbody>\n",
       "</table>\n",
       "</div>"
      ],
      "text/plain": [
       "    children  days_employed  dob_years            education  education_id  \\\n",
       "0          1   -8437.673028         42               высшее             0   \n",
       "1          1   -4024.803754         36              среднее             1   \n",
       "2          0   -5623.422610         33              Среднее             1   \n",
       "3          3   -4124.747207         32              среднее             1   \n",
       "4          0  340266.072047         53              среднее             1   \n",
       "5          0    -926.185831         27               высшее             0   \n",
       "6          0   -2879.202052         43               высшее             0   \n",
       "7          0    -152.779569         50              СРЕДНЕЕ             1   \n",
       "8          2   -6929.865299         35               ВЫСШЕЕ             0   \n",
       "9          0   -2188.756445         41              среднее             1   \n",
       "10         2   -4171.483647         36               высшее             0   \n",
       "11         0    -792.701887         40              среднее             1   \n",
       "12         0            NaN         65              среднее             1   \n",
       "13         0   -1846.641941         54  неоконченное высшее             2   \n",
       "14         0   -1844.956182         56               высшее             0   \n",
       "15         1    -972.364419         26              среднее             1   \n",
       "16         0   -1719.934226         35              среднее             1   \n",
       "17         0   -2369.999720         33               высшее             0   \n",
       "18         0  400281.136913         53              среднее             1   \n",
       "19         0  -10038.818549         48              СРЕДНЕЕ             1   \n",
       "\n",
       "       family_status  family_status_id gender income_type  debt  \\\n",
       "0    женат / замужем                 0      F   сотрудник     0   \n",
       "1    женат / замужем                 0      F   сотрудник     0   \n",
       "2    женат / замужем                 0      M   сотрудник     0   \n",
       "3    женат / замужем                 0      M   сотрудник     0   \n",
       "4   гражданский брак                 1      F   пенсионер     0   \n",
       "5   гражданский брак                 1      M   компаньон     0   \n",
       "6    женат / замужем                 0      F   компаньон     0   \n",
       "7    женат / замужем                 0      M   сотрудник     0   \n",
       "8   гражданский брак                 1      F   сотрудник     0   \n",
       "9    женат / замужем                 0      M   сотрудник     0   \n",
       "10   женат / замужем                 0      M   компаньон     0   \n",
       "11   женат / замужем                 0      F   сотрудник     0   \n",
       "12  гражданский брак                 1      M   пенсионер     0   \n",
       "13   женат / замужем                 0      F   сотрудник     0   \n",
       "14  гражданский брак                 1      F   компаньон     1   \n",
       "15   женат / замужем                 0      F   сотрудник     0   \n",
       "16   женат / замужем                 0      F   сотрудник     0   \n",
       "17  гражданский брак                 1      M   сотрудник     0   \n",
       "18    вдовец / вдова                 2      F   пенсионер     0   \n",
       "19         в разводе                 3      F   сотрудник     0   \n",
       "\n",
       "     total_income                                 purpose  \n",
       "0   253875.639453                           покупка жилья  \n",
       "1   112080.014102                 приобретение автомобиля  \n",
       "2   145885.952297                           покупка жилья  \n",
       "3   267628.550329              дополнительное образование  \n",
       "4   158616.077870                         сыграть свадьбу  \n",
       "5   255763.565419                           покупка жилья  \n",
       "6   240525.971920                       операции с жильем  \n",
       "7   135823.934197                             образование  \n",
       "8    95856.832424                   на проведение свадьбы  \n",
       "9   144425.938277                 покупка жилья для семьи  \n",
       "10  113943.491460                    покупка недвижимости  \n",
       "11   77069.234271       покупка коммерческой недвижимости  \n",
       "12            NaN                         сыграть свадьбу  \n",
       "13  130458.228857                 приобретение автомобиля  \n",
       "14  165127.911772              покупка жилой недвижимости  \n",
       "15  116820.904450  строительство собственной недвижимости  \n",
       "16  289202.704229                            недвижимость  \n",
       "17   90410.586745              строительство недвижимости  \n",
       "18   56823.777243      на покупку подержанного автомобиля  \n",
       "19  242831.107982            на покупку своего автомобиля  "
      ]
     },
     "execution_count": 2,
     "metadata": {},
     "output_type": "execute_result"
    }
   ],
   "source": [
    "data.head(20)"
   ]
  },
  {
   "cell_type": "markdown",
   "id": "20efed57",
   "metadata": {
    "id": "1c12e233"
   },
   "source": [
    "Вывод основной информации о датафрейме с помощью метода `info()`:"
   ]
  },
  {
   "cell_type": "code",
   "execution_count": 3,
   "id": "38a6c3e2",
   "metadata": {
    "id": "2b757bca",
    "outputId": "15376089-8dad-46c9-b520-c05248d43158"
   },
   "outputs": [
    {
     "name": "stdout",
     "output_type": "stream",
     "text": [
      "<class 'pandas.core.frame.DataFrame'>\n",
      "RangeIndex: 21525 entries, 0 to 21524\n",
      "Data columns (total 12 columns):\n",
      " #   Column            Non-Null Count  Dtype  \n",
      "---  ------            --------------  -----  \n",
      " 0   children          21525 non-null  int64  \n",
      " 1   days_employed     19351 non-null  float64\n",
      " 2   dob_years         21525 non-null  int64  \n",
      " 3   education         21525 non-null  object \n",
      " 4   education_id      21525 non-null  int64  \n",
      " 5   family_status     21525 non-null  object \n",
      " 6   family_status_id  21525 non-null  int64  \n",
      " 7   gender            21525 non-null  object \n",
      " 8   income_type       21525 non-null  object \n",
      " 9   debt              21525 non-null  int64  \n",
      " 10  total_income      19351 non-null  float64\n",
      " 11  purpose           21525 non-null  object \n",
      "dtypes: float64(2), int64(5), object(5)\n",
      "memory usage: 2.0+ MB\n"
     ]
    }
   ],
   "source": [
    "data.info()"
   ]
  },
  {
   "cell_type": "markdown",
   "id": "c80f713a",
   "metadata": {
    "id": "333ec665"
   },
   "source": [
    "## Предобработка данных"
   ]
  },
  {
   "cell_type": "markdown",
   "id": "64226956",
   "metadata": {
    "id": "02d92d53"
   },
   "source": [
    "### Удаление пропусков"
   ]
  },
  {
   "cell_type": "markdown",
   "id": "dc14b360",
   "metadata": {
    "id": "cd84967c"
   },
   "source": [
    "Выведем количество пропущенных значений для каждого столбца:"
   ]
  },
  {
   "cell_type": "code",
   "execution_count": 4,
   "id": "9fd6ded9",
   "metadata": {
    "id": "7f9b2309",
    "outputId": "81f4d817-781c-465c-ed15-91ce4446810d"
   },
   "outputs": [
    {
     "data": {
      "text/plain": [
       "children               0\n",
       "days_employed       2174\n",
       "dob_years              0\n",
       "education              0\n",
       "education_id           0\n",
       "family_status          0\n",
       "family_status_id       0\n",
       "gender                 0\n",
       "income_type            0\n",
       "debt                   0\n",
       "total_income        2174\n",
       "purpose                0\n",
       "dtype: int64"
      ]
     },
     "execution_count": 4,
     "metadata": {},
     "output_type": "execute_result"
    }
   ],
   "source": [
    "data.isna().sum()"
   ]
  },
  {
   "cell_type": "markdown",
   "id": "b63bb608",
   "metadata": {
    "id": "db86e27b"
   },
   "source": [
    "Заполним пропуски в столбце `total_income` — данные о доходах. На сумму дохода сильнее всего влияет тип занятости, поэтому заполнить пропуски в этом столбце нужно медианным значением по каждому типу из столбца `income_type`. Например, у человека с типом занятости `сотрудник` пропуск в столбце `total_income` должен быть заполнен медианным доходом среди всех записей с тем же типом."
   ]
  },
  {
   "cell_type": "code",
   "execution_count": 5,
   "id": "ed2785b0",
   "metadata": {
    "id": "42006a93"
   },
   "outputs": [],
   "source": [
    "for t in data['income_type'].unique():\n",
    "    data.loc[(data['income_type'] == t) & (data['total_income'].isna()), 'total_income'] = \\\n",
    "    data.loc[(data['income_type'] == t), 'total_income'].median()"
   ]
  },
  {
   "cell_type": "markdown",
   "id": "5f71c57c",
   "metadata": {
    "id": "89da5ece"
   },
   "source": [
    "### Обработка аномальных значений"
   ]
  },
  {
   "cell_type": "markdown",
   "id": "4fe8146e",
   "metadata": {
    "id": "57964554"
   },
   "source": [
    "В данных могут встречаться артефакты (аномалии) — значения, которые не отражают действительность и появились по какой-то ошибке. таким артефактом будет отрицательное количество дней трудового стажа в столбце `days_employed`. Обработаем значения в этом столбце: заменим все отрицательные значения положительными с помощью метода `abs()`."
   ]
  },
  {
   "cell_type": "code",
   "execution_count": 6,
   "id": "c32434d5",
   "metadata": {
    "id": "f6f055bf"
   },
   "outputs": [],
   "source": [
    "data['days_employed'] = data['days_employed'].abs()"
   ]
  },
  {
   "cell_type": "markdown",
   "id": "8e95882d",
   "metadata": {
    "id": "6107dd2f"
   },
   "source": [
    "Для каждого типа занятости выведем медианное значение трудового стажа `days_employed` в днях."
   ]
  },
  {
   "cell_type": "code",
   "execution_count": 7,
   "id": "ec45ae4b",
   "metadata": {
    "id": "85a5faf6",
    "outputId": "801ef80e-522b-4668-f34e-565af7432bcf"
   },
   "outputs": [
    {
     "data": {
      "text/plain": [
       "income_type\n",
       "безработный        366413.652744\n",
       "в декрете            3296.759962\n",
       "госслужащий          2689.368353\n",
       "компаньон            1547.382223\n",
       "пенсионер          365213.306266\n",
       "предприниматель       520.848083\n",
       "сотрудник            1574.202821\n",
       "студент               578.751554\n",
       "Name: days_employed, dtype: float64"
      ]
     },
     "execution_count": 7,
     "metadata": {},
     "output_type": "execute_result"
    }
   ],
   "source": [
    "data.groupby('income_type')['days_employed'].agg('median')"
   ]
  },
  {
   "cell_type": "markdown",
   "id": "ed9ef510",
   "metadata": {
    "id": "38d1a030"
   },
   "source": [
    "У двух типов (безработные и пенсионеры) наблюдаются аномально большие значения. Исправить такие значения сложно, поэтому оставим их как есть. Тем более этот столбец не понадобится нам для исследования."
   ]
  },
  {
   "cell_type": "markdown",
   "id": "1bbcc745",
   "metadata": {
    "id": "d8a9f147"
   },
   "source": [
    "Выведем перечень уникальных значений столбца `children`."
   ]
  },
  {
   "cell_type": "code",
   "execution_count": 8,
   "id": "5db37f7b",
   "metadata": {
    "id": "ef5056eb",
    "outputId": "6975b15c-7f95-4697-d16d-a0c79b657b03"
   },
   "outputs": [
    {
     "data": {
      "text/plain": [
       "array([ 1,  0,  3,  2, -1,  4, 20,  5])"
      ]
     },
     "execution_count": 8,
     "metadata": {},
     "output_type": "execute_result"
    }
   ],
   "source": [
    "data['children'].unique()"
   ]
  },
  {
   "cell_type": "markdown",
   "id": "a0d7597e",
   "metadata": {
    "id": "40b9ebf2"
   },
   "source": [
    "В столбце `children` есть два аномальных значения. Удалим строки, в которых встречаются такие аномальные значения из датафрейма `data`."
   ]
  },
  {
   "cell_type": "code",
   "execution_count": 9,
   "id": "589bd152",
   "metadata": {
    "id": "3ff9801d"
   },
   "outputs": [],
   "source": [
    "data = data[(data['children'] != -1) & (data['children'] != 20)]"
   ]
  },
  {
   "cell_type": "markdown",
   "id": "a8dc6ea4",
   "metadata": {
    "id": "bbc4d0ce"
   },
   "source": [
    "Ещё раз выведем перечень уникальных значений столбца `children`, чтобы убедиться, что артефакты удалены."
   ]
  },
  {
   "cell_type": "code",
   "execution_count": 10,
   "id": "0d608cea",
   "metadata": {
    "id": "ad4fa8b7",
    "outputId": "b2097101-d49d-44d9-901b-32a65c9463d1"
   },
   "outputs": [
    {
     "data": {
      "text/plain": [
       "array([1, 0, 3, 2, 4, 5])"
      ]
     },
     "execution_count": 10,
     "metadata": {},
     "output_type": "execute_result"
    }
   ],
   "source": [
    "data['children'].unique()"
   ]
  },
  {
   "cell_type": "markdown",
   "id": "4043bbb4",
   "metadata": {
    "id": "f4ea573f"
   },
   "source": [
    "Заполним пропуски в столбце `days_employed` медианными значениями по каждого типа занятости `income_type`."
   ]
  },
  {
   "cell_type": "code",
   "execution_count": 11,
   "id": "037be1fd",
   "metadata": {
    "id": "af6b1a7e"
   },
   "outputs": [],
   "source": [
    "for t in data['income_type'].unique():\n",
    "    data.loc[(data['income_type'] == t) & (data['days_employed'].isna()), 'days_employed'] = \\\n",
    "    data.loc[(data['income_type'] == t), 'days_employed'].median()"
   ]
  },
  {
   "cell_type": "markdown",
   "id": "56a5d161",
   "metadata": {
    "id": "2753f40d"
   },
   "source": [
    "Убедимся, что все пропуски заполнены."
   ]
  },
  {
   "cell_type": "code",
   "execution_count": 12,
   "id": "a48946e0",
   "metadata": {
    "id": "55f78bc2",
    "outputId": "8da1e4e1-358e-4e87-98c9-f261bce0a7b2"
   },
   "outputs": [
    {
     "data": {
      "text/plain": [
       "children            0\n",
       "days_employed       0\n",
       "dob_years           0\n",
       "education           0\n",
       "education_id        0\n",
       "family_status       0\n",
       "family_status_id    0\n",
       "gender              0\n",
       "income_type         0\n",
       "debt                0\n",
       "total_income        0\n",
       "purpose             0\n",
       "dtype: int64"
      ]
     },
     "execution_count": 12,
     "metadata": {},
     "output_type": "execute_result"
    }
   ],
   "source": [
    "data.isna().sum()"
   ]
  },
  {
   "cell_type": "markdown",
   "id": "a5d8c80b",
   "metadata": {
    "id": "ddc81e43"
   },
   "source": [
    "### Изменение типов данных"
   ]
  },
  {
   "cell_type": "markdown",
   "id": "3eaa3519",
   "metadata": {
    "id": "42d19d24"
   },
   "source": [
    "Заменим вещественный тип данных в столбце `total_income` на целочисленный с помощью метода `astype()`."
   ]
  },
  {
   "cell_type": "code",
   "execution_count": 13,
   "id": "c06900e0",
   "metadata": {
    "id": "920b65ad"
   },
   "outputs": [],
   "source": [
    "data['total_income'] = data['total_income'].astype(int)"
   ]
  },
  {
   "cell_type": "markdown",
   "id": "717e6e49",
   "metadata": {
    "id": "80c420ba"
   },
   "source": [
    "### Обработка дубликатов"
   ]
  },
  {
   "cell_type": "markdown",
   "id": "8a442d66",
   "metadata": {},
   "source": [
    "Обработаем неявные дубликаты в столбце `education`. В этом столбце есть одни и те же значения, но записанные по-разному: с использованием заглавных и строчных букв. Приведём их к нижнему регистру, проверим остальные столбцы."
   ]
  },
  {
   "cell_type": "code",
   "execution_count": 14,
   "id": "1caf7780",
   "metadata": {},
   "outputs": [],
   "source": [
    "data['education'] = data['education'].str.lower()"
   ]
  },
  {
   "cell_type": "markdown",
   "id": "52c558cd",
   "metadata": {
    "id": "dc587695"
   },
   "source": [
    "Выведем на экран количество строк-дубликатов в данных. Если такие строки присутствуют, удалим их."
   ]
  },
  {
   "cell_type": "code",
   "execution_count": 15,
   "id": "175316c7",
   "metadata": {
    "id": "3ee445e4",
    "outputId": "9684deba-1934-42d1-99e1-cda61740f822"
   },
   "outputs": [
    {
     "data": {
      "text/plain": [
       "71"
      ]
     },
     "execution_count": 15,
     "metadata": {},
     "output_type": "execute_result"
    }
   ],
   "source": [
    "data.duplicated().sum()"
   ]
  },
  {
   "cell_type": "code",
   "execution_count": 16,
   "id": "aa66bafe",
   "metadata": {
    "id": "8575fe05"
   },
   "outputs": [],
   "source": [
    "data = data.drop_duplicates()"
   ]
  },
  {
   "cell_type": "markdown",
   "id": "296ccd73",
   "metadata": {
    "id": "9904cf55"
   },
   "source": [
    "### Категоризация данных"
   ]
  },
  {
   "cell_type": "markdown",
   "id": "e82eee3d",
   "metadata": {
    "id": "72fcc8a2"
   },
   "source": [
    "На основании диапазонов, указанных ниже, создадим в датафрейме `data` столбец `total_income_category` с категориями:\n",
    "\n",
    "- 0–30000 — `'E'`;\n",
    "- 30001–50000 — `'D'`;\n",
    "- 50001–200000 — `'C'`;\n",
    "- 200001–1000000 — `'B'`;\n",
    "- 1000001 и выше — `'A'`.\n"
   ]
  },
  {
   "cell_type": "code",
   "execution_count": 17,
   "id": "ea2f387f",
   "metadata": {
    "id": "e1771346"
   },
   "outputs": [],
   "source": [
    "def categorize_income(income):\n",
    "    try:\n",
    "        if 0 <= income <= 30000:\n",
    "            return 'E'\n",
    "        elif 30001 <= income <= 50000:\n",
    "            return 'D'\n",
    "        elif 50001 <= income <= 200000:\n",
    "            return 'C'\n",
    "        elif 200001 <= income <= 1000000:\n",
    "            return 'B'\n",
    "        elif income >= 1000001:\n",
    "            return 'A'\n",
    "    except:\n",
    "        pass"
   ]
  },
  {
   "cell_type": "code",
   "execution_count": 18,
   "id": "939ec8a9",
   "metadata": {
    "id": "d5f3586d"
   },
   "outputs": [],
   "source": [
    "data['total_income_category'] = data['total_income'].apply(categorize_income)"
   ]
  },
  {
   "cell_type": "markdown",
   "id": "22bb42aa",
   "metadata": {
    "id": "dde49b5c"
   },
   "source": [
    "Выведем на экран перечень уникальных целей взятия кредита из столбца `purpose`."
   ]
  },
  {
   "cell_type": "code",
   "execution_count": 19,
   "id": "e7d47792",
   "metadata": {
    "id": "f67ce9b3",
    "outputId": "673c12d9-7d7e-4ae0-9812-c622c89dd244"
   },
   "outputs": [
    {
     "data": {
      "text/plain": [
       "array(['покупка жилья', 'приобретение автомобиля',\n",
       "       'дополнительное образование', 'сыграть свадьбу',\n",
       "       'операции с жильем', 'образование', 'на проведение свадьбы',\n",
       "       'покупка жилья для семьи', 'покупка недвижимости',\n",
       "       'покупка коммерческой недвижимости', 'покупка жилой недвижимости',\n",
       "       'строительство собственной недвижимости', 'недвижимость',\n",
       "       'строительство недвижимости', 'на покупку подержанного автомобиля',\n",
       "       'на покупку своего автомобиля',\n",
       "       'операции с коммерческой недвижимостью',\n",
       "       'строительство жилой недвижимости', 'жилье',\n",
       "       'операции со своей недвижимостью', 'автомобили',\n",
       "       'заняться образованием', 'сделка с подержанным автомобилем',\n",
       "       'получение образования', 'автомобиль', 'свадьба',\n",
       "       'получение дополнительного образования', 'покупка своего жилья',\n",
       "       'операции с недвижимостью', 'получение высшего образования',\n",
       "       'свой автомобиль', 'сделка с автомобилем',\n",
       "       'профильное образование', 'высшее образование',\n",
       "       'покупка жилья для сдачи', 'на покупку автомобиля', 'ремонт жилью',\n",
       "       'заняться высшим образованием'], dtype=object)"
      ]
     },
     "execution_count": 19,
     "metadata": {},
     "output_type": "execute_result"
    }
   ],
   "source": [
    "data['purpose'].unique()"
   ]
  },
  {
   "cell_type": "markdown",
   "id": "477e29c3",
   "metadata": {
    "id": "85d0aef0"
   },
   "source": [
    "Создадим функцию, которая на основании данных из столбца `purpose` сформирует новый столбец `purpose_category`, в который войдут следующие категории:**\n",
    "\n",
    "- `'операции с автомобилем'`,\n",
    "- `'операции с недвижимостью'`,\n",
    "- `'проведение свадьбы'`,\n",
    "- `'получение образования'`."
   ]
  },
  {
   "cell_type": "code",
   "execution_count": 20,
   "id": "d658095a",
   "metadata": {
    "id": "e149fab4"
   },
   "outputs": [],
   "source": [
    "def categorize_purpose(row):\n",
    "    try:\n",
    "        if 'автом' in row:\n",
    "            return 'операции с автомобилем'\n",
    "        elif 'жил' in row or 'недвиж' in row:\n",
    "            return 'операции с недвижимостью'\n",
    "        elif 'свад' in row:\n",
    "            return 'проведение свадьбы'\n",
    "        elif 'образов' in row:\n",
    "            return 'получение образования'\n",
    "    except:\n",
    "        return 'нет категории'"
   ]
  },
  {
   "cell_type": "code",
   "execution_count": 21,
   "id": "f9668fd9",
   "metadata": {
    "id": "bf36e69b"
   },
   "outputs": [
    {
     "data": {
      "text/html": [
       "<div>\n",
       "<style scoped>\n",
       "    .dataframe tbody tr th:only-of-type {\n",
       "        vertical-align: middle;\n",
       "    }\n",
       "\n",
       "    .dataframe tbody tr th {\n",
       "        vertical-align: top;\n",
       "    }\n",
       "\n",
       "    .dataframe thead th {\n",
       "        text-align: right;\n",
       "    }\n",
       "</style>\n",
       "<table border=\"1\" class=\"dataframe\">\n",
       "  <thead>\n",
       "    <tr style=\"text-align: right;\">\n",
       "      <th></th>\n",
       "      <th>children</th>\n",
       "      <th>days_employed</th>\n",
       "      <th>dob_years</th>\n",
       "      <th>education</th>\n",
       "      <th>education_id</th>\n",
       "      <th>family_status</th>\n",
       "      <th>family_status_id</th>\n",
       "      <th>gender</th>\n",
       "      <th>income_type</th>\n",
       "      <th>debt</th>\n",
       "      <th>total_income</th>\n",
       "      <th>purpose</th>\n",
       "      <th>total_income_category</th>\n",
       "      <th>purpose_category</th>\n",
       "    </tr>\n",
       "  </thead>\n",
       "  <tbody>\n",
       "    <tr>\n",
       "      <th>0</th>\n",
       "      <td>1</td>\n",
       "      <td>8437.673028</td>\n",
       "      <td>42</td>\n",
       "      <td>высшее</td>\n",
       "      <td>0</td>\n",
       "      <td>женат / замужем</td>\n",
       "      <td>0</td>\n",
       "      <td>F</td>\n",
       "      <td>сотрудник</td>\n",
       "      <td>0</td>\n",
       "      <td>253875</td>\n",
       "      <td>покупка жилья</td>\n",
       "      <td>B</td>\n",
       "      <td>операции с недвижимостью</td>\n",
       "    </tr>\n",
       "    <tr>\n",
       "      <th>1</th>\n",
       "      <td>1</td>\n",
       "      <td>4024.803754</td>\n",
       "      <td>36</td>\n",
       "      <td>среднее</td>\n",
       "      <td>1</td>\n",
       "      <td>женат / замужем</td>\n",
       "      <td>0</td>\n",
       "      <td>F</td>\n",
       "      <td>сотрудник</td>\n",
       "      <td>0</td>\n",
       "      <td>112080</td>\n",
       "      <td>приобретение автомобиля</td>\n",
       "      <td>C</td>\n",
       "      <td>операции с автомобилем</td>\n",
       "    </tr>\n",
       "    <tr>\n",
       "      <th>2</th>\n",
       "      <td>0</td>\n",
       "      <td>5623.422610</td>\n",
       "      <td>33</td>\n",
       "      <td>среднее</td>\n",
       "      <td>1</td>\n",
       "      <td>женат / замужем</td>\n",
       "      <td>0</td>\n",
       "      <td>M</td>\n",
       "      <td>сотрудник</td>\n",
       "      <td>0</td>\n",
       "      <td>145885</td>\n",
       "      <td>покупка жилья</td>\n",
       "      <td>C</td>\n",
       "      <td>операции с недвижимостью</td>\n",
       "    </tr>\n",
       "    <tr>\n",
       "      <th>3</th>\n",
       "      <td>3</td>\n",
       "      <td>4124.747207</td>\n",
       "      <td>32</td>\n",
       "      <td>среднее</td>\n",
       "      <td>1</td>\n",
       "      <td>женат / замужем</td>\n",
       "      <td>0</td>\n",
       "      <td>M</td>\n",
       "      <td>сотрудник</td>\n",
       "      <td>0</td>\n",
       "      <td>267628</td>\n",
       "      <td>дополнительное образование</td>\n",
       "      <td>B</td>\n",
       "      <td>получение образования</td>\n",
       "    </tr>\n",
       "    <tr>\n",
       "      <th>4</th>\n",
       "      <td>0</td>\n",
       "      <td>340266.072047</td>\n",
       "      <td>53</td>\n",
       "      <td>среднее</td>\n",
       "      <td>1</td>\n",
       "      <td>гражданский брак</td>\n",
       "      <td>1</td>\n",
       "      <td>F</td>\n",
       "      <td>пенсионер</td>\n",
       "      <td>0</td>\n",
       "      <td>158616</td>\n",
       "      <td>сыграть свадьбу</td>\n",
       "      <td>C</td>\n",
       "      <td>проведение свадьбы</td>\n",
       "    </tr>\n",
       "  </tbody>\n",
       "</table>\n",
       "</div>"
      ],
      "text/plain": [
       "   children  days_employed  dob_years education  education_id  \\\n",
       "0         1    8437.673028         42    высшее             0   \n",
       "1         1    4024.803754         36   среднее             1   \n",
       "2         0    5623.422610         33   среднее             1   \n",
       "3         3    4124.747207         32   среднее             1   \n",
       "4         0  340266.072047         53   среднее             1   \n",
       "\n",
       "      family_status  family_status_id gender income_type  debt  total_income  \\\n",
       "0   женат / замужем                 0      F   сотрудник     0        253875   \n",
       "1   женат / замужем                 0      F   сотрудник     0        112080   \n",
       "2   женат / замужем                 0      M   сотрудник     0        145885   \n",
       "3   женат / замужем                 0      M   сотрудник     0        267628   \n",
       "4  гражданский брак                 1      F   пенсионер     0        158616   \n",
       "\n",
       "                      purpose total_income_category          purpose_category  \n",
       "0               покупка жилья                     B  операции с недвижимостью  \n",
       "1     приобретение автомобиля                     C    операции с автомобилем  \n",
       "2               покупка жилья                     C  операции с недвижимостью  \n",
       "3  дополнительное образование                     B     получение образования  \n",
       "4             сыграть свадьбу                     C        проведение свадьбы  "
      ]
     },
     "execution_count": 21,
     "metadata": {},
     "output_type": "execute_result"
    }
   ],
   "source": [
    "data['purpose_category'] = data['purpose'].apply(categorize_purpose)\n",
    "data.head()"
   ]
  },
  {
   "cell_type": "markdown",
   "id": "808763d2",
   "metadata": {
    "id": "09b242bf"
   },
   "source": [
    "### Шаг 3. Исследуем данные и ответим на вопросы"
   ]
  },
  {
   "cell_type": "markdown",
   "id": "02650ee7",
   "metadata": {
    "id": "c5d66278"
   },
   "source": [
    "#### 3.1 Есть ли зависимость между количеством детей и возвратом кредита в срок?"
   ]
  },
  {
   "cell_type": "code",
   "execution_count": 22,
   "id": "9ba5aaaa",
   "metadata": {
    "id": "2cacfc4a"
   },
   "outputs": [
    {
     "data": {
      "text/html": [
       "<div>\n",
       "<style scoped>\n",
       "    .dataframe tbody tr th:only-of-type {\n",
       "        vertical-align: middle;\n",
       "    }\n",
       "\n",
       "    .dataframe tbody tr th {\n",
       "        vertical-align: top;\n",
       "    }\n",
       "\n",
       "    .dataframe thead th {\n",
       "        text-align: right;\n",
       "    }\n",
       "</style>\n",
       "<table border=\"1\" class=\"dataframe\">\n",
       "  <thead>\n",
       "    <tr style=\"text-align: right;\">\n",
       "      <th></th>\n",
       "      <th>children</th>\n",
       "      <th>children_dolg</th>\n",
       "      <th>total_debt</th>\n",
       "      <th>group_mass</th>\n",
       "    </tr>\n",
       "  </thead>\n",
       "  <tbody>\n",
       "    <tr>\n",
       "      <th>4</th>\n",
       "      <td>41</td>\n",
       "      <td>4</td>\n",
       "      <td>0.097561</td>\n",
       "      <td>0.001922</td>\n",
       "    </tr>\n",
       "    <tr>\n",
       "      <th>2</th>\n",
       "      <td>2052</td>\n",
       "      <td>194</td>\n",
       "      <td>0.094542</td>\n",
       "      <td>0.096198</td>\n",
       "    </tr>\n",
       "    <tr>\n",
       "      <th>1</th>\n",
       "      <td>4808</td>\n",
       "      <td>444</td>\n",
       "      <td>0.092346</td>\n",
       "      <td>0.225400</td>\n",
       "    </tr>\n",
       "    <tr>\n",
       "      <th>3</th>\n",
       "      <td>330</td>\n",
       "      <td>27</td>\n",
       "      <td>0.081818</td>\n",
       "      <td>0.015470</td>\n",
       "    </tr>\n",
       "    <tr>\n",
       "      <th>0</th>\n",
       "      <td>14091</td>\n",
       "      <td>1063</td>\n",
       "      <td>0.075438</td>\n",
       "      <td>0.660588</td>\n",
       "    </tr>\n",
       "    <tr>\n",
       "      <th>5</th>\n",
       "      <td>9</td>\n",
       "      <td>0</td>\n",
       "      <td>0.000000</td>\n",
       "      <td>0.000422</td>\n",
       "    </tr>\n",
       "  </tbody>\n",
       "</table>\n",
       "</div>"
      ],
      "text/plain": [
       "   children  children_dolg  total_debt  group_mass\n",
       "4        41              4    0.097561    0.001922\n",
       "2      2052            194    0.094542    0.096198\n",
       "1      4808            444    0.092346    0.225400\n",
       "3       330             27    0.081818    0.015470\n",
       "0     14091           1063    0.075438    0.660588\n",
       "5         9              0    0.000000    0.000422"
      ]
     },
     "execution_count": 22,
     "metadata": {},
     "output_type": "execute_result"
    }
   ],
   "source": [
    "children_total_debt = data['children'].value_counts().to_frame()                                           #суммарное количество заёмщиков по количеству детей\n",
    "children_total_debt['children_dolg'] = data.groupby('children')['debt'].sum()                              #количество просрочек платежей в каждой группе\n",
    "children_total_debt['total_debt'] = children_total_debt['children_dolg'] / children_total_debt['children'] #процент просрочек платежей\n",
    "children_total_debt['group_mass'] = children_total_debt['children'] / data['children'].count()             #удельный вес группы\n",
    "children_total_debt.sort_values(by='total_debt', ascending=true)\n"
   ]
  },
  {
   "cell_type": "markdown",
   "id": "05b9411b",
   "metadata": {},
   "source": [
    "Альтернативно:"
   ]
  },
  {
   "cell_type": "code",
   "execution_count": 23,
   "id": "191fa4ed",
   "metadata": {},
   "outputs": [
    {
     "data": {
      "text/html": [
       "<style  type=\"text/css\" >\n",
       "#T_b1be6_row0_col0,#T_b1be6_row0_col1,#T_b1be6_row4_col2{\n",
       "            background-color:  #08306b;\n",
       "            color:  #f1f1f1;\n",
       "        }#T_b1be6_row0_col2{\n",
       "            background-color:  #1c6bb0;\n",
       "            color:  #f1f1f1;\n",
       "        }#T_b1be6_row1_col0{\n",
       "            background-color:  #a9cfe5;\n",
       "            color:  #000000;\n",
       "        }#T_b1be6_row1_col1{\n",
       "            background-color:  #8dc1dd;\n",
       "            color:  #000000;\n",
       "        }#T_b1be6_row1_col2{\n",
       "            background-color:  #083d7f;\n",
       "            color:  #f1f1f1;\n",
       "        }#T_b1be6_row2_col0{\n",
       "            background-color:  #dae8f6;\n",
       "            color:  #000000;\n",
       "        }#T_b1be6_row2_col1{\n",
       "            background-color:  #d3e4f3;\n",
       "            color:  #000000;\n",
       "        }#T_b1be6_row2_col2{\n",
       "            background-color:  #083776;\n",
       "            color:  #f1f1f1;\n",
       "        }#T_b1be6_row3_col0{\n",
       "            background-color:  #f3f8fe;\n",
       "            color:  #000000;\n",
       "        }#T_b1be6_row3_col1{\n",
       "            background-color:  #f2f8fd;\n",
       "            color:  #000000;\n",
       "        }#T_b1be6_row3_col2{\n",
       "            background-color:  #0f5aa3;\n",
       "            color:  #f1f1f1;\n",
       "        }#T_b1be6_row4_col0,#T_b1be6_row4_col1,#T_b1be6_row5_col0,#T_b1be6_row5_col1,#T_b1be6_row5_col2{\n",
       "            background-color:  #f7fbff;\n",
       "            color:  #000000;\n",
       "        }</style><table id=\"T_b1be6_\" ><thead>    <tr>        <th class=\"blank level0\" ></th>        <th class=\"col_heading level0 col0\" >Всего кредитополучателей</th>        <th class=\"col_heading level0 col1\" >Всего должников</th>        <th class=\"col_heading level0 col2\" >Доля должников</th>    </tr>    <tr>        <th class=\"index_name level0\" >children</th>        <th class=\"blank\" ></th>        <th class=\"blank\" ></th>        <th class=\"blank\" ></th>    </tr></thead><tbody>\n",
       "                <tr>\n",
       "                        <th id=\"T_b1be6_level0_row0\" class=\"row_heading level0 row0\" >0</th>\n",
       "                        <td id=\"T_b1be6_row0_col0\" class=\"data row0 col0\" >14091.000</td>\n",
       "                        <td id=\"T_b1be6_row0_col1\" class=\"data row0 col1\" >1063.000</td>\n",
       "                        <td id=\"T_b1be6_row0_col2\" class=\"data row0 col2\" >0.075</td>\n",
       "            </tr>\n",
       "            <tr>\n",
       "                        <th id=\"T_b1be6_level0_row1\" class=\"row_heading level0 row1\" >1</th>\n",
       "                        <td id=\"T_b1be6_row1_col0\" class=\"data row1 col0\" >4808.000</td>\n",
       "                        <td id=\"T_b1be6_row1_col1\" class=\"data row1 col1\" >444.000</td>\n",
       "                        <td id=\"T_b1be6_row1_col2\" class=\"data row1 col2\" >0.092</td>\n",
       "            </tr>\n",
       "            <tr>\n",
       "                        <th id=\"T_b1be6_level0_row2\" class=\"row_heading level0 row2\" >2</th>\n",
       "                        <td id=\"T_b1be6_row2_col0\" class=\"data row2 col0\" >2052.000</td>\n",
       "                        <td id=\"T_b1be6_row2_col1\" class=\"data row2 col1\" >194.000</td>\n",
       "                        <td id=\"T_b1be6_row2_col2\" class=\"data row2 col2\" >0.095</td>\n",
       "            </tr>\n",
       "            <tr>\n",
       "                        <th id=\"T_b1be6_level0_row3\" class=\"row_heading level0 row3\" >3</th>\n",
       "                        <td id=\"T_b1be6_row3_col0\" class=\"data row3 col0\" >330.000</td>\n",
       "                        <td id=\"T_b1be6_row3_col1\" class=\"data row3 col1\" >27.000</td>\n",
       "                        <td id=\"T_b1be6_row3_col2\" class=\"data row3 col2\" >0.082</td>\n",
       "            </tr>\n",
       "            <tr>\n",
       "                        <th id=\"T_b1be6_level0_row4\" class=\"row_heading level0 row4\" >4</th>\n",
       "                        <td id=\"T_b1be6_row4_col0\" class=\"data row4 col0\" >41.000</td>\n",
       "                        <td id=\"T_b1be6_row4_col1\" class=\"data row4 col1\" >4.000</td>\n",
       "                        <td id=\"T_b1be6_row4_col2\" class=\"data row4 col2\" >0.098</td>\n",
       "            </tr>\n",
       "            <tr>\n",
       "                        <th id=\"T_b1be6_level0_row5\" class=\"row_heading level0 row5\" >5</th>\n",
       "                        <td id=\"T_b1be6_row5_col0\" class=\"data row5 col0\" >9.000</td>\n",
       "                        <td id=\"T_b1be6_row5_col1\" class=\"data row5 col1\" >0.000</td>\n",
       "                        <td id=\"T_b1be6_row5_col2\" class=\"data row5 col2\" >0.000</td>\n",
       "            </tr>\n",
       "    </tbody></table>"
      ],
      "text/plain": [
       "<pandas.io.formats.style.Styler at 0x7fe9d8893190>"
      ]
     },
     "metadata": {},
     "output_type": "display_data"
    }
   ],
   "source": [
    "# Создаем копию датасета, что бы не работать с исходным\n",
    "temp = data.copy()\n",
    "# Напишем функцию, так как все задачи аналогичны\n",
    "def que(category):\n",
    "    data_temp = temp.pivot_table(index=category, values='debt', aggfunc=['count', 'sum', 'mean'])\n",
    "    data_temp.columns = ['Всего кредитополучателей', 'Всего должников', 'Доля должников']\n",
    "    # Оформим таблицу цветным градиентом, но можно ее вывести и просто display(data_temp)\n",
    "    display(data_temp.style.format(\"{:.3f}\").background_gradient(cmap='Blues', axis=0))\n",
    "    \n",
    "que('children')"
   ]
  },
  {
   "cell_type": "markdown",
   "id": "1320d460",
   "metadata": {
    "id": "3a6b99ec"
   },
   "source": [
    "**Вывод:** По результату анализа данных можно можно сказать, что существует зависимость между количеством детей и возвратом кредита в срок.\n",
    "Максимальный процент просрочек (9,2%-9,8%) наблюдается в группах \"4 детей\", \"2 детей\", \"1 ребёнок\".\n",
    "Бездетные допускают гораздо меньше просрочек (7,5%), особенно если учесть массовую долю этой группы (66,1% от общего количества заёмщиков).\n",
    "Данными по группе \"5 детей\" можно пренебречь по причине малой выборки в датафрейме (удельный вес группы 0,04%). "
   ]
  },
  {
   "cell_type": "markdown",
   "id": "7a2149ec",
   "metadata": {
    "id": "97be82ca"
   },
   "source": [
    "#### 3.2 Есть ли зависимость между семейным положением и возвратом кредита в срок?"
   ]
  },
  {
   "cell_type": "code",
   "execution_count": 24,
   "id": "514694a3",
   "metadata": {
    "id": "dc3f7ee8"
   },
   "outputs": [
    {
     "data": {
      "text/html": [
       "<div>\n",
       "<style scoped>\n",
       "    .dataframe tbody tr th:only-of-type {\n",
       "        vertical-align: middle;\n",
       "    }\n",
       "\n",
       "    .dataframe tbody tr th {\n",
       "        vertical-align: top;\n",
       "    }\n",
       "\n",
       "    .dataframe thead th {\n",
       "        text-align: right;\n",
       "    }\n",
       "</style>\n",
       "<table border=\"1\" class=\"dataframe\">\n",
       "  <thead>\n",
       "    <tr style=\"text-align: right;\">\n",
       "      <th></th>\n",
       "      <th>family_status</th>\n",
       "      <th>family_dolg</th>\n",
       "      <th>total_debt</th>\n",
       "      <th>group_mass</th>\n",
       "    </tr>\n",
       "  </thead>\n",
       "  <tbody>\n",
       "    <tr>\n",
       "      <th>Не женат / не замужем</th>\n",
       "      <td>2796</td>\n",
       "      <td>273</td>\n",
       "      <td>0.097639</td>\n",
       "      <td>0.131077</td>\n",
       "    </tr>\n",
       "    <tr>\n",
       "      <th>гражданский брак</th>\n",
       "      <td>4134</td>\n",
       "      <td>385</td>\n",
       "      <td>0.093130</td>\n",
       "      <td>0.193802</td>\n",
       "    </tr>\n",
       "    <tr>\n",
       "      <th>женат / замужем</th>\n",
       "      <td>12261</td>\n",
       "      <td>927</td>\n",
       "      <td>0.075606</td>\n",
       "      <td>0.574797</td>\n",
       "    </tr>\n",
       "    <tr>\n",
       "      <th>в разводе</th>\n",
       "      <td>1189</td>\n",
       "      <td>84</td>\n",
       "      <td>0.070648</td>\n",
       "      <td>0.055740</td>\n",
       "    </tr>\n",
       "    <tr>\n",
       "      <th>вдовец / вдова</th>\n",
       "      <td>951</td>\n",
       "      <td>63</td>\n",
       "      <td>0.066246</td>\n",
       "      <td>0.044583</td>\n",
       "    </tr>\n",
       "  </tbody>\n",
       "</table>\n",
       "</div>"
      ],
      "text/plain": [
       "                       family_status  family_dolg  total_debt  group_mass\n",
       "Не женат / не замужем           2796          273    0.097639    0.131077\n",
       "гражданский брак                4134          385    0.093130    0.193802\n",
       "женат / замужем                12261          927    0.075606    0.574797\n",
       "в разводе                       1189           84    0.070648    0.055740\n",
       "вдовец / вдова                   951           63    0.066246    0.044583"
      ]
     },
     "execution_count": 24,
     "metadata": {},
     "output_type": "execute_result"
    }
   ],
   "source": [
    "family_total_debt = data['family_status'].value_counts().to_frame()                                     #суммарное количество заёмщиков по семейному положению\n",
    "family_total_debt['family_dolg'] = data.groupby('family_status')['debt'].sum()                          #количество просрочек платежей в каждой группе\n",
    "family_total_debt['total_debt'] = family_total_debt['family_dolg'] / family_total_debt['family_status'] #процент просрочек платежей\n",
    "family_total_debt['group_mass'] = family_total_debt['family_status'] / data['family_status'].count()    #удельный вес группы\n",
    "family_total_debt.sort_values(by='total_debt', ascending=true)"
   ]
  },
  {
   "cell_type": "markdown",
   "id": "f77d12f2",
   "metadata": {
    "id": "1cef7837"
   },
   "source": [
    "**Вывод:** По результату анализа данных можно сказать, что больше всего просрочек делают люди вне брака или состоящие в гражданском браке (9,3-9,7%). \n",
    "Более ответственно к выплатам подходят вдовцы и люди в разводе (6,6%-7,1% просрочек).\n",
    "Состоящие в браке располагаются в середине \"рейтинга\".\n",
    "Также по данной выборке можно сделать косвенное предположение, что своевременные выплаты зависят от возраста заёмщика: самые ответственные, весьма вероятно, старше среднего возраста (вдовцы/разведены), менее ответственные же наоборот, скорее всего, более молодые (не в браке/сожительствуют).\n"
   ]
  },
  {
   "cell_type": "markdown",
   "id": "5718008d",
   "metadata": {
    "id": "1e8b2fca"
   },
   "source": [
    "#### 3.3 Есть ли зависимость между уровнем дохода и возвратом кредита в срок?"
   ]
  },
  {
   "cell_type": "code",
   "execution_count": 25,
   "id": "7beb96fb",
   "metadata": {
    "id": "cd7e3720"
   },
   "outputs": [
    {
     "data": {
      "text/html": [
       "<div>\n",
       "<style scoped>\n",
       "    .dataframe tbody tr th:only-of-type {\n",
       "        vertical-align: middle;\n",
       "    }\n",
       "\n",
       "    .dataframe tbody tr th {\n",
       "        vertical-align: top;\n",
       "    }\n",
       "\n",
       "    .dataframe thead th {\n",
       "        text-align: right;\n",
       "    }\n",
       "</style>\n",
       "<table border=\"1\" class=\"dataframe\">\n",
       "  <thead>\n",
       "    <tr style=\"text-align: right;\">\n",
       "      <th></th>\n",
       "      <th>total_income_category</th>\n",
       "      <th>income_dolg</th>\n",
       "      <th>total_debt</th>\n",
       "      <th>group_mass</th>\n",
       "    </tr>\n",
       "  </thead>\n",
       "  <tbody>\n",
       "    <tr>\n",
       "      <th>E</th>\n",
       "      <td>22</td>\n",
       "      <td>2</td>\n",
       "      <td>0.090909</td>\n",
       "      <td>0.001031</td>\n",
       "    </tr>\n",
       "    <tr>\n",
       "      <th>C</th>\n",
       "      <td>15921</td>\n",
       "      <td>1353</td>\n",
       "      <td>0.084982</td>\n",
       "      <td>0.746379</td>\n",
       "    </tr>\n",
       "    <tr>\n",
       "      <th>A</th>\n",
       "      <td>25</td>\n",
       "      <td>2</td>\n",
       "      <td>0.080000</td>\n",
       "      <td>0.001172</td>\n",
       "    </tr>\n",
       "    <tr>\n",
       "      <th>B</th>\n",
       "      <td>5014</td>\n",
       "      <td>354</td>\n",
       "      <td>0.070602</td>\n",
       "      <td>0.235057</td>\n",
       "    </tr>\n",
       "    <tr>\n",
       "      <th>D</th>\n",
       "      <td>349</td>\n",
       "      <td>21</td>\n",
       "      <td>0.060172</td>\n",
       "      <td>0.016361</td>\n",
       "    </tr>\n",
       "  </tbody>\n",
       "</table>\n",
       "</div>"
      ],
      "text/plain": [
       "   total_income_category  income_dolg  total_debt  group_mass\n",
       "E                     22            2    0.090909    0.001031\n",
       "C                  15921         1353    0.084982    0.746379\n",
       "A                     25            2    0.080000    0.001172\n",
       "B                   5014          354    0.070602    0.235057\n",
       "D                    349           21    0.060172    0.016361"
      ]
     },
     "execution_count": 25,
     "metadata": {},
     "output_type": "execute_result"
    }
   ],
   "source": [
    "income_total_debt = data['total_income_category'].value_counts().to_frame()                                          #суммарное количество заёмщиков по уровню дохода\n",
    "income_total_debt['income_dolg'] = data.groupby('total_income_category')['debt'].sum()                               #количество просрочек платежей в каждой группе\n",
    "income_total_debt['total_debt'] = income_total_debt['income_dolg'] / income_total_debt['total_income_category']      #процент просрочек платежей\n",
    "income_total_debt['group_mass'] = income_total_debt['total_income_category'] / data['total_income_category'].count() #удельный вес группы\n",
    "income_total_debt.sort_values(by='total_debt', ascending=true)"
   ]
  },
  {
   "cell_type": "markdown",
   "id": "eef33cf5",
   "metadata": {
    "id": "e8593def"
   },
   "source": [
    "**Вывод:** По результату анализа данных можно сказать, что больше всего просрочек (9,1%) делают люди с самым низким уровнем дохода (что вполне логично). Однако, в то же время самыми ответственными заёмщиками (6,0% просрочек) являются люди с доходами на уровне \"ниже среднего\". Возможно, это обуславливается жёстким ведением семейного бюджета в условиях ограниченной суммы дохода и стабильной возможностью внесения минимального платежа по кредиту. К сожалению, высокий процент просрочек (8,5%) наблюдается в \"средней\" группе. Это можно объяснить предположением о недостаточном контроле семейного бюджета.\n",
    "В то же время необходима оговорка о недостаточной выборке по группам \"А\" и \"Е\": удельный вес обеих групп составляет ~0,01% от общего числа заёмщиков, поэтому данные по ним могут быть искажены."
   ]
  },
  {
   "cell_type": "markdown",
   "id": "0a6a72aa",
   "metadata": {},
   "source": [
    "Альтернативно:"
   ]
  },
  {
   "cell_type": "code",
   "execution_count": 27,
   "id": "5dcefac2",
   "metadata": {},
   "outputs": [
    {
     "data": {
      "text/html": [
       "<style  type=\"text/css\" >\n",
       "#T_89763_row0_col0{\n",
       "            background-color:  #69add5;\n",
       "            color:  #000000;\n",
       "        }#T_89763_row0_col1{\n",
       "            background-color:  #5da5d1;\n",
       "            color:  #000000;\n",
       "        }#T_89763_row0_col2{\n",
       "            background-color:  #58a1cf;\n",
       "            color:  #000000;\n",
       "        }#T_89763_row1_col0,#T_89763_row1_col1,#T_89763_row1_col2{\n",
       "            background-color:  #08306b;\n",
       "            color:  #f1f1f1;\n",
       "        }#T_89763_row2_col0,#T_89763_row2_col1,#T_89763_row2_col2{\n",
       "            background-color:  #f7fbff;\n",
       "            color:  #000000;\n",
       "        }</style><table id=\"T_89763_\" ><thead>    <tr>        <th class=\"blank level0\" ></th>        <th class=\"col_heading level0 col0\" >Всего кредитополучателей</th>        <th class=\"col_heading level0 col1\" >Всего должников</th>        <th class=\"col_heading level0 col2\" >Доля должников</th>    </tr>    <tr>        <th class=\"index_name level0\" >new_category</th>        <th class=\"blank\" ></th>        <th class=\"blank\" ></th>        <th class=\"blank\" ></th>    </tr></thead><tbody>\n",
       "                <tr>\n",
       "                        <th id=\"T_89763_level0_row0\" class=\"row_heading level0 row0\" >(20666.0, 119218.0]</th>\n",
       "                        <td id=\"T_89763_row0_col0\" class=\"data row0 col0\" >7111.000</td>\n",
       "                        <td id=\"T_89763_row0_col1\" class=\"data row0 col1\" >580.000</td>\n",
       "                        <td id=\"T_89763_row0_col2\" class=\"data row0 col2\" >0.082</td>\n",
       "            </tr>\n",
       "            <tr>\n",
       "                        <th id=\"T_89763_level0_row1\" class=\"row_heading level0 row1\" >(119218.0, 172357.0]</th>\n",
       "                        <td id=\"T_89763_row1_col0\" class=\"data row1 col0\" >7238.000</td>\n",
       "                        <td id=\"T_89763_row1_col1\" class=\"data row1 col1\" >627.000</td>\n",
       "                        <td id=\"T_89763_row1_col2\" class=\"data row1 col2\" >0.087</td>\n",
       "            </tr>\n",
       "            <tr>\n",
       "                        <th id=\"T_89763_level0_row2\" class=\"row_heading level0 row2\" >(172357.0, 2265604.0]</th>\n",
       "                        <td id=\"T_89763_row2_col0\" class=\"data row2 col0\" >6982.000</td>\n",
       "                        <td id=\"T_89763_row2_col1\" class=\"data row2 col1\" >525.000</td>\n",
       "                        <td id=\"T_89763_row2_col2\" class=\"data row2 col2\" >0.075</td>\n",
       "            </tr>\n",
       "    </tbody></table>"
      ],
      "text/plain": [
       "<pandas.io.formats.style.Styler at 0x7fea40664610>"
      ]
     },
     "metadata": {},
     "output_type": "display_data"
    },
    {
     "data": {
      "text/html": [
       "<style  type=\"text/css\" >\n",
       "#T_1684c_row0_col0{\n",
       "            background-color:  #6aaed6;\n",
       "            color:  #000000;\n",
       "        }#T_1684c_row0_col1{\n",
       "            background-color:  #7ab6d9;\n",
       "            color:  #000000;\n",
       "        }#T_1684c_row0_col2{\n",
       "            background-color:  #65aad4;\n",
       "            color:  #000000;\n",
       "        }#T_1684c_row1_col0,#T_1684c_row1_col1,#T_1684c_row1_col2{\n",
       "            background-color:  #08306b;\n",
       "            color:  #f1f1f1;\n",
       "        }#T_1684c_row2_col0,#T_1684c_row3_col1,#T_1684c_row3_col2{\n",
       "            background-color:  #f7fbff;\n",
       "            color:  #000000;\n",
       "        }#T_1684c_row2_col1{\n",
       "            background-color:  #3f8fc5;\n",
       "            color:  #000000;\n",
       "        }#T_1684c_row2_col2{\n",
       "            background-color:  #125ea6;\n",
       "            color:  #f1f1f1;\n",
       "        }#T_1684c_row3_col0{\n",
       "            background-color:  #6dafd7;\n",
       "            color:  #000000;\n",
       "        }</style><table id=\"T_1684c_\" ><thead>    <tr>        <th class=\"blank level0\" ></th>        <th class=\"col_heading level0 col0\" >Всего кредитополучателей</th>        <th class=\"col_heading level0 col1\" >Всего должников</th>        <th class=\"col_heading level0 col2\" >Доля должников</th>    </tr>    <tr>        <th class=\"index_name level0\" >new_category</th>        <th class=\"blank\" ></th>        <th class=\"blank\" ></th>        <th class=\"blank\" ></th>    </tr></thead><tbody>\n",
       "                <tr>\n",
       "                        <th id=\"T_1684c_level0_row0\" class=\"row_heading level0 row0\" >(20666.0, 107507.0]</th>\n",
       "                        <td id=\"T_1684c_row0_col0\" class=\"data row0 col0\" >5333.000</td>\n",
       "                        <td id=\"T_1684c_row0_col1\" class=\"data row0 col1\" >427.000</td>\n",
       "                        <td id=\"T_1684c_row0_col2\" class=\"data row0 col2\" >0.080</td>\n",
       "            </tr>\n",
       "            <tr>\n",
       "                        <th id=\"T_1684c_level0_row1\" class=\"row_heading level0 row1\" >(107507.0, 142594.0]</th>\n",
       "                        <td id=\"T_1684c_row1_col0\" class=\"data row1 col0\" >5450.000</td>\n",
       "                        <td id=\"T_1684c_row1_col1\" class=\"data row1 col1\" >480.000</td>\n",
       "                        <td id=\"T_1684c_row1_col2\" class=\"data row1 col2\" >0.088</td>\n",
       "            </tr>\n",
       "            <tr>\n",
       "                        <th id=\"T_1684c_level0_row2\" class=\"row_heading level0 row2\" >(142594.0, 195842.0]</th>\n",
       "                        <td id=\"T_1684c_row2_col0\" class=\"data row2 col0\" >5216.000</td>\n",
       "                        <td id=\"T_1684c_row2_col1\" class=\"data row2 col1\" >444.000</td>\n",
       "                        <td id=\"T_1684c_row2_col2\" class=\"data row2 col2\" >0.085</td>\n",
       "            </tr>\n",
       "            <tr>\n",
       "                        <th id=\"T_1684c_level0_row3\" class=\"row_heading level0 row3\" >(195842.0, 2265604.0]</th>\n",
       "                        <td id=\"T_1684c_row3_col0\" class=\"data row3 col0\" >5332.000</td>\n",
       "                        <td id=\"T_1684c_row3_col1\" class=\"data row3 col1\" >381.000</td>\n",
       "                        <td id=\"T_1684c_row3_col2\" class=\"data row3 col2\" >0.071</td>\n",
       "            </tr>\n",
       "    </tbody></table>"
      ],
      "text/plain": [
       "<pandas.io.formats.style.Styler at 0x7fea4062e4c0>"
      ]
     },
     "metadata": {},
     "output_type": "display_data"
    },
    {
     "data": {
      "text/html": [
       "<style  type=\"text/css\" >\n",
       "#T_47903_row0_col0,#T_47903_row2_col1,#T_47903_row2_col2{\n",
       "            background-color:  #08306b;\n",
       "            color:  #f1f1f1;\n",
       "        }#T_47903_row0_col1,#T_47903_row0_col2{\n",
       "            background-color:  #4896c8;\n",
       "            color:  #000000;\n",
       "        }#T_47903_row1_col0,#T_47903_row2_col0,#T_47903_row3_col0,#T_47903_row4_col0,#T_47903_row4_col1,#T_47903_row4_col2{\n",
       "            background-color:  #f7fbff;\n",
       "            color:  #000000;\n",
       "        }#T_47903_row1_col1,#T_47903_row1_col2,#T_47903_row3_col1,#T_47903_row3_col2{\n",
       "            background-color:  #1764ab;\n",
       "            color:  #f1f1f1;\n",
       "        }</style><table id=\"T_47903_\" ><thead>    <tr>        <th class=\"blank level0\" ></th>        <th class=\"col_heading level0 col0\" >Всего кредитополучателей</th>        <th class=\"col_heading level0 col1\" >Всего должников</th>        <th class=\"col_heading level0 col2\" >Доля должников</th>    </tr>    <tr>        <th class=\"index_name level0\" >new_category</th>        <th class=\"blank\" ></th>        <th class=\"blank\" ></th>        <th class=\"blank\" ></th>    </tr></thead><tbody>\n",
       "                <tr>\n",
       "                        <th id=\"T_47903_level0_row0\" class=\"row_heading level0 row0\" >(20666.0, 98514.0]</th>\n",
       "                        <td id=\"T_47903_row0_col0\" class=\"data row0 col0\" >4267.000</td>\n",
       "                        <td id=\"T_47903_row0_col1\" class=\"data row0 col1\" >344.000</td>\n",
       "                        <td id=\"T_47903_row0_col2\" class=\"data row0 col2\" >0.081</td>\n",
       "            </tr>\n",
       "            <tr>\n",
       "                        <th id=\"T_47903_level0_row1\" class=\"row_heading level0 row1\" >(98514.0, 132113.0]</th>\n",
       "                        <td id=\"T_47903_row1_col0\" class=\"data row1 col0\" >4266.000</td>\n",
       "                        <td id=\"T_47903_row1_col1\" class=\"data row1 col1\" >358.000</td>\n",
       "                        <td id=\"T_47903_row1_col2\" class=\"data row1 col2\" >0.084</td>\n",
       "            </tr>\n",
       "            <tr>\n",
       "                        <th id=\"T_47903_level0_row2\" class=\"row_heading level0 row2\" >(132113.0, 161380.0]</th>\n",
       "                        <td id=\"T_47903_row2_col0\" class=\"data row2 col0\" >4266.000</td>\n",
       "                        <td id=\"T_47903_row2_col1\" class=\"data row2 col1\" >373.000</td>\n",
       "                        <td id=\"T_47903_row2_col2\" class=\"data row2 col2\" >0.087</td>\n",
       "            </tr>\n",
       "            <tr>\n",
       "                        <th id=\"T_47903_level0_row3\" class=\"row_heading level0 row3\" >(161380.0, 214604.0]</th>\n",
       "                        <td id=\"T_47903_row3_col0\" class=\"data row3 col0\" >4266.000</td>\n",
       "                        <td id=\"T_47903_row3_col1\" class=\"data row3 col1\" >358.000</td>\n",
       "                        <td id=\"T_47903_row3_col2\" class=\"data row3 col2\" >0.084</td>\n",
       "            </tr>\n",
       "            <tr>\n",
       "                        <th id=\"T_47903_level0_row4\" class=\"row_heading level0 row4\" >(214604.0, 2265604.0]</th>\n",
       "                        <td id=\"T_47903_row4_col0\" class=\"data row4 col0\" >4266.000</td>\n",
       "                        <td id=\"T_47903_row4_col1\" class=\"data row4 col1\" >299.000</td>\n",
       "                        <td id=\"T_47903_row4_col2\" class=\"data row4 col2\" >0.070</td>\n",
       "            </tr>\n",
       "    </tbody></table>"
      ],
      "text/plain": [
       "<pandas.io.formats.style.Styler at 0x7fea4341ce20>"
      ]
     },
     "metadata": {},
     "output_type": "display_data"
    },
    {
     "data": {
      "text/html": [
       "<style  type=\"text/css\" >\n",
       "#T_4b035_row0_col0{\n",
       "            background-color:  #63a8d3;\n",
       "            color:  #000000;\n",
       "        }#T_4b035_row0_col1{\n",
       "            background-color:  #7ab6d9;\n",
       "            color:  #000000;\n",
       "        }#T_4b035_row0_col2{\n",
       "            background-color:  #60a7d2;\n",
       "            color:  #000000;\n",
       "        }#T_4b035_row1_col0,#T_4b035_row5_col0{\n",
       "            background-color:  #64a9d3;\n",
       "            color:  #000000;\n",
       "        }#T_4b035_row1_col1{\n",
       "            background-color:  #4e9acb;\n",
       "            color:  #000000;\n",
       "        }#T_4b035_row1_col2{\n",
       "            background-color:  #3383be;\n",
       "            color:  #000000;\n",
       "        }#T_4b035_row2_col0,#T_4b035_row2_col1,#T_4b035_row2_col2{\n",
       "            background-color:  #08306b;\n",
       "            color:  #f1f1f1;\n",
       "        }#T_4b035_row3_col0{\n",
       "            background-color:  #549fcd;\n",
       "            color:  #000000;\n",
       "        }#T_4b035_row3_col1{\n",
       "            background-color:  #3a8ac2;\n",
       "            color:  #000000;\n",
       "        }#T_4b035_row3_col2{\n",
       "            background-color:  #2373b6;\n",
       "            color:  #f1f1f1;\n",
       "        }#T_4b035_row4_col0,#T_4b035_row5_col1,#T_4b035_row5_col2{\n",
       "            background-color:  #f7fbff;\n",
       "            color:  #000000;\n",
       "        }#T_4b035_row4_col1{\n",
       "            background-color:  #a8cee4;\n",
       "            color:  #000000;\n",
       "        }#T_4b035_row4_col2{\n",
       "            background-color:  #5aa2cf;\n",
       "            color:  #000000;\n",
       "        }</style><table id=\"T_4b035_\" ><thead>    <tr>        <th class=\"blank level0\" ></th>        <th class=\"col_heading level0 col0\" >Всего кредитополучателей</th>        <th class=\"col_heading level0 col1\" >Всего должников</th>        <th class=\"col_heading level0 col2\" >Доля должников</th>    </tr>    <tr>        <th class=\"index_name level0\" >new_category</th>        <th class=\"blank\" ></th>        <th class=\"blank\" ></th>        <th class=\"blank\" ></th>    </tr></thead><tbody>\n",
       "                <tr>\n",
       "                        <th id=\"T_4b035_level0_row0\" class=\"row_heading level0 row0\" >(20666.0, 92092.0]</th>\n",
       "                        <td id=\"T_4b035_row0_col0\" class=\"data row0 col0\" >3556.000</td>\n",
       "                        <td id=\"T_4b035_row0_col1\" class=\"data row0 col1\" >285.000</td>\n",
       "                        <td id=\"T_4b035_row0_col2\" class=\"data row0 col2\" >0.080</td>\n",
       "            </tr>\n",
       "            <tr>\n",
       "                        <th id=\"T_4b035_level0_row1\" class=\"row_heading level0 row1\" >(92092.0, 119218.0]</th>\n",
       "                        <td id=\"T_4b035_row1_col0\" class=\"data row1 col0\" >3555.000</td>\n",
       "                        <td id=\"T_4b035_row1_col1\" class=\"data row1 col1\" >295.000</td>\n",
       "                        <td id=\"T_4b035_row1_col2\" class=\"data row1 col2\" >0.083</td>\n",
       "            </tr>\n",
       "            <tr>\n",
       "                        <th id=\"T_4b035_level0_row2\" class=\"row_heading level0 row2\" >(119218.0, 142594.0]</th>\n",
       "                        <td id=\"T_4b035_row2_col0\" class=\"data row2 col0\" >3672.000</td>\n",
       "                        <td id=\"T_4b035_row2_col1\" class=\"data row2 col1\" >327.000</td>\n",
       "                        <td id=\"T_4b035_row2_col2\" class=\"data row2 col2\" >0.089</td>\n",
       "            </tr>\n",
       "            <tr>\n",
       "                        <th id=\"T_4b035_level0_row3\" class=\"row_heading level0 row3\" >(142594.0, 172357.0]</th>\n",
       "                        <td id=\"T_4b035_row3_col0\" class=\"data row3 col0\" >3566.000</td>\n",
       "                        <td id=\"T_4b035_row3_col1\" class=\"data row3 col1\" >300.000</td>\n",
       "                        <td id=\"T_4b035_row3_col2\" class=\"data row3 col2\" >0.084</td>\n",
       "            </tr>\n",
       "            <tr>\n",
       "                        <th id=\"T_4b035_level0_row4\" class=\"row_heading level0 row4\" >(172357.0, 228893.0]</th>\n",
       "                        <td id=\"T_4b035_row4_col0\" class=\"data row4 col0\" >3427.000</td>\n",
       "                        <td id=\"T_4b035_row4_col1\" class=\"data row4 col1\" >276.000</td>\n",
       "                        <td id=\"T_4b035_row4_col2\" class=\"data row4 col2\" >0.081</td>\n",
       "            </tr>\n",
       "            <tr>\n",
       "                        <th id=\"T_4b035_level0_row5\" class=\"row_heading level0 row5\" >(228893.0, 2265604.0]</th>\n",
       "                        <td id=\"T_4b035_row5_col0\" class=\"data row5 col0\" >3555.000</td>\n",
       "                        <td id=\"T_4b035_row5_col1\" class=\"data row5 col1\" >249.000</td>\n",
       "                        <td id=\"T_4b035_row5_col2\" class=\"data row5 col2\" >0.070</td>\n",
       "            </tr>\n",
       "    </tbody></table>"
      ],
      "text/plain": [
       "<pandas.io.formats.style.Styler at 0x7fe9d6b63880>"
      ]
     },
     "metadata": {},
     "output_type": "display_data"
    },
    {
     "data": {
      "text/html": [
       "<style  type=\"text/css\" >\n",
       "#T_67e8d_row0_col0,#T_67e8d_row3_col1,#T_67e8d_row3_col2,#T_67e8d_row6_col0{\n",
       "            background-color:  #08306b;\n",
       "            color:  #f1f1f1;\n",
       "        }#T_67e8d_row0_col1,#T_67e8d_row0_col2{\n",
       "            background-color:  #8dc1dd;\n",
       "            color:  #000000;\n",
       "        }#T_67e8d_row1_col0,#T_67e8d_row2_col0,#T_67e8d_row3_col0,#T_67e8d_row4_col0,#T_67e8d_row5_col0,#T_67e8d_row6_col1,#T_67e8d_row6_col2{\n",
       "            background-color:  #f7fbff;\n",
       "            color:  #000000;\n",
       "        }#T_67e8d_row1_col1,#T_67e8d_row1_col2{\n",
       "            background-color:  #083979;\n",
       "            color:  #f1f1f1;\n",
       "        }#T_67e8d_row2_col1,#T_67e8d_row2_col2{\n",
       "            background-color:  #083471;\n",
       "            color:  #f1f1f1;\n",
       "        }#T_67e8d_row4_col1,#T_67e8d_row4_col2{\n",
       "            background-color:  #09529d;\n",
       "            color:  #f1f1f1;\n",
       "        }#T_67e8d_row5_col1,#T_67e8d_row5_col2{\n",
       "            background-color:  #4f9bcb;\n",
       "            color:  #000000;\n",
       "        }</style><table id=\"T_67e8d_\" ><thead>    <tr>        <th class=\"blank level0\" ></th>        <th class=\"col_heading level0 col0\" >Всего кредитополучателей</th>        <th class=\"col_heading level0 col1\" >Всего должников</th>        <th class=\"col_heading level0 col2\" >Доля должников</th>    </tr>    <tr>        <th class=\"index_name level0\" >new_category</th>        <th class=\"blank\" ></th>        <th class=\"blank\" ></th>        <th class=\"blank\" ></th>    </tr></thead><tbody>\n",
       "                <tr>\n",
       "                        <th id=\"T_67e8d_level0_row0\" class=\"row_heading level0 row0\" >(20666.0, 87287.0]</th>\n",
       "                        <td id=\"T_67e8d_row0_col0\" class=\"data row0 col0\" >3048.000</td>\n",
       "                        <td id=\"T_67e8d_row0_col1\" class=\"data row0 col1\" >233.000</td>\n",
       "                        <td id=\"T_67e8d_row0_col2\" class=\"data row0 col2\" >0.076</td>\n",
       "            </tr>\n",
       "            <tr>\n",
       "                        <th id=\"T_67e8d_level0_row1\" class=\"row_heading level0 row1\" >(87287.0, 113563.0]</th>\n",
       "                        <td id=\"T_67e8d_row1_col0\" class=\"data row1 col0\" >3047.000</td>\n",
       "                        <td id=\"T_67e8d_row1_col1\" class=\"data row1 col1\" >262.000</td>\n",
       "                        <td id=\"T_67e8d_row1_col2\" class=\"data row1 col2\" >0.086</td>\n",
       "            </tr>\n",
       "            <tr>\n",
       "                        <th id=\"T_67e8d_level0_row2\" class=\"row_heading level0 row2\" >(113563.0, 137465.0]</th>\n",
       "                        <td id=\"T_67e8d_row2_col0\" class=\"data row2 col0\" >3047.000</td>\n",
       "                        <td id=\"T_67e8d_row2_col1\" class=\"data row2 col1\" >263.000</td>\n",
       "                        <td id=\"T_67e8d_row2_col2\" class=\"data row2 col2\" >0.086</td>\n",
       "            </tr>\n",
       "            <tr>\n",
       "                        <th id=\"T_67e8d_level0_row3\" class=\"row_heading level0 row3\" >(137465.0, 155314.0]</th>\n",
       "                        <td id=\"T_67e8d_row3_col0\" class=\"data row3 col0\" >3047.000</td>\n",
       "                        <td id=\"T_67e8d_row3_col1\" class=\"data row3 col1\" >264.000</td>\n",
       "                        <td id=\"T_67e8d_row3_col2\" class=\"data row3 col2\" >0.087</td>\n",
       "            </tr>\n",
       "            <tr>\n",
       "                        <th id=\"T_67e8d_level0_row4\" class=\"row_heading level0 row4\" >(155314.0, 184554.0]</th>\n",
       "                        <td id=\"T_67e8d_row4_col0\" class=\"data row4 col0\" >3047.000</td>\n",
       "                        <td id=\"T_67e8d_row4_col1\" class=\"data row4 col1\" >257.000</td>\n",
       "                        <td id=\"T_67e8d_row4_col2\" class=\"data row4 col2\" >0.084</td>\n",
       "            </tr>\n",
       "            <tr>\n",
       "                        <th id=\"T_67e8d_level0_row5\" class=\"row_heading level0 row5\" >(184554.0, 242009.0]</th>\n",
       "                        <td id=\"T_67e8d_row5_col0\" class=\"data row5 col0\" >3047.000</td>\n",
       "                        <td id=\"T_67e8d_row5_col1\" class=\"data row5 col1\" >242.000</td>\n",
       "                        <td id=\"T_67e8d_row5_col2\" class=\"data row5 col2\" >0.079</td>\n",
       "            </tr>\n",
       "            <tr>\n",
       "                        <th id=\"T_67e8d_level0_row6\" class=\"row_heading level0 row6\" >(242009.0, 2265604.0]</th>\n",
       "                        <td id=\"T_67e8d_row6_col0\" class=\"data row6 col0\" >3048.000</td>\n",
       "                        <td id=\"T_67e8d_row6_col1\" class=\"data row6 col1\" >211.000</td>\n",
       "                        <td id=\"T_67e8d_row6_col2\" class=\"data row6 col2\" >0.069</td>\n",
       "            </tr>\n",
       "    </tbody></table>"
      ],
      "text/plain": [
       "<pandas.io.formats.style.Styler at 0x7fea433edf70>"
      ]
     },
     "metadata": {},
     "output_type": "display_data"
    },
    {
     "data": {
      "text/html": [
       "<style  type=\"text/css\" >\n",
       "#T_72474_row0_col0,#T_72474_row5_col0,#T_72474_row7_col0{\n",
       "            background-color:  #6aaed6;\n",
       "            color:  #000000;\n",
       "        }#T_72474_row0_col1{\n",
       "            background-color:  #aacfe5;\n",
       "            color:  #000000;\n",
       "        }#T_72474_row0_col2{\n",
       "            background-color:  #91c3de;\n",
       "            color:  #000000;\n",
       "        }#T_72474_row1_col0,#T_72474_row2_col0{\n",
       "            background-color:  #6caed6;\n",
       "            color:  #000000;\n",
       "        }#T_72474_row1_col1,#T_72474_row5_col1{\n",
       "            background-color:  #519ccc;\n",
       "            color:  #000000;\n",
       "        }#T_72474_row1_col2,#T_72474_row5_col2{\n",
       "            background-color:  #2f7fbc;\n",
       "            color:  #000000;\n",
       "        }#T_72474_row2_col1{\n",
       "            background-color:  #1c6ab0;\n",
       "            color:  #f1f1f1;\n",
       "        }#T_72474_row2_col2{\n",
       "            background-color:  #084285;\n",
       "            color:  #f1f1f1;\n",
       "        }#T_72474_row3_col0,#T_72474_row3_col1,#T_72474_row3_col2{\n",
       "            background-color:  #08306b;\n",
       "            color:  #f1f1f1;\n",
       "        }#T_72474_row4_col0,#T_72474_row7_col1,#T_72474_row7_col2{\n",
       "            background-color:  #f7fbff;\n",
       "            color:  #000000;\n",
       "        }#T_72474_row4_col1{\n",
       "            background-color:  #4695c8;\n",
       "            color:  #000000;\n",
       "        }#T_72474_row4_col2{\n",
       "            background-color:  #084184;\n",
       "            color:  #f1f1f1;\n",
       "        }#T_72474_row6_col0{\n",
       "            background-color:  #6dafd7;\n",
       "            color:  #000000;\n",
       "        }#T_72474_row6_col1{\n",
       "            background-color:  #d4e4f4;\n",
       "            color:  #000000;\n",
       "        }#T_72474_row6_col2{\n",
       "            background-color:  #cddff1;\n",
       "            color:  #000000;\n",
       "        }</style><table id=\"T_72474_\" ><thead>    <tr>        <th class=\"blank level0\" ></th>        <th class=\"col_heading level0 col0\" >Всего кредитополучателей</th>        <th class=\"col_heading level0 col1\" >Всего должников</th>        <th class=\"col_heading level0 col2\" >Доля должников</th>    </tr>    <tr>        <th class=\"index_name level0\" >new_category</th>        <th class=\"blank\" ></th>        <th class=\"blank\" ></th>        <th class=\"blank\" ></th>    </tr></thead><tbody>\n",
       "                <tr>\n",
       "                        <th id=\"T_72474_level0_row0\" class=\"row_heading level0 row0\" >(20666.0, 83837.0]</th>\n",
       "                        <td id=\"T_72474_row0_col0\" class=\"data row0 col0\" >2667.000</td>\n",
       "                        <td id=\"T_72474_row0_col1\" class=\"data row0 col1\" >206.000</td>\n",
       "                        <td id=\"T_72474_row0_col2\" class=\"data row0 col2\" >0.077</td>\n",
       "            </tr>\n",
       "            <tr>\n",
       "                        <th id=\"T_72474_level0_row1\" class=\"row_heading level0 row1\" >(83837.0, 107507.0]</th>\n",
       "                        <td id=\"T_72474_row1_col0\" class=\"data row1 col0\" >2666.000</td>\n",
       "                        <td id=\"T_72474_row1_col1\" class=\"data row1 col1\" >221.000</td>\n",
       "                        <td id=\"T_72474_row1_col2\" class=\"data row1 col2\" >0.083</td>\n",
       "            </tr>\n",
       "            <tr>\n",
       "                        <th id=\"T_72474_level0_row2\" class=\"row_heading level0 row2\" >(107507.0, 127546.0]</th>\n",
       "                        <td id=\"T_72474_row2_col0\" class=\"data row2 col0\" >2666.000</td>\n",
       "                        <td id=\"T_72474_row2_col1\" class=\"data row2 col1\" >233.000</td>\n",
       "                        <td id=\"T_72474_row2_col2\" class=\"data row2 col2\" >0.087</td>\n",
       "            </tr>\n",
       "            <tr>\n",
       "                        <th id=\"T_72474_level0_row3\" class=\"row_heading level0 row3\" >(127546.0, 142594.0]</th>\n",
       "                        <td id=\"T_72474_row3_col0\" class=\"data row3 col0\" >2784.000</td>\n",
       "                        <td id=\"T_72474_row3_col1\" class=\"data row3 col1\" >247.000</td>\n",
       "                        <td id=\"T_72474_row3_col2\" class=\"data row3 col2\" >0.089</td>\n",
       "            </tr>\n",
       "            <tr>\n",
       "                        <th id=\"T_72474_level0_row4\" class=\"row_heading level0 row4\" >(142594.0, 166525.0]</th>\n",
       "                        <td id=\"T_72474_row4_col0\" class=\"data row4 col0\" >2549.000</td>\n",
       "                        <td id=\"T_72474_row4_col1\" class=\"data row4 col1\" >223.000</td>\n",
       "                        <td id=\"T_72474_row4_col2\" class=\"data row4 col2\" >0.087</td>\n",
       "            </tr>\n",
       "            <tr>\n",
       "                        <th id=\"T_72474_level0_row5\" class=\"row_heading level0 row5\" >(166525.0, 195842.0]</th>\n",
       "                        <td id=\"T_72474_row5_col0\" class=\"data row5 col0\" >2667.000</td>\n",
       "                        <td id=\"T_72474_row5_col1\" class=\"data row5 col1\" >221.000</td>\n",
       "                        <td id=\"T_72474_row5_col2\" class=\"data row5 col2\" >0.083</td>\n",
       "            </tr>\n",
       "            <tr>\n",
       "                        <th id=\"T_72474_level0_row6\" class=\"row_heading level0 row6\" >(195842.0, 254250.0]</th>\n",
       "                        <td id=\"T_72474_row6_col0\" class=\"data row6 col0\" >2665.000</td>\n",
       "                        <td id=\"T_72474_row6_col1\" class=\"data row6 col1\" >196.000</td>\n",
       "                        <td id=\"T_72474_row6_col2\" class=\"data row6 col2\" >0.074</td>\n",
       "            </tr>\n",
       "            <tr>\n",
       "                        <th id=\"T_72474_level0_row7\" class=\"row_heading level0 row7\" >(254250.0, 2265604.0]</th>\n",
       "                        <td id=\"T_72474_row7_col0\" class=\"data row7 col0\" >2667.000</td>\n",
       "                        <td id=\"T_72474_row7_col1\" class=\"data row7 col1\" >185.000</td>\n",
       "                        <td id=\"T_72474_row7_col2\" class=\"data row7 col2\" >0.069</td>\n",
       "            </tr>\n",
       "    </tbody></table>"
      ],
      "text/plain": [
       "<pandas.io.formats.style.Styler at 0x7fea4341c640>"
      ]
     },
     "metadata": {},
     "output_type": "display_data"
    }
   ],
   "source": [
    "# Комментарий ревьюера 2\n",
    "temp = data.copy()\n",
    "start, stop = 3, 8 # начальное и конечное количество категорий\n",
    "while start <= stop:\n",
    "    temp['new_category'] = pd.qcut(temp['total_income'], q=start, precision=0)\n",
    "    que('new_category')\n",
    "    start += 1"
   ]
  },
  {
   "cell_type": "markdown",
   "id": "2807cd63",
   "metadata": {
    "id": "99ecbd1f"
   },
   "source": [
    "#### 3.4 Как разные цели кредита влияют на его возврат в срок?"
   ]
  },
  {
   "cell_type": "code",
   "execution_count": 26,
   "id": "b1d379d5",
   "metadata": {
    "id": "2b687290"
   },
   "outputs": [
    {
     "data": {
      "text/html": [
       "<div>\n",
       "<style scoped>\n",
       "    .dataframe tbody tr th:only-of-type {\n",
       "        vertical-align: middle;\n",
       "    }\n",
       "\n",
       "    .dataframe tbody tr th {\n",
       "        vertical-align: top;\n",
       "    }\n",
       "\n",
       "    .dataframe thead th {\n",
       "        text-align: right;\n",
       "    }\n",
       "</style>\n",
       "<table border=\"1\" class=\"dataframe\">\n",
       "  <thead>\n",
       "    <tr style=\"text-align: right;\">\n",
       "      <th></th>\n",
       "      <th>purpose_category</th>\n",
       "      <th>purpose_dolg</th>\n",
       "      <th>total_debt</th>\n",
       "      <th>group_mass</th>\n",
       "    </tr>\n",
       "  </thead>\n",
       "  <tbody>\n",
       "    <tr>\n",
       "      <th>операции с автомобилем</th>\n",
       "      <td>4279</td>\n",
       "      <td>400</td>\n",
       "      <td>0.093480</td>\n",
       "      <td>0.200600</td>\n",
       "    </tr>\n",
       "    <tr>\n",
       "      <th>получение образования</th>\n",
       "      <td>3988</td>\n",
       "      <td>369</td>\n",
       "      <td>0.092528</td>\n",
       "      <td>0.186958</td>\n",
       "    </tr>\n",
       "    <tr>\n",
       "      <th>проведение свадьбы</th>\n",
       "      <td>2313</td>\n",
       "      <td>183</td>\n",
       "      <td>0.079118</td>\n",
       "      <td>0.108434</td>\n",
       "    </tr>\n",
       "    <tr>\n",
       "      <th>операции с недвижимостью</th>\n",
       "      <td>10751</td>\n",
       "      <td>780</td>\n",
       "      <td>0.072551</td>\n",
       "      <td>0.504008</td>\n",
       "    </tr>\n",
       "  </tbody>\n",
       "</table>\n",
       "</div>"
      ],
      "text/plain": [
       "                          purpose_category  purpose_dolg  total_debt  \\\n",
       "операции с автомобилем                4279           400    0.093480   \n",
       "получение образования                 3988           369    0.092528   \n",
       "проведение свадьбы                    2313           183    0.079118   \n",
       "операции с недвижимостью             10751           780    0.072551   \n",
       "\n",
       "                          group_mass  \n",
       "операции с автомобилем      0.200600  \n",
       "получение образования       0.186958  \n",
       "проведение свадьбы          0.108434  \n",
       "операции с недвижимостью    0.504008  "
      ]
     },
     "execution_count": 26,
     "metadata": {},
     "output_type": "execute_result"
    }
   ],
   "source": [
    "purpose_total_debt = data['purpose_category'].value_counts().to_frame()                                          #суммарное количество заёмщиков по уровню дохода\n",
    "purpose_total_debt['purpose_dolg'] = data.groupby('purpose_category')['debt'].sum()                               #количество просрочек платежей в каждой группе\n",
    "purpose_total_debt['total_debt'] = purpose_total_debt['purpose_dolg'] / purpose_total_debt['purpose_category']      #процент просрочек платежей\n",
    "purpose_total_debt['group_mass'] = purpose_total_debt['purpose_category'] / data['purpose_category'].count() #удельный вес группы\n",
    "purpose_total_debt.sort_values(by='total_debt', ascending=true)"
   ]
  },
  {
   "cell_type": "markdown",
   "id": "6880a31e",
   "metadata": {
    "id": "b4bb2ce6"
   },
   "source": [
    "**Вывод:** По результату анализа данных можно сказать, что больше всего просрочек (9,3%) делается по группам \"операции с автомобилем\", \"получение образования\". Это возможно косвенно объяснить возрастом заёмщиков (молодые студенты, доходы низкие), а также условным \"классом\" автомобиля (цена и размер кредита на авто не соответствуют уровню дохода заёмщика). Меньше всего просрочек (7,3%) происходит при операциях с недвижимостью. Это обуславливается высокими рисками потери дорогого имущества, важностью данной цели кредитования вне зависимости от уровня дохода/семейного положения и т.д."
   ]
  },
  {
   "cell_type": "markdown",
   "id": "bb2e8305",
   "metadata": {
    "id": "09c3ac4c"
   },
   "source": [
    "#### 3.5 Приведите возможные причины появления пропусков в исходных данных."
   ]
  },
  {
   "cell_type": "markdown",
   "id": "75d28a4d",
   "metadata": {
    "id": "9da2ceda"
   },
   "source": [
    "Существует несколько причин отсутствия данных в датасетах, в том числе:\n",
    "\n",
    "- Человеческий фактор: Ошибки ввода данных, не желание отвечать на определенные вопросы.\n",
    "- Технические проблемы: Возможны сбои с оборудованием или программным обеспечением для сбора данных. Отсутствующие данные могут быть удалены в процессе обработки или очистки данных.\n",
    "- Организационные: Конфиденциальность, могут отсутствовать данные, идентифицирующие отдельных лиц или компании."
   ]
  },
  {
   "cell_type": "markdown",
   "id": "1aee9439",
   "metadata": {
    "id": "7b0487d6"
   },
   "source": [
    "#### 3.6 Объясните, почему заполнить пропуски медианным значением — лучшее решение для количественных переменных."
   ]
  },
  {
   "cell_type": "markdown",
   "id": "1f1a1acb",
   "metadata": {
    "id": "7ecf2b8e"
   },
   "source": [
    "Среднее значение некорректно характеризует данные, когда некоторые значения сильно выделяются среди большинства. Если в выборке присутствуют выдающиеся значения (сверхвысокие доходы и сверхнизкие доходы, нулевой стаж безработного и суммарный стаж работавшего пенсионера), лучше использовать медиану. "
   ]
  },
  {
   "cell_type": "markdown",
   "id": "2563e011",
   "metadata": {
    "id": "6db5255a"
   },
   "source": [
    "### Шаг 4: общий вывод."
   ]
  },
  {
   "cell_type": "markdown",
   "id": "76bd20dc",
   "metadata": {},
   "source": [
    "Данный проект заключается в исследовании надёжности заемщиков.\n",
    "\n",
    "# Описание проекта:\n",
    "Заказчик — кредитный отдел банка. Нужно разобраться, влияет ли семейное положение и количество детей клиента на факт погашения кредита в срок. Входные данные от банка — статистика о платёжеспособности клиентов.\n",
    "\n",
    "# Описание данных:\n",
    "* children — количество детей в семье\n",
    "* days_employed — общий трудовой стаж в днях\n",
    "* dob_years — возраст клиента в годах\n",
    "* education — уровень образования клиента\n",
    "* education_id — идентификатор уровня образования\n",
    "* family_status — семейное положение\n",
    "* family_status_id — идентификатор семейного положения\n",
    "* gender — пол клиента\n",
    "* income_type — тип занятости\n",
    "* debt — имел ли задолженность по возврату кредитов\n",
    "* total_income — ежемесячный доход\n",
    "* purpose — цель получения кредита\n",
    "\n",
    "# Исследование данных:\n",
    "В ходе исследования были сделаны следующие выводы:\n",
    "* существует зависимость между количеством детей и возвратом кредита в срок. Максимальный процент просрочек наблюдается в группах \"4 детей\", \"2 детей\", \"1 ребёнок\". Бездетные допускают меньше всего просрочек. Данными по группе \"5 детей\" можно пренебречь по причине малой выборки в датафрейме;\n",
    "\n",
    "* больше всего просрочек делают люди вне брака или состоящие в гражданском браке. Более ответственно к выплатам подходят вдовцы и люди в разводе. Состоящие в браке располагаются в середине \"рейтинга\". Также по данной выборке можно сделать косвенное предположение, что своевременные выплаты зависят от возраста заёмщика: самые ответственные, весьма вероятно, старше среднего возраста (вдовцы/разведены), менее ответственные же наоборот, скорее всего, более молодые (не в браке/сожительствуют);\n",
    "\n",
    "* больше всего просрочек делают люди с самым низким уровнем дохода. Однако, в то же время самыми ответственными заёмщиками  являются люди с доходами на уровне \"ниже среднего\". Высокий процент просрочек наблюдается в \"средней\" группе. Необходима оговорка о недостаточной выборке по группам \"А\" и \"Е\": удельный вес обеих групп составляет ~0,01% от общего числа заёмщиков, поэтому данные по ним могут быть искажены;\n",
    "\n",
    "* больше всего просрочек делается по группам \"операции с автомобилем\" и \"получение образования\". Это возможно косвенно объяснить возрастом заёмщиков, а также рисками владения автомобиля. Меньше всего просрочек происходит при операциях с недвижимостью.\n",
    "\n",
    "# Предобработка данных:\n",
    "**Обработка пропусков:**\n",
    "\n",
    "В двух столбцах исходного датафрейма есть пропущенные значения. Столбец с пропущенными значениями — total_income — хранит данные о доходах. На сумму дохода сильнее всего влияет тип занятости, поэтому заполнить пропуски в этом столбце нужно медианным значением по каждому типу из столбца income_type.\n",
    "Также заполнили пропуски в столбце days_employed медианными значениями по каждому типу занятости income_type.\n",
    "\n",
    "**Обработка аномалий:**\n",
    "\n",
    "В данных встретились артефакты (аномалии) — значения, которые не отражают действительность и появились по какой-то ошибке. такими артефактами будут отрицательные количества дней трудового стажа в столбце days_employed. Обработали значения в этом столбце: заменили все отрицательные значения положительными с помощью метода abs().\n",
    "В столбце children есть два аномальных значения. Удалили строки, в которых они встречаются.\n",
    "\n",
    "\n",
    "**Обработка дубликатов:**\n",
    "\n",
    "Обработали неявные дубликаты в столбце education. В этом столбце есть одни и те же значения, но записанные по-разному: с использованием заглавных и строчных букв.\n",
    "\n",
    "**Категоризация данных:**\n",
    "\n",
    "На основании исходных данных создали столбцы с диапазонами по уровню дохода, а также по целям кредитования.\n",
    "# Анализ:\n",
    "Для ответов на поставленные вопросы были созданы отдельные датафреймы с конкретными группировками данных. Визуально они представлены в виде таблиц. На основе таюлиц были сделаны соответствующие выводы, которыпе указаны выше. "
   ]
  }
 ],
 "metadata": {
  "ExecuteTimeLog": [
   {
    "duration": 482,
    "start_time": "2023-09-04T18:41:49.766Z"
   },
   {
    "duration": 24,
    "start_time": "2023-09-04T18:41:52.932Z"
   },
   {
    "duration": 13,
    "start_time": "2023-09-04T18:46:21.958Z"
   },
   {
    "duration": 463,
    "start_time": "2023-09-04T19:00:17.040Z"
   },
   {
    "duration": 32,
    "start_time": "2023-09-04T19:00:17.505Z"
   },
   {
    "duration": 18,
    "start_time": "2023-09-04T19:00:17.539Z"
   },
   {
    "duration": 11,
    "start_time": "2023-09-04T19:00:17.559Z"
   },
   {
    "duration": 59,
    "start_time": "2023-09-04T19:00:17.571Z"
   },
   {
    "duration": 3,
    "start_time": "2023-09-04T19:00:17.632Z"
   },
   {
    "duration": 9,
    "start_time": "2023-09-04T19:00:17.637Z"
   },
   {
    "duration": 7,
    "start_time": "2023-09-04T19:00:17.648Z"
   },
   {
    "duration": 11,
    "start_time": "2023-09-04T19:00:17.656Z"
   },
   {
    "duration": 4,
    "start_time": "2023-09-04T19:00:17.669Z"
   },
   {
    "duration": 66,
    "start_time": "2023-09-04T19:00:17.675Z"
   },
   {
    "duration": 13,
    "start_time": "2023-09-04T19:00:17.742Z"
   },
   {
    "duration": 4,
    "start_time": "2023-09-04T19:00:17.756Z"
   },
   {
    "duration": 15,
    "start_time": "2023-09-04T19:00:17.761Z"
   },
   {
    "duration": 52,
    "start_time": "2023-09-04T19:00:17.777Z"
   },
   {
    "duration": 19,
    "start_time": "2023-09-04T19:00:17.830Z"
   },
   {
    "duration": 4,
    "start_time": "2023-09-04T19:00:17.850Z"
   },
   {
    "duration": 14,
    "start_time": "2023-09-04T19:00:17.856Z"
   },
   {
    "duration": 8,
    "start_time": "2023-09-04T19:00:17.872Z"
   },
   {
    "duration": 4,
    "start_time": "2023-09-04T19:00:17.882Z"
   },
   {
    "duration": 16,
    "start_time": "2023-09-04T19:00:17.916Z"
   },
   {
    "duration": 93,
    "start_time": "2023-09-04T19:00:17.934Z"
   },
   {
    "duration": 1,
    "start_time": "2023-09-04T19:00:18.028Z"
   },
   {
    "duration": 0,
    "start_time": "2023-09-04T19:00:18.030Z"
   },
   {
    "duration": 0,
    "start_time": "2023-09-04T19:00:18.031Z"
   },
   {
    "duration": 21,
    "start_time": "2023-09-04T19:01:24.485Z"
   },
   {
    "duration": 15,
    "start_time": "2023-09-04T19:04:08.423Z"
   },
   {
    "duration": 31,
    "start_time": "2023-09-04T19:05:05.023Z"
   },
   {
    "duration": 10,
    "start_time": "2023-09-04T19:05:36.385Z"
   },
   {
    "duration": 8,
    "start_time": "2023-09-04T19:05:41.399Z"
   },
   {
    "duration": 30,
    "start_time": "2023-09-04T19:06:49.706Z"
   },
   {
    "duration": 58,
    "start_time": "2023-09-05T02:44:43.189Z"
   },
   {
    "duration": 1119,
    "start_time": "2023-09-05T02:44:53.788Z"
   },
   {
    "duration": 24,
    "start_time": "2023-09-05T02:44:54.909Z"
   },
   {
    "duration": 17,
    "start_time": "2023-09-05T02:44:54.934Z"
   },
   {
    "duration": 18,
    "start_time": "2023-09-05T02:44:54.953Z"
   },
   {
    "duration": 88,
    "start_time": "2023-09-05T02:44:54.973Z"
   },
   {
    "duration": 4,
    "start_time": "2023-09-05T02:44:55.062Z"
   },
   {
    "duration": 30,
    "start_time": "2023-09-05T02:44:55.067Z"
   },
   {
    "duration": 11,
    "start_time": "2023-09-05T02:44:55.099Z"
   },
   {
    "duration": 9,
    "start_time": "2023-09-05T02:44:55.112Z"
   },
   {
    "duration": 5,
    "start_time": "2023-09-05T02:44:55.124Z"
   },
   {
    "duration": 41,
    "start_time": "2023-09-05T02:44:55.131Z"
   },
   {
    "duration": 37,
    "start_time": "2023-09-05T02:44:55.174Z"
   },
   {
    "duration": 5,
    "start_time": "2023-09-05T02:44:55.212Z"
   },
   {
    "duration": 17,
    "start_time": "2023-09-05T02:44:55.218Z"
   },
   {
    "duration": 26,
    "start_time": "2023-09-05T02:44:55.237Z"
   },
   {
    "duration": 19,
    "start_time": "2023-09-05T02:44:55.264Z"
   },
   {
    "duration": 6,
    "start_time": "2023-09-05T02:44:55.309Z"
   },
   {
    "duration": 15,
    "start_time": "2023-09-05T02:44:55.316Z"
   },
   {
    "duration": 17,
    "start_time": "2023-09-05T02:44:55.333Z"
   },
   {
    "duration": 11,
    "start_time": "2023-09-05T02:44:55.351Z"
   },
   {
    "duration": 32,
    "start_time": "2023-09-05T02:44:55.364Z"
   },
   {
    "duration": 109,
    "start_time": "2023-09-05T02:44:55.398Z"
   },
   {
    "duration": 0,
    "start_time": "2023-09-05T02:44:55.509Z"
   },
   {
    "duration": 0,
    "start_time": "2023-09-05T02:44:55.510Z"
   },
   {
    "duration": 0,
    "start_time": "2023-09-05T02:44:55.511Z"
   },
   {
    "duration": 19,
    "start_time": "2023-09-05T02:45:06.342Z"
   },
   {
    "duration": 16,
    "start_time": "2023-09-05T02:45:08.788Z"
   },
   {
    "duration": 23,
    "start_time": "2023-09-05T02:49:26.456Z"
   },
   {
    "duration": 16,
    "start_time": "2023-09-05T02:51:21.785Z"
   },
   {
    "duration": 20,
    "start_time": "2023-09-05T02:51:32.793Z"
   },
   {
    "duration": 28,
    "start_time": "2023-09-05T02:52:30.557Z"
   },
   {
    "duration": 24,
    "start_time": "2023-09-05T02:54:53.745Z"
   },
   {
    "duration": 15,
    "start_time": "2023-09-05T02:55:49.575Z"
   },
   {
    "duration": 52,
    "start_time": "2023-09-05T15:40:37.654Z"
   },
   {
    "duration": 784,
    "start_time": "2023-09-05T15:40:42.771Z"
   },
   {
    "duration": 24,
    "start_time": "2023-09-05T15:40:43.557Z"
   },
   {
    "duration": 17,
    "start_time": "2023-09-05T15:40:43.583Z"
   },
   {
    "duration": 13,
    "start_time": "2023-09-05T15:40:43.602Z"
   },
   {
    "duration": 46,
    "start_time": "2023-09-05T15:40:43.619Z"
   },
   {
    "duration": 3,
    "start_time": "2023-09-05T15:40:43.667Z"
   },
   {
    "duration": 11,
    "start_time": "2023-09-05T15:40:43.671Z"
   },
   {
    "duration": 5,
    "start_time": "2023-09-05T15:40:43.684Z"
   },
   {
    "duration": 16,
    "start_time": "2023-09-05T15:40:43.691Z"
   },
   {
    "duration": 19,
    "start_time": "2023-09-05T15:40:43.709Z"
   },
   {
    "duration": 37,
    "start_time": "2023-09-05T15:40:43.730Z"
   },
   {
    "duration": 11,
    "start_time": "2023-09-05T15:40:43.769Z"
   },
   {
    "duration": 19,
    "start_time": "2023-09-05T15:40:43.781Z"
   },
   {
    "duration": 23,
    "start_time": "2023-09-05T15:40:43.802Z"
   },
   {
    "duration": 31,
    "start_time": "2023-09-05T15:40:43.826Z"
   },
   {
    "duration": 18,
    "start_time": "2023-09-05T15:40:43.858Z"
   },
   {
    "duration": 11,
    "start_time": "2023-09-05T15:40:43.877Z"
   },
   {
    "duration": 13,
    "start_time": "2023-09-05T15:40:43.889Z"
   },
   {
    "duration": 33,
    "start_time": "2023-09-05T15:40:43.908Z"
   },
   {
    "duration": 12,
    "start_time": "2023-09-05T15:40:43.943Z"
   },
   {
    "duration": 45,
    "start_time": "2023-09-05T15:40:43.956Z"
   },
   {
    "duration": 68,
    "start_time": "2023-09-05T15:40:44.003Z"
   },
   {
    "duration": 0,
    "start_time": "2023-09-05T15:40:44.073Z"
   },
   {
    "duration": 0,
    "start_time": "2023-09-05T15:40:44.074Z"
   },
   {
    "duration": 0,
    "start_time": "2023-09-05T15:40:44.075Z"
   },
   {
    "duration": 4,
    "start_time": "2023-09-05T15:41:19.150Z"
   },
   {
    "duration": 5,
    "start_time": "2023-09-05T15:41:32.392Z"
   },
   {
    "duration": 6,
    "start_time": "2023-09-05T15:41:40.746Z"
   },
   {
    "duration": 8,
    "start_time": "2023-09-05T15:42:01.342Z"
   },
   {
    "duration": 12,
    "start_time": "2023-09-05T15:42:18.370Z"
   },
   {
    "duration": 13,
    "start_time": "2023-09-05T15:44:17.608Z"
   },
   {
    "duration": 7,
    "start_time": "2023-09-05T15:44:26.182Z"
   },
   {
    "duration": 24,
    "start_time": "2023-09-05T15:44:39.393Z"
   },
   {
    "duration": 8,
    "start_time": "2023-09-05T15:44:41.386Z"
   },
   {
    "duration": 7,
    "start_time": "2023-09-05T15:44:57.599Z"
   },
   {
    "duration": 9,
    "start_time": "2023-09-05T15:45:23.722Z"
   },
   {
    "duration": 7,
    "start_time": "2023-09-05T15:46:53.853Z"
   },
   {
    "duration": 11,
    "start_time": "2023-09-05T15:47:00.682Z"
   },
   {
    "duration": 9,
    "start_time": "2023-09-05T15:47:50.444Z"
   },
   {
    "duration": 7,
    "start_time": "2023-09-05T16:07:49.950Z"
   },
   {
    "duration": 9,
    "start_time": "2023-09-05T16:07:57.787Z"
   },
   {
    "duration": 11,
    "start_time": "2023-09-05T16:14:18.252Z"
   },
   {
    "duration": 12,
    "start_time": "2023-09-05T16:16:11.123Z"
   },
   {
    "duration": 11,
    "start_time": "2023-09-05T16:16:36.452Z"
   },
   {
    "duration": 12,
    "start_time": "2023-09-05T16:17:06.081Z"
   },
   {
    "duration": 14,
    "start_time": "2023-09-05T16:17:30.316Z"
   },
   {
    "duration": 26,
    "start_time": "2023-09-05T16:17:56.097Z"
   },
   {
    "duration": 23,
    "start_time": "2023-09-05T16:18:12.458Z"
   },
   {
    "duration": 15,
    "start_time": "2023-09-05T16:18:23.041Z"
   },
   {
    "duration": 16,
    "start_time": "2023-09-05T16:19:07.565Z"
   },
   {
    "duration": 19,
    "start_time": "2023-09-05T16:35:29.441Z"
   },
   {
    "duration": 14,
    "start_time": "2023-09-05T16:43:18.625Z"
   },
   {
    "duration": 25,
    "start_time": "2023-09-05T16:44:42.403Z"
   },
   {
    "duration": 16,
    "start_time": "2023-09-05T16:44:54.193Z"
   },
   {
    "duration": 17,
    "start_time": "2023-09-05T16:45:01.767Z"
   },
   {
    "duration": 18,
    "start_time": "2023-09-05T16:45:04.472Z"
   },
   {
    "duration": 21,
    "start_time": "2023-09-05T16:45:24.056Z"
   },
   {
    "duration": 24,
    "start_time": "2023-09-05T16:45:43.806Z"
   },
   {
    "duration": 22,
    "start_time": "2023-09-05T16:45:50.303Z"
   },
   {
    "duration": 20,
    "start_time": "2023-09-05T16:46:04.485Z"
   },
   {
    "duration": 19,
    "start_time": "2023-09-05T16:48:09.871Z"
   },
   {
    "duration": 16,
    "start_time": "2023-09-05T16:48:33.922Z"
   },
   {
    "duration": 512,
    "start_time": "2023-09-05T16:48:40.387Z"
   },
   {
    "duration": 28,
    "start_time": "2023-09-05T16:48:40.901Z"
   },
   {
    "duration": 32,
    "start_time": "2023-09-05T16:48:40.931Z"
   },
   {
    "duration": 17,
    "start_time": "2023-09-05T16:48:40.966Z"
   },
   {
    "duration": 60,
    "start_time": "2023-09-05T16:48:40.985Z"
   },
   {
    "duration": 3,
    "start_time": "2023-09-05T16:48:41.047Z"
   },
   {
    "duration": 13,
    "start_time": "2023-09-05T16:48:41.052Z"
   },
   {
    "duration": 10,
    "start_time": "2023-09-05T16:48:41.067Z"
   },
   {
    "duration": 14,
    "start_time": "2023-09-05T16:48:41.078Z"
   },
   {
    "duration": 14,
    "start_time": "2023-09-05T16:48:41.095Z"
   },
   {
    "duration": 50,
    "start_time": "2023-09-05T16:48:41.112Z"
   },
   {
    "duration": 11,
    "start_time": "2023-09-05T16:48:41.164Z"
   },
   {
    "duration": 25,
    "start_time": "2023-09-05T16:48:41.176Z"
   },
   {
    "duration": 26,
    "start_time": "2023-09-05T16:48:41.203Z"
   },
   {
    "duration": 43,
    "start_time": "2023-09-05T16:48:41.230Z"
   },
   {
    "duration": 27,
    "start_time": "2023-09-05T16:48:41.275Z"
   },
   {
    "duration": 17,
    "start_time": "2023-09-05T16:48:41.303Z"
   },
   {
    "duration": 25,
    "start_time": "2023-09-05T16:48:41.321Z"
   },
   {
    "duration": 21,
    "start_time": "2023-09-05T16:48:41.348Z"
   },
   {
    "duration": 17,
    "start_time": "2023-09-05T16:48:41.370Z"
   },
   {
    "duration": 34,
    "start_time": "2023-09-05T16:48:41.388Z"
   },
   {
    "duration": 19,
    "start_time": "2023-09-05T16:48:41.425Z"
   },
   {
    "duration": 29,
    "start_time": "2023-09-05T16:48:41.446Z"
   },
   {
    "duration": 18,
    "start_time": "2023-09-05T16:48:41.477Z"
   },
   {
    "duration": 24,
    "start_time": "2023-09-05T16:48:41.497Z"
   },
   {
    "duration": 23,
    "start_time": "2023-09-05T16:49:15.081Z"
   },
   {
    "duration": 18,
    "start_time": "2023-09-05T16:49:20.392Z"
   },
   {
    "duration": 21,
    "start_time": "2023-09-05T16:50:18.569Z"
   },
   {
    "duration": 18,
    "start_time": "2023-09-05T16:51:29.481Z"
   },
   {
    "duration": 20,
    "start_time": "2023-09-05T16:51:33.422Z"
   },
   {
    "duration": 16,
    "start_time": "2023-09-05T16:52:31.858Z"
   },
   {
    "duration": 23,
    "start_time": "2023-09-05T16:53:18.301Z"
   },
   {
    "duration": 16,
    "start_time": "2023-09-05T16:53:31.220Z"
   },
   {
    "duration": 12,
    "start_time": "2023-09-05T16:54:35.362Z"
   },
   {
    "duration": 25,
    "start_time": "2023-09-05T16:54:40.203Z"
   },
   {
    "duration": 16,
    "start_time": "2023-09-05T16:54:45.746Z"
   },
   {
    "duration": 18,
    "start_time": "2023-09-05T16:54:53.764Z"
   },
   {
    "duration": 36,
    "start_time": "2023-09-05T16:56:52.418Z"
   },
   {
    "duration": 19,
    "start_time": "2023-09-05T16:56:57.347Z"
   },
   {
    "duration": 536,
    "start_time": "2023-09-05T17:00:15.303Z"
   },
   {
    "duration": 24,
    "start_time": "2023-09-05T17:00:15.843Z"
   },
   {
    "duration": 28,
    "start_time": "2023-09-05T17:00:15.869Z"
   },
   {
    "duration": 25,
    "start_time": "2023-09-05T17:00:15.900Z"
   },
   {
    "duration": 48,
    "start_time": "2023-09-05T17:00:15.927Z"
   },
   {
    "duration": 4,
    "start_time": "2023-09-05T17:00:15.976Z"
   },
   {
    "duration": 10,
    "start_time": "2023-09-05T17:00:15.981Z"
   },
   {
    "duration": 4,
    "start_time": "2023-09-05T17:00:15.993Z"
   },
   {
    "duration": 35,
    "start_time": "2023-09-05T17:00:15.998Z"
   },
   {
    "duration": 11,
    "start_time": "2023-09-05T17:00:16.036Z"
   },
   {
    "duration": 42,
    "start_time": "2023-09-05T17:00:16.049Z"
   },
   {
    "duration": 23,
    "start_time": "2023-09-05T17:00:16.093Z"
   },
   {
    "duration": 18,
    "start_time": "2023-09-05T17:00:16.120Z"
   },
   {
    "duration": 12,
    "start_time": "2023-09-05T17:00:16.140Z"
   },
   {
    "duration": 28,
    "start_time": "2023-09-05T17:00:16.154Z"
   },
   {
    "duration": 17,
    "start_time": "2023-09-05T17:00:16.184Z"
   },
   {
    "duration": 3,
    "start_time": "2023-09-05T17:00:16.203Z"
   },
   {
    "duration": 20,
    "start_time": "2023-09-05T17:00:16.215Z"
   },
   {
    "duration": 7,
    "start_time": "2023-09-05T17:00:16.239Z"
   },
   {
    "duration": 4,
    "start_time": "2023-09-05T17:00:16.248Z"
   },
   {
    "duration": 24,
    "start_time": "2023-09-05T17:00:16.254Z"
   },
   {
    "duration": 40,
    "start_time": "2023-09-05T17:00:16.279Z"
   },
   {
    "duration": 20,
    "start_time": "2023-09-05T17:00:16.326Z"
   },
   {
    "duration": 3,
    "start_time": "2023-09-05T17:00:16.348Z"
   },
   {
    "duration": 8,
    "start_time": "2023-09-05T17:00:16.352Z"
   },
   {
    "duration": 60,
    "start_time": "2023-09-05T17:01:15.984Z"
   },
   {
    "duration": 17,
    "start_time": "2023-09-05T17:01:20.868Z"
   },
   {
    "duration": 28,
    "start_time": "2023-09-05T17:03:03.797Z"
   },
   {
    "duration": 15,
    "start_time": "2023-09-05T17:04:09.744Z"
   },
   {
    "duration": 17,
    "start_time": "2023-09-05T17:04:18.224Z"
   },
   {
    "duration": 16,
    "start_time": "2023-09-05T17:04:28.859Z"
   },
   {
    "duration": 17,
    "start_time": "2023-09-05T17:04:37.245Z"
   },
   {
    "duration": 18,
    "start_time": "2023-09-05T17:05:39.756Z"
   },
   {
    "duration": 16,
    "start_time": "2023-09-05T17:06:40.675Z"
   },
   {
    "duration": 17,
    "start_time": "2023-09-05T17:06:57.787Z"
   },
   {
    "duration": 22,
    "start_time": "2023-09-05T17:07:35.991Z"
   },
   {
    "duration": 13,
    "start_time": "2023-09-05T17:07:50.839Z"
   },
   {
    "duration": 13,
    "start_time": "2023-09-05T17:07:54.648Z"
   },
   {
    "duration": 13,
    "start_time": "2023-09-05T17:13:41.848Z"
   },
   {
    "duration": 21,
    "start_time": "2023-09-05T17:13:50.820Z"
   },
   {
    "duration": 27,
    "start_time": "2023-09-05T17:15:42.028Z"
   },
   {
    "duration": 44,
    "start_time": "2023-09-05T17:16:17.067Z"
   },
   {
    "duration": 35,
    "start_time": "2023-09-05T17:16:35.222Z"
   },
   {
    "duration": 50,
    "start_time": "2023-09-05T17:17:17.488Z"
   },
   {
    "duration": 19,
    "start_time": "2023-09-05T17:17:46.763Z"
   },
   {
    "duration": 78,
    "start_time": "2023-09-05T17:19:38.303Z"
   },
   {
    "duration": 73,
    "start_time": "2023-09-05T17:19:44.232Z"
   },
   {
    "duration": 19,
    "start_time": "2023-09-05T17:20:32.209Z"
   },
   {
    "duration": 14,
    "start_time": "2023-09-05T17:21:57.630Z"
   },
   {
    "duration": 14,
    "start_time": "2023-09-05T17:24:02.124Z"
   },
   {
    "duration": 14,
    "start_time": "2023-09-05T17:27:59.891Z"
   },
   {
    "duration": 24,
    "start_time": "2023-09-05T17:28:20.007Z"
   },
   {
    "duration": 35,
    "start_time": "2023-09-05T17:30:17.297Z"
   },
   {
    "duration": 34,
    "start_time": "2023-09-05T17:30:36.586Z"
   },
   {
    "duration": 18,
    "start_time": "2023-09-05T17:30:45.985Z"
   },
   {
    "duration": 20,
    "start_time": "2023-09-05T17:31:11.340Z"
   },
   {
    "duration": 14,
    "start_time": "2023-09-05T17:36:13.364Z"
   },
   {
    "duration": 13,
    "start_time": "2023-09-05T17:37:26.643Z"
   },
   {
    "duration": 15,
    "start_time": "2023-09-05T17:37:50.554Z"
   },
   {
    "duration": 19,
    "start_time": "2023-09-05T17:43:38.683Z"
   },
   {
    "duration": 12,
    "start_time": "2023-09-05T17:43:57.980Z"
   },
   {
    "duration": 14,
    "start_time": "2023-09-05T17:44:19.427Z"
   },
   {
    "duration": 10,
    "start_time": "2023-09-05T17:44:25.542Z"
   },
   {
    "duration": 7,
    "start_time": "2023-09-05T17:45:13.839Z"
   },
   {
    "duration": 9,
    "start_time": "2023-09-05T17:45:21.691Z"
   },
   {
    "duration": 8,
    "start_time": "2023-09-05T17:45:39.154Z"
   },
   {
    "duration": 9,
    "start_time": "2023-09-05T17:46:18.924Z"
   },
   {
    "duration": 18,
    "start_time": "2023-09-05T17:47:10.404Z"
   },
   {
    "duration": 11,
    "start_time": "2023-09-05T17:47:31.467Z"
   },
   {
    "duration": 1028,
    "start_time": "2023-09-05T17:47:38.540Z"
   },
   {
    "duration": 12,
    "start_time": "2023-09-05T17:47:57.870Z"
   },
   {
    "duration": 1034,
    "start_time": "2023-09-05T17:48:16.673Z"
   },
   {
    "duration": 19,
    "start_time": "2023-09-05T17:48:42.379Z"
   },
   {
    "duration": 18,
    "start_time": "2023-09-05T17:50:46.703Z"
   },
   {
    "duration": 11,
    "start_time": "2023-09-05T17:50:50.280Z"
   },
   {
    "duration": 19,
    "start_time": "2023-09-05T17:50:56.304Z"
   },
   {
    "duration": 15,
    "start_time": "2023-09-05T17:51:32.057Z"
   },
   {
    "duration": 24,
    "start_time": "2023-09-05T17:52:51.032Z"
   },
   {
    "duration": 30,
    "start_time": "2023-09-05T17:54:38.701Z"
   },
   {
    "duration": 11,
    "start_time": "2023-09-05T17:58:49.921Z"
   },
   {
    "duration": 12,
    "start_time": "2023-09-05T17:59:03.818Z"
   },
   {
    "duration": 10,
    "start_time": "2023-09-05T17:59:17.356Z"
   },
   {
    "duration": 11,
    "start_time": "2023-09-05T17:59:34.271Z"
   },
   {
    "duration": 16,
    "start_time": "2023-09-05T18:01:17.844Z"
   },
   {
    "duration": 1126,
    "start_time": "2023-09-05T18:01:54.358Z"
   },
   {
    "duration": 1727,
    "start_time": "2023-09-05T18:02:15.379Z"
   },
   {
    "duration": 14,
    "start_time": "2023-09-05T18:02:22.083Z"
   },
   {
    "duration": 18,
    "start_time": "2023-09-05T18:02:53.782Z"
   },
   {
    "duration": 20,
    "start_time": "2023-09-05T18:06:35.066Z"
   },
   {
    "duration": 25,
    "start_time": "2023-09-05T18:11:05.396Z"
   },
   {
    "duration": 16,
    "start_time": "2023-09-05T18:11:23.175Z"
   },
   {
    "duration": 21,
    "start_time": "2023-09-05T18:12:48.745Z"
   },
   {
    "duration": 20,
    "start_time": "2023-09-05T18:15:26.893Z"
   },
   {
    "duration": 14,
    "start_time": "2023-09-05T18:16:08.067Z"
   },
   {
    "duration": 18,
    "start_time": "2023-09-05T18:17:01.838Z"
   },
   {
    "duration": 18,
    "start_time": "2023-09-05T18:17:52.055Z"
   },
   {
    "duration": 23,
    "start_time": "2023-09-05T18:18:50.797Z"
   },
   {
    "duration": 21,
    "start_time": "2023-09-05T18:27:30.025Z"
   },
   {
    "duration": 19,
    "start_time": "2023-09-05T18:37:10.237Z"
   },
   {
    "duration": 19,
    "start_time": "2023-09-05T18:48:17.349Z"
   },
   {
    "duration": 9,
    "start_time": "2023-09-05T19:00:48.586Z"
   },
   {
    "duration": 15,
    "start_time": "2023-09-05T19:01:06.032Z"
   },
   {
    "duration": 111,
    "start_time": "2023-09-05T19:01:10.704Z"
   },
   {
    "duration": 19,
    "start_time": "2023-09-05T19:01:11.871Z"
   },
   {
    "duration": 24,
    "start_time": "2023-09-05T19:02:02.140Z"
   },
   {
    "duration": 100,
    "start_time": "2023-09-05T19:02:14.025Z"
   },
   {
    "duration": 21,
    "start_time": "2023-09-05T19:02:16.081Z"
   },
   {
    "duration": 17,
    "start_time": "2023-09-05T19:02:54.548Z"
   },
   {
    "duration": 577,
    "start_time": "2023-09-05T19:03:00.177Z"
   },
   {
    "duration": 26,
    "start_time": "2023-09-05T19:03:00.756Z"
   },
   {
    "duration": 51,
    "start_time": "2023-09-05T19:03:00.784Z"
   },
   {
    "duration": 62,
    "start_time": "2023-09-05T19:03:00.844Z"
   },
   {
    "duration": 158,
    "start_time": "2023-09-05T19:03:00.909Z"
   },
   {
    "duration": 4,
    "start_time": "2023-09-05T19:03:01.069Z"
   },
   {
    "duration": 76,
    "start_time": "2023-09-05T19:03:01.075Z"
   },
   {
    "duration": 49,
    "start_time": "2023-09-05T19:03:01.154Z"
   },
   {
    "duration": 94,
    "start_time": "2023-09-05T19:03:01.205Z"
   },
   {
    "duration": 98,
    "start_time": "2023-09-05T19:03:01.304Z"
   },
   {
    "duration": 160,
    "start_time": "2023-09-05T19:03:01.404Z"
   },
   {
    "duration": 13,
    "start_time": "2023-09-05T19:03:01.566Z"
   },
   {
    "duration": 139,
    "start_time": "2023-09-05T19:03:01.581Z"
   },
   {
    "duration": 72,
    "start_time": "2023-09-05T19:03:01.722Z"
   },
   {
    "duration": 84,
    "start_time": "2023-09-05T19:03:01.796Z"
   },
   {
    "duration": 50,
    "start_time": "2023-09-05T19:03:01.882Z"
   },
   {
    "duration": 77,
    "start_time": "2023-09-05T19:03:01.934Z"
   },
   {
    "duration": 71,
    "start_time": "2023-09-05T19:03:02.013Z"
   },
   {
    "duration": 70,
    "start_time": "2023-09-05T19:03:02.087Z"
   },
   {
    "duration": 29,
    "start_time": "2023-09-05T19:03:02.160Z"
   },
   {
    "duration": 65,
    "start_time": "2023-09-05T19:03:02.191Z"
   },
   {
    "duration": 49,
    "start_time": "2023-09-05T19:03:02.259Z"
   },
   {
    "duration": 45,
    "start_time": "2023-09-05T19:03:02.315Z"
   },
   {
    "duration": 61,
    "start_time": "2023-09-05T19:03:02.363Z"
   },
   {
    "duration": 57,
    "start_time": "2023-09-05T19:03:02.427Z"
   },
   {
    "duration": 107,
    "start_time": "2023-09-05T19:19:16.563Z"
   },
   {
    "duration": 434,
    "start_time": "2023-09-05T20:16:56.189Z"
   },
   {
    "duration": 26,
    "start_time": "2023-09-05T20:16:56.625Z"
   },
   {
    "duration": 24,
    "start_time": "2023-09-05T20:16:56.652Z"
   },
   {
    "duration": 25,
    "start_time": "2023-09-05T20:16:56.678Z"
   },
   {
    "duration": 67,
    "start_time": "2023-09-05T20:16:56.706Z"
   },
   {
    "duration": 4,
    "start_time": "2023-09-05T20:16:56.774Z"
   },
   {
    "duration": 43,
    "start_time": "2023-09-05T20:16:56.780Z"
   },
   {
    "duration": 52,
    "start_time": "2023-09-05T20:16:56.825Z"
   },
   {
    "duration": 26,
    "start_time": "2023-09-05T20:16:56.879Z"
   },
   {
    "duration": 51,
    "start_time": "2023-09-05T20:16:56.906Z"
   },
   {
    "duration": 50,
    "start_time": "2023-09-05T20:16:56.959Z"
   },
   {
    "duration": 14,
    "start_time": "2023-09-05T20:16:57.010Z"
   },
   {
    "duration": 31,
    "start_time": "2023-09-05T20:16:57.026Z"
   },
   {
    "duration": 26,
    "start_time": "2023-09-05T20:16:57.059Z"
   },
   {
    "duration": 58,
    "start_time": "2023-09-05T20:16:57.086Z"
   },
   {
    "duration": 19,
    "start_time": "2023-09-05T20:16:57.145Z"
   },
   {
    "duration": 20,
    "start_time": "2023-09-05T20:16:57.165Z"
   },
   {
    "duration": 40,
    "start_time": "2023-09-05T20:16:57.187Z"
   },
   {
    "duration": 28,
    "start_time": "2023-09-05T20:16:57.229Z"
   },
   {
    "duration": 41,
    "start_time": "2023-09-05T20:16:57.259Z"
   },
   {
    "duration": 57,
    "start_time": "2023-09-05T20:16:57.302Z"
   },
   {
    "duration": 33,
    "start_time": "2023-09-05T20:16:57.361Z"
   },
   {
    "duration": 55,
    "start_time": "2023-09-05T20:16:57.396Z"
   },
   {
    "duration": 57,
    "start_time": "2023-09-05T20:16:57.455Z"
   },
   {
    "duration": 36,
    "start_time": "2023-09-05T20:16:57.514Z"
   },
   {
    "duration": 307,
    "start_time": "2023-09-05T20:24:36.778Z"
   },
   {
    "duration": 519,
    "start_time": "2023-09-06T21:46:51.997Z"
   },
   {
    "duration": 23,
    "start_time": "2023-09-06T21:46:52.518Z"
   },
   {
    "duration": 51,
    "start_time": "2023-09-06T21:46:52.543Z"
   },
   {
    "duration": 21,
    "start_time": "2023-09-06T21:46:52.596Z"
   },
   {
    "duration": 58,
    "start_time": "2023-09-06T21:46:52.619Z"
   },
   {
    "duration": 5,
    "start_time": "2023-09-06T21:46:52.679Z"
   },
   {
    "duration": 46,
    "start_time": "2023-09-06T21:46:52.685Z"
   },
   {
    "duration": 7,
    "start_time": "2023-09-06T21:46:52.733Z"
   },
   {
    "duration": 19,
    "start_time": "2023-09-06T21:46:52.742Z"
   },
   {
    "duration": 53,
    "start_time": "2023-09-06T21:46:52.762Z"
   },
   {
    "duration": 45,
    "start_time": "2023-09-06T21:46:52.818Z"
   },
   {
    "duration": 11,
    "start_time": "2023-09-06T21:46:52.864Z"
   },
   {
    "duration": 37,
    "start_time": "2023-09-06T21:46:52.876Z"
   },
   {
    "duration": 47,
    "start_time": "2023-09-06T21:46:52.916Z"
   },
   {
    "duration": 43,
    "start_time": "2023-09-06T21:46:52.965Z"
   },
   {
    "duration": 19,
    "start_time": "2023-09-06T21:46:53.010Z"
   },
   {
    "duration": 21,
    "start_time": "2023-09-06T21:46:53.030Z"
   },
   {
    "duration": 41,
    "start_time": "2023-09-06T21:46:53.053Z"
   },
   {
    "duration": 23,
    "start_time": "2023-09-06T21:46:53.095Z"
   },
   {
    "duration": 31,
    "start_time": "2023-09-06T21:46:53.120Z"
   },
   {
    "duration": 84,
    "start_time": "2023-09-06T21:46:53.152Z"
   },
   {
    "duration": 28,
    "start_time": "2023-09-06T21:46:53.238Z"
   },
   {
    "duration": 342,
    "start_time": "2023-09-06T21:46:53.267Z"
   },
   {
    "duration": 21,
    "start_time": "2023-09-06T21:46:53.610Z"
   },
   {
    "duration": 40,
    "start_time": "2023-09-06T21:46:53.633Z"
   },
   {
    "duration": 23,
    "start_time": "2023-09-06T21:46:53.675Z"
   },
   {
    "duration": 504,
    "start_time": "2023-09-06T21:52:59.285Z"
   },
   {
    "duration": 28,
    "start_time": "2023-09-06T21:52:59.791Z"
   },
   {
    "duration": 20,
    "start_time": "2023-09-06T21:52:59.820Z"
   },
   {
    "duration": 10,
    "start_time": "2023-09-06T21:52:59.842Z"
   },
   {
    "duration": 61,
    "start_time": "2023-09-06T21:52:59.853Z"
   },
   {
    "duration": 3,
    "start_time": "2023-09-06T21:52:59.916Z"
   },
   {
    "duration": 10,
    "start_time": "2023-09-06T21:52:59.920Z"
   },
   {
    "duration": 4,
    "start_time": "2023-09-06T21:52:59.931Z"
   },
   {
    "duration": 12,
    "start_time": "2023-09-06T21:52:59.936Z"
   },
   {
    "duration": 4,
    "start_time": "2023-09-06T21:52:59.952Z"
   },
   {
    "duration": 62,
    "start_time": "2023-09-06T21:52:59.957Z"
   },
   {
    "duration": 11,
    "start_time": "2023-09-06T21:53:00.022Z"
   },
   {
    "duration": 32,
    "start_time": "2023-09-06T21:53:00.034Z"
   },
   {
    "duration": 48,
    "start_time": "2023-09-06T21:53:00.067Z"
   },
   {
    "duration": 59,
    "start_time": "2023-09-06T21:53:00.117Z"
   },
   {
    "duration": 16,
    "start_time": "2023-09-06T21:53:00.178Z"
   },
   {
    "duration": 41,
    "start_time": "2023-09-06T21:53:00.196Z"
   },
   {
    "duration": 46,
    "start_time": "2023-09-06T21:53:00.238Z"
   },
   {
    "duration": 66,
    "start_time": "2023-09-06T21:53:00.286Z"
   },
   {
    "duration": 40,
    "start_time": "2023-09-06T21:53:00.354Z"
   },
   {
    "duration": 51,
    "start_time": "2023-09-06T21:53:00.395Z"
   },
   {
    "duration": 35,
    "start_time": "2023-09-06T21:53:00.447Z"
   },
   {
    "duration": 338,
    "start_time": "2023-09-06T21:53:00.483Z"
   },
   {
    "duration": 18,
    "start_time": "2023-09-06T21:53:00.823Z"
   },
   {
    "duration": 85,
    "start_time": "2023-09-06T21:53:00.843Z"
   },
   {
    "duration": 61,
    "start_time": "2023-09-06T21:53:00.929Z"
   },
   {
    "duration": 286,
    "start_time": "2023-09-06T21:54:31.601Z"
   }
  ],
  "colab": {
   "name": "dpp_template_part2.ipynb",
   "provenance": []
  },
  "kernelspec": {
   "display_name": "Python 3 (ipykernel)",
   "language": "python",
   "name": "python3"
  },
  "language_info": {
   "codemirror_mode": {
    "name": "ipython",
    "version": 3
   },
   "file_extension": ".py",
   "mimetype": "text/x-python",
   "name": "python",
   "nbconvert_exporter": "python",
   "pygments_lexer": "ipython3",
   "version": "3.9.5"
  },
  "toc": {
   "base_numbering": 1,
   "nav_menu": {},
   "number_sections": true,
   "sideBar": true,
   "skip_h1_title": true,
   "title_cell": "Table of Contents",
   "title_sidebar": "Contents",
   "toc_cell": true,
   "toc_position": {
    "height": "calc(100% - 180px)",
    "left": "10px",
    "top": "150px",
    "width": "294.4px"
   },
   "toc_section_display": true,
   "toc_window_display": true
  }
 },
 "nbformat": 4,
 "nbformat_minor": 5
}
